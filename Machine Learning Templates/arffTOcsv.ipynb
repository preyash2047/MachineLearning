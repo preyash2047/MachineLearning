{
  "nbformat": 4,
  "nbformat_minor": 0,
  "metadata": {
    "colab": {
      "name": "arffTOcsv.ipynb",
      "provenance": [],
      "collapsed_sections": []
    },
    "kernelspec": {
      "name": "python3",
      "display_name": "Python 3"
    }
  },
  "cells": [
    {
      "cell_type": "code",
      "metadata": {
        "id": "I80ExLbt_eC5",
        "colab_type": "code",
        "colab": {}
      },
      "source": [
        "import re\n",
        "def arffTOcsv(file_in, file_out):\n",
        "    columns = []\n",
        "    data = []\n",
        "    with open(file_in, 'r') as f:\n",
        "        data_flag = 0\n",
        "        for line in f:\n",
        "            if line[:2] == '@a':\n",
        "                # find indices\n",
        "                indices = [i for i, x in enumerate(line) if x == ' ']\n",
        "                columns.append(re.sub(r'^[\\'\\\"]|[\\'\\\"]$|\\\\+', '', line[indices[0] + 1:indices[-1]]))\n",
        "            elif line[:2] == '@d':\n",
        "                data_flag = 1\n",
        "            elif data_flag == 1:\n",
        "                data.append(line)\n",
        "\n",
        "    content = ','.join(columns) + '\\n' + ''.join(data)\n",
        "\n",
        "    # save to file\n",
        "    with open(file_out, 'w') as f:\n",
        "        f.write(content)\n",
        "\n",
        "# setting arff file path\n",
        "file_attr_in = r'Amazon_initial_50_30_10000.arff'\n",
        "# setting output csv file path\n",
        "file_csv_out = r\"Amazon_initial_50_30_10000.csv\"\n",
        "# arffTOcsv\n",
        "arffTOcsv(file_attr_in, file_csv_out)"
      ],
      "execution_count": null,
      "outputs": []
    }
  ]
}