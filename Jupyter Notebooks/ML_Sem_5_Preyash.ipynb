{
  "nbformat": 4,
  "nbformat_minor": 0,
  "metadata": {
    "colab": {
      "name": "ML Sem 5 Preyash.ipynb",
      "provenance": [],
      "collapsed_sections": [],
      "toc_visible": true
    },
    "kernelspec": {
      "name": "python3",
      "display_name": "Python 3"
    }
  },
  "cells": [
    {
      "cell_type": "markdown",
      "metadata": {
        "id": "YjVyWbxeIAcj",
        "colab_type": "text"
      },
      "source": [
        "### Q 1.\n",
        "Answer Questions 1 to 5 using the customerspends.csv Dataset An online grocery store has captured amount spent per annum (in Indian rupees) by 20 customers on apparel and beauty and healthcare products and given in the file customerspends.csv. It contains the following records.\n",
        "\n",
        "* Customer − Customer ID\n",
        "* Apparel − Amount spent in apparel products \n",
        "* Beauty and Healthcare − Amount spent in beauty and healthcare products"
      ]
    },
    {
      "cell_type": "code",
      "metadata": {
        "id": "wqTuRv-QH5KF",
        "colab_type": "code",
        "colab": {}
      },
      "source": [
        "import numpy as np\n",
        "import matplotlib.pyplot as plt\n",
        "import pandas as pd"
      ],
      "execution_count": 1,
      "outputs": []
    },
    {
      "cell_type": "code",
      "metadata": {
        "id": "rpEEg1dHJgCp",
        "colab_type": "code",
        "colab": {
          "base_uri": "https://localhost:8080/",
          "height": 195
        },
        "outputId": "000d615d-5fe0-413d-dafd-0721a00fe18d"
      },
      "source": [
        "dataset = pd.read_csv(\"customerspends.csv\")\n",
        "dataset = dataset.drop(columns=[\"Customer\"],axis=1)\n",
        "dataset.head()"
      ],
      "execution_count": 25,
      "outputs": [
        {
          "output_type": "execute_result",
          "data": {
            "text/html": [
              "<div>\n",
              "<style scoped>\n",
              "    .dataframe tbody tr th:only-of-type {\n",
              "        vertical-align: middle;\n",
              "    }\n",
              "\n",
              "    .dataframe tbody tr th {\n",
              "        vertical-align: top;\n",
              "    }\n",
              "\n",
              "    .dataframe thead th {\n",
              "        text-align: right;\n",
              "    }\n",
              "</style>\n",
              "<table border=\"1\" class=\"dataframe\">\n",
              "  <thead>\n",
              "    <tr style=\"text-align: right;\">\n",
              "      <th></th>\n",
              "      <th>Apparel</th>\n",
              "      <th>Beauty and Healthcare</th>\n",
              "    </tr>\n",
              "  </thead>\n",
              "  <tbody>\n",
              "    <tr>\n",
              "      <th>0</th>\n",
              "      <td>21.10</td>\n",
              "      <td>0.7</td>\n",
              "    </tr>\n",
              "    <tr>\n",
              "      <th>1</th>\n",
              "      <td>15.23</td>\n",
              "      <td>5.5</td>\n",
              "    </tr>\n",
              "    <tr>\n",
              "      <th>2</th>\n",
              "      <td>5.22</td>\n",
              "      <td>18.6</td>\n",
              "    </tr>\n",
              "    <tr>\n",
              "      <th>3</th>\n",
              "      <td>31.10</td>\n",
              "      <td>1.8</td>\n",
              "    </tr>\n",
              "    <tr>\n",
              "      <th>4</th>\n",
              "      <td>6.12</td>\n",
              "      <td>21.5</td>\n",
              "    </tr>\n",
              "  </tbody>\n",
              "</table>\n",
              "</div>"
            ],
            "text/plain": [
              "   Apparel  Beauty and Healthcare\n",
              "0    21.10                    0.7\n",
              "1    15.23                    5.5\n",
              "2     5.22                   18.6\n",
              "3    31.10                    1.8\n",
              "4     6.12                   21.5"
            ]
          },
          "metadata": {
            "tags": []
          },
          "execution_count": 25
        }
      ]
    },
    {
      "cell_type": "markdown",
      "metadata": {
        "id": "FdBLj8jHJc9i",
        "colab_type": "text"
      },
      "source": [
        "#### 1. Create a scatter plot to depict the customer spends on apparel and beauty and healthcare products. Identify number of clusters existing in the dataset."
      ]
    },
    {
      "cell_type": "code",
      "metadata": {
        "id": "kUIepbiJJe04",
        "colab_type": "code",
        "colab": {
          "base_uri": "https://localhost:8080/",
          "height": 295
        },
        "outputId": "d9842046-f704-4c4e-cd9d-2ec815fd0415"
      },
      "source": [
        "plt.scatter(dataset.Apparel, dataset[\"Beauty and Healthcare\"])\n",
        "plt.xlabel(\"Apparel\")\n",
        "plt.ylabel(\"Beauty and Healthcare\")\n",
        "plt.title(\"Apparel and Healthcare Spent by Customer\")\n",
        "plt.show()"
      ],
      "execution_count": 26,
      "outputs": [
        {
          "output_type": "display_data",
          "data": {
            "image/png": "[encoded data removed]",
            "text/plain": [
              "<Figure size 432x288 with 1 Axes>"
            ]
          },
          "metadata": {
            "tags": [],
            "needs_background": "light"
          }
        }
      ]
    },
    {
      "cell_type": "markdown",
      "metadata": {
        "id": "RUVW3KHNLu3Y",
        "colab_type": "text"
      },
      "source": [
        "Ans: By looking at the scatter ploat we can decide there are 3 clusters"
      ]
    },
    {
      "cell_type": "markdown",
      "metadata": {
        "id": "HY6AN9ZwJDVw",
        "colab_type": "text"
      },
      "source": [
        "#### 2. Normalize the features using StandardScaler and plot them in the scatter plot again."
      ]
    },
    {
      "cell_type": "code",
      "metadata": {
        "id": "qJlcVc1qJEjo",
        "colab_type": "code",
        "colab": {}
      },
      "source": [
        "from sklearn.preprocessing import StandardScaler\n",
        "sc = StandardScaler()\n",
        "dataset = sc.fit_transform(dataset)"
      ],
      "execution_count": 28,
      "outputs": []
    },
    {
      "cell_type": "code",
      "metadata": {
        "id": "rLyveJv8MeTE",
        "colab_type": "code",
        "colab": {
          "base_uri": "https://localhost:8080/",
          "height": 369
        },
        "outputId": "dd2bc400-be78-450d-c2bc-4a1405530de4"
      },
      "source": [
        "dataset"
      ],
      "execution_count": 30,
      "outputs": [
        {
          "output_type": "execute_result",
          "data": {
            "text/plain": [
              "array([[ 0.892371  , -1.26688022],\n",
              "       [ 0.20647107, -0.59775334],\n",
              "       [-0.96318111,  1.22840542],\n",
              "       [ 2.06085469, -1.11353864],\n",
              "       [-0.85801758,  1.63266957],\n",
              "       [ 0.12117176, -0.22136947],\n",
              "       [-0.57991846,  0.89384198],\n",
              "       [ 1.52335219, -1.05777807],\n",
              "       [-1.06600768,  1.10294413],\n",
              "       [ 0.03353548, -0.34683076],\n",
              "       [-0.96551808,  0.89384198],\n",
              "       [ 0.08611725, -0.96019707],\n",
              "       [-1.05899677,  1.33992657],\n",
              "       [-1.07652403,  0.79626098],\n",
              "       [ 1.03258904, -1.23899993],\n",
              "       [-0.65002748,  1.25628571],\n",
              "       [-0.00736145, -0.7789752 ],\n",
              "       [ 2.00243051, -1.0995985 ],\n",
              "       [ 0.10948692, -0.48902022],\n",
              "       [-0.84282729,  0.02676507]])"
            ]
          },
          "metadata": {
            "tags": []
          },
          "execution_count": 30
        }
      ]
    },
    {
      "cell_type": "code",
      "metadata": {
        "colab_type": "code",
        "id": "oxHeI7x8MCME",
        "colab": {
          "base_uri": "https://localhost:8080/",
          "height": 295
        },
        "outputId": "62de1be3-5f31-43a9-9a8f-c27e86b7ec7e"
      },
      "source": [
        "plt.scatter(dataset[:,0], dataset[:,1])\n",
        "plt.xlabel(\"Apparel\")\n",
        "plt.ylabel(\"Beauty and Healthcare\")\n",
        "plt.title(\"Apparel and Healthcare Spent by Customer\")\n",
        "plt.show()"
      ],
      "execution_count": 31,
      "outputs": [
        {
          "output_type": "display_data",
          "data": {
            "image/png": "[encoded data removed]",
            "text/plain": [
              "<Figure size 432x288 with 1 Axes>"
            ]
          },
          "metadata": {
            "tags": [],
            "needs_background": "light"
          }
        }
      ]
    },
    {
      "cell_type": "markdown",
      "metadata": {
        "id": "XJB6Vl0mMva-",
        "colab_type": "text"
      },
      "source": [
        "Ans: Getting the same conclusion as we have recived without Standard Scaler that is there are 3 clusters"
      ]
    },
    {
      "cell_type": "markdown",
      "metadata": {
        "id": "3NTWbuKKJGL4",
        "colab_type": "text"
      },
      "source": [
        "#### 3. Use dendrogram and elbow method to verify if the number of clusters suggested is same as clusters visible in the scatter plot in Question 1."
      ]
    },
    {
      "cell_type": "code",
      "metadata": {
        "id": "WTUqq3JTJIQa",
        "colab_type": "code",
        "colab": {
          "base_uri": "https://localhost:8080/",
          "height": 298
        },
        "outputId": "fcdfd9fc-bd0d-4be2-f94f-a6d7f2ee0a22"
      },
      "source": [
        "import scipy.cluster.hierarchy as sch\n",
        "dendrogram = sch.dendrogram(sch.linkage(dataset, method = 'ward'))\n",
        "plt.title('Dendrogram')\n",
        "plt.xlabel(\"Apparel\")\n",
        "plt.ylabel(\"Beauty and Healthcare\")\n",
        "plt.show()"
      ],
      "execution_count": 33,
      "outputs": [
        {
          "output_type": "display_data",
          "data": {
            "image/png": "[encoded data removed]",
            "text/plain": [
              "<Figure size 432x288 with 1 Axes>"
            ]
          },
          "metadata": {
            "tags": [],
            "needs_background": "light"
          }
        }
      ]
    },
    {
      "cell_type": "code",
      "metadata": {
        "id": "DLWq3ttMJKbj",
        "colab_type": "code",
        "colab": {
          "base_uri": "https://localhost:8080/",
          "height": 295
        },
        "outputId": "1ee80fa1-3c0c-4958-9219-3dc5003ed985"
      },
      "source": [
        "from sklearn.cluster import KMeans\n",
        "wcss = []\n",
        "for i in range(1, 5):\n",
        "    kmeans = KMeans(n_clusters = i, init = 'k-means++', random_state = 42)\n",
        "    kmeans.fit(dataset)\n",
        "    wcss.append(kmeans.inertia_)\n",
        "plt.plot(range(1, 5), wcss)\n",
        "plt.title('The Elbow Method')\n",
        "plt.xlabel(\"Apparel\")\n",
        "plt.ylabel(\"Beauty and Healthcare\")\n",
        "plt.show()"
      ],
      "execution_count": 35,
      "outputs": [
        {
          "output_type": "display_data",
          "data": {
            "image/png": "[encoded data removed]",
            "text/plain": [
              "<Figure size 432x288 with 1 Axes>"
            ]
          },
          "metadata": {
            "tags": [],
            "needs_background": "light"
          }
        }
      ]
    },
    {
      "cell_type": "markdown",
      "metadata": {
        "id": "vpNOxNWuO2DZ",
        "colab_type": "text"
      },
      "source": [
        "Ans: Getting the same conclusion as received earliner ie. there is three clusters"
      ]
    },
    {
      "cell_type": "markdown",
      "metadata": {
        "id": "kQ0tYs3EJIil",
        "colab_type": "text"
      },
      "source": [
        "#### 4. Create the number of clusters as suggested by the elbow method using K-means algorithm."
      ]
    },
    {
      "cell_type": "code",
      "metadata": {
        "id": "dAQf4YQbQ6nQ",
        "colab_type": "code",
        "colab": {}
      },
      "source": [
        "dataset = pd.read_csv(\"customerspends.csv\")\n",
        "dataset = dataset.drop(columns=[\"Customer\"],axis=1)"
      ],
      "execution_count": 48,
      "outputs": []
    },
    {
      "cell_type": "code",
      "metadata": {
        "id": "fbOazUctJMnY",
        "colab_type": "code",
        "colab": {}
      },
      "source": [
        "from sklearn.cluster import AgglomerativeClustering\n",
        "cluster = AgglomerativeClustering(n_clusters=3, affinity = 'euclidean', linkage = 'ward')\n",
        "y_hc = cluster.fit_predict(dataset)"
      ],
      "execution_count": 49,
      "outputs": []
    },
    {
      "cell_type": "markdown",
      "metadata": {
        "id": "xcZQN6hEJK3S",
        "colab_type": "text"
      },
      "source": [
        "#### 5. Print the records of customers in each cluster and the cluster center of each cluster separately. Explain the clusters intuitively."
      ]
    },
    {
      "cell_type": "code",
      "metadata": {
        "id": "GvJYYrSaP_CP",
        "colab_type": "code",
        "colab": {
          "base_uri": "https://localhost:8080/",
          "height": 166
        },
        "outputId": "58f96c66-9d48-4378-bfd5-f1ef201e72a4"
      },
      "source": [
        "dataset[\"Cluster\"] = y_hc\n",
        "cluster_data = dataset.groupby(by = \"Cluster\").mean()\n",
        "cluster_data_count = []\n",
        "for i in range(3):\n",
        "  cluster_data_count.append((dataset.Cluster[dataset.Cluster == i]).count())\n",
        "\n",
        "cluster_data[\"Count\"] = cluster_data_count\n",
        "cluster_data"
      ],
      "execution_count": 50,
      "outputs": [
        {
          "output_type": "execute_result",
          "data": {
            "text/html": [
              "<div>\n",
              "<style scoped>\n",
              "    .dataframe tbody tr th:only-of-type {\n",
              "        vertical-align: middle;\n",
              "    }\n",
              "\n",
              "    .dataframe tbody tr th {\n",
              "        vertical-align: top;\n",
              "    }\n",
              "\n",
              "    .dataframe thead th {\n",
              "        text-align: right;\n",
              "    }\n",
              "</style>\n",
              "<table border=\"1\" class=\"dataframe\">\n",
              "  <thead>\n",
              "    <tr style=\"text-align: right;\">\n",
              "      <th></th>\n",
              "      <th>Apparel</th>\n",
              "      <th>Beauty and Healthcare</th>\n",
              "      <th>Count</th>\n",
              "    </tr>\n",
              "    <tr>\n",
              "      <th>Cluster</th>\n",
              "      <th></th>\n",
              "      <th></th>\n",
              "      <th></th>\n",
              "    </tr>\n",
              "  </thead>\n",
              "  <tbody>\n",
              "    <tr>\n",
              "      <th>0</th>\n",
              "      <td>26.320000</td>\n",
              "      <td>1.500000</td>\n",
              "      <td>5</td>\n",
              "    </tr>\n",
              "    <tr>\n",
              "      <th>1</th>\n",
              "      <td>5.797778</td>\n",
              "      <td>17.097778</td>\n",
              "      <td>9</td>\n",
              "    </tr>\n",
              "    <tr>\n",
              "      <th>2</th>\n",
              "      <td>14.246667</td>\n",
              "      <td>5.730000</td>\n",
              "      <td>6</td>\n",
              "    </tr>\n",
              "  </tbody>\n",
              "</table>\n",
              "</div>"
            ],
            "text/plain": [
              "           Apparel  Beauty and Healthcare  Count\n",
              "Cluster                                         \n",
              "0        26.320000               1.500000      5\n",
              "1         5.797778              17.097778      9\n",
              "2        14.246667               5.730000      6"
            ]
          },
          "metadata": {
            "tags": []
          },
          "execution_count": 50
        }
      ]
    },
    {
      "cell_type": "markdown",
      "metadata": {
        "id": "vMFesmGBRAhr",
        "colab_type": "text"
      },
      "source": [
        "Ans: following are the colnclusion:\n",
        "* out of 20 customers 5 are in cluster 0 who spent highest in Appareal and lowest in Healthcare\n",
        "* out of 20 customers 9 are in cluster 1 who spent highest in Healthcare and lowest in Appareal\n",
        "* out of 20 customers 6 are in cluster 2 who spent average in Healthcare as well as Appareal"
      ]
    },
    {
      "cell_type": "markdown",
      "metadata": {
        "id": "PklQlb4BSwwO",
        "colab_type": "text"
      },
      "source": [
        "\n",
        "\n",
        "---\n",
        "\n"
      ]
    },
    {
      "cell_type": "markdown",
      "metadata": {
        "id": "im89N1pLSXBI",
        "colab_type": "text"
      },
      "source": [
        "### Q 2.\n",
        "Answer Questions 1 to 5 using the Income Data.csv Dataset A Company wants to increase its brand awareness to appeal to all its existing or possible future customers, it must design a campaign. The company can design a single campaign to address all its customers. But what if its customers have different characteristics such as varied income, age, preferences, profession, gender? The same campaign may not appeal to all of them. The company can think of running multiple campaigns targeting different customer segments. For that consider Income Data.csv that stores the data of income and age of each customers.\n"
      ]
    },
    {
      "cell_type": "code",
      "metadata": {
        "colab_type": "code",
        "id": "2ep3_Zw0T_w_",
        "colab": {}
      },
      "source": [
        "import numpy as np\n",
        "import matplotlib.pyplot as plt\n",
        "import pandas as pd"
      ],
      "execution_count": 104,
      "outputs": []
    },
    {
      "cell_type": "code",
      "metadata": {
        "colab_type": "code",
        "id": "gD2I47axT_xF",
        "colab": {
          "base_uri": "https://localhost:8080/",
          "height": 195
        },
        "outputId": "24bb9044-92a9-466c-ef51-2bb9c49612ec"
      },
      "source": [
        "dataset = pd.read_csv(\"Income Data.csv\")\n",
        "dataset.head()"
      ],
      "execution_count": 105,
      "outputs": [
        {
          "output_type": "execute_result",
          "data": {
            "text/html": [
              "<div>\n",
              "<style scoped>\n",
              "    .dataframe tbody tr th:only-of-type {\n",
              "        vertical-align: middle;\n",
              "    }\n",
              "\n",
              "    .dataframe tbody tr th {\n",
              "        vertical-align: top;\n",
              "    }\n",
              "\n",
              "    .dataframe thead th {\n",
              "        text-align: right;\n",
              "    }\n",
              "</style>\n",
              "<table border=\"1\" class=\"dataframe\">\n",
              "  <thead>\n",
              "    <tr style=\"text-align: right;\">\n",
              "      <th></th>\n",
              "      <th>income</th>\n",
              "      <th>age</th>\n",
              "    </tr>\n",
              "  </thead>\n",
              "  <tbody>\n",
              "    <tr>\n",
              "      <th>0</th>\n",
              "      <td>41100.0</td>\n",
              "      <td>48.75</td>\n",
              "    </tr>\n",
              "    <tr>\n",
              "      <th>1</th>\n",
              "      <td>54100.0</td>\n",
              "      <td>28.10</td>\n",
              "    </tr>\n",
              "    <tr>\n",
              "      <th>2</th>\n",
              "      <td>47800.0</td>\n",
              "      <td>46.75</td>\n",
              "    </tr>\n",
              "    <tr>\n",
              "      <th>3</th>\n",
              "      <td>19100.0</td>\n",
              "      <td>40.25</td>\n",
              "    </tr>\n",
              "    <tr>\n",
              "      <th>4</th>\n",
              "      <td>18200.0</td>\n",
              "      <td>35.80</td>\n",
              "    </tr>\n",
              "  </tbody>\n",
              "</table>\n",
              "</div>"
            ],
            "text/plain": [
              "    income    age\n",
              "0  41100.0  48.75\n",
              "1  54100.0  28.10\n",
              "2  47800.0  46.75\n",
              "3  19100.0  40.25\n",
              "4  18200.0  35.80"
            ]
          },
          "metadata": {
            "tags": []
          },
          "execution_count": 105
        }
      ]
    },
    {
      "cell_type": "markdown",
      "metadata": {
        "id": "5iPjecDhTFck",
        "colab_type": "text"
      },
      "source": [
        "#### 1.\tCreate a scatter plot to depict how many number of clusters exists into the dataset."
      ]
    },
    {
      "cell_type": "code",
      "metadata": {
        "colab_type": "code",
        "id": "tjuJ0Ky0T3Os",
        "colab": {
          "base_uri": "https://localhost:8080/",
          "height": 295
        },
        "outputId": "cd3e78c9-a3c1-49bd-ca48-db289ac92547"
      },
      "source": [
        "plt.scatter(dataset.income, dataset.age)\n",
        "plt.xlabel(\"Income\")\n",
        "plt.ylabel(\"Age\")\n",
        "plt.title(\"Income vs Age\")\n",
        "plt.show()"
      ],
      "execution_count": 106,
      "outputs": [
        {
          "output_type": "display_data",
          "data": {
            "image/png": "[encoded data removed]",
            "text/plain": [
              "<Figure size 432x288 with 1 Axes>"
            ]
          },
          "metadata": {
            "tags": [],
            "needs_background": "light"
          }
        }
      ]
    },
    {
      "cell_type": "markdown",
      "metadata": {
        "colab_type": "text",
        "id": "0A5MbjYMT3Ow"
      },
      "source": [
        "Ans: By looking at the scatter ploat we can decide there are 3 clusters"
      ]
    },
    {
      "cell_type": "markdown",
      "metadata": {
        "id": "NXZ1vBM5TK8h",
        "colab_type": "text"
      },
      "source": [
        "#### 2.\tNormalize the features using StandardScaler and plot them in the scatter plot again."
      ]
    },
    {
      "cell_type": "code",
      "metadata": {
        "colab_type": "code",
        "id": "Oi_XV6_6Uj5C",
        "colab": {}
      },
      "source": [
        "from sklearn.preprocessing import StandardScaler\n",
        "sc = StandardScaler()\n",
        "dataset = sc.fit_transform(dataset)"
      ],
      "execution_count": 107,
      "outputs": []
    },
    {
      "cell_type": "code",
      "metadata": {
        "colab_type": "code",
        "id": "q-8FirheUj5G",
        "colab": {
          "base_uri": "https://localhost:8080/",
          "height": 105
        },
        "outputId": "79da597f-d8a7-4ddb-b0ee-1de435936248"
      },
      "source": [
        "dataset[:5]"
      ],
      "execution_count": 108,
      "outputs": [
        {
          "output_type": "execute_result",
          "data": {
            "text/plain": [
              "array([[ 0.09718548,  1.3701637 ],\n",
              "       [ 0.90602749, -1.3791283 ],\n",
              "       [ 0.51405021,  1.10388844],\n",
              "       [-1.27162408,  0.23849387],\n",
              "       [-1.32762083, -0.35396857]])"
            ]
          },
          "metadata": {
            "tags": []
          },
          "execution_count": 108
        }
      ]
    },
    {
      "cell_type": "code",
      "metadata": {
        "colab_type": "code",
        "id": "sY6pyfqdUj5J",
        "colab": {
          "base_uri": "https://localhost:8080/",
          "height": 295
        },
        "outputId": "e9464502-1de7-45e0-d6f4-4f70060b03ec"
      },
      "source": [
        "plt.scatter(dataset[:,0], dataset[:,1])\n",
        "plt.xlabel(\"Income\")\n",
        "plt.ylabel(\"Age\")\n",
        "plt.title(\"Income vs Age\")\n",
        "plt.show()"
      ],
      "execution_count": 109,
      "outputs": [
        {
          "output_type": "display_data",
          "data": {
            "image/png": "[encoded data removed]",
            "text/plain": [
              "<Figure size 432x288 with 1 Axes>"
            ]
          },
          "metadata": {
            "tags": [],
            "needs_background": "light"
          }
        }
      ]
    },
    {
      "cell_type": "markdown",
      "metadata": {
        "colab_type": "text",
        "id": "wvSD51oHUj5L"
      },
      "source": [
        "Ans: Getting the same conclusion as we have recived without Standard Scaler that is there are 3 clusters"
      ]
    },
    {
      "cell_type": "markdown",
      "metadata": {
        "id": "VGuMy5nsTNUp",
        "colab_type": "text"
      },
      "source": [
        "#### 3.\tUse dendrogram and elbow method to verify if the number of clusters suggested is same as clusters visible in the scatter plot in Question 1."
      ]
    },
    {
      "cell_type": "code",
      "metadata": {
        "colab_type": "code",
        "id": "3pBDcPw0VE-T",
        "colab": {
          "base_uri": "https://localhost:8080/",
          "height": 295
        },
        "outputId": "bca00bd4-23b4-483f-b53e-1f28c5094cad"
      },
      "source": [
        "import scipy.cluster.hierarchy as sch\n",
        "dendrogram = sch.dendrogram(sch.linkage(dataset, method = 'ward'))\n",
        "plt.xlabel(\"Income\")\n",
        "plt.ylabel(\"Age\")\n",
        "plt.title(\"Dendrogram\")\n",
        "plt.show()"
      ],
      "execution_count": 110,
      "outputs": [
        {
          "output_type": "display_data",
          "data": {
            "image/png": "[encoded data removed]",
            "text/plain": [
              "<Figure size 432x288 with 1 Axes>"
            ]
          },
          "metadata": {
            "tags": [],
            "needs_background": "light"
          }
        }
      ]
    },
    {
      "cell_type": "markdown",
      "metadata": {
        "colab_type": "text",
        "id": "aXZkI0VvVE-W"
      },
      "source": [
        "Ans: Getting the same conclusion as received earliner ie. there is three clusters"
      ]
    },
    {
      "cell_type": "code",
      "metadata": {
        "colab_type": "code",
        "id": "0qMsKTe5VE-X",
        "colab": {
          "base_uri": "https://localhost:8080/",
          "height": 295
        },
        "outputId": "840ec21a-a05f-4f91-ad6b-3dd07cde38ec"
      },
      "source": [
        "from sklearn.cluster import KMeans\n",
        "wcss = []\n",
        "for i in range(1, 5):\n",
        "    kmeans = KMeans(n_clusters = i, init = 'k-means++', random_state = 42)\n",
        "    kmeans.fit(dataset)\n",
        "    wcss.append(kmeans.inertia_)\n",
        "\n",
        "plt.plot(range(1, 5), wcss)\n",
        "plt.title('The Elbow Method')\n",
        "plt.xlabel(\"Income\")\n",
        "plt.ylabel(\"Age\")\n",
        "plt.show()"
      ],
      "execution_count": 111,
      "outputs": [
        {
          "output_type": "display_data",
          "data": {
            "image/png": "[encoded data removed]",
            "text/plain": [
              "<Figure size 432x288 with 1 Axes>"
            ]
          },
          "metadata": {
            "tags": [],
            "needs_background": "light"
          }
        }
      ]
    },
    {
      "cell_type": "markdown",
      "metadata": {
        "colab_type": "text",
        "id": "BqgbWILRVE-a"
      },
      "source": [
        "Ans: Getting the same conclusion as received earliner ie. there is three clusters"
      ]
    },
    {
      "cell_type": "markdown",
      "metadata": {
        "id": "kS-fwuiuTOA_",
        "colab_type": "text"
      },
      "source": [
        "#### 4.\tCreate the number of clusters as suggested by the elbow method using K-means algorithm."
      ]
    },
    {
      "cell_type": "code",
      "metadata": {
        "colab_type": "code",
        "id": "J-DBtxkqVwma",
        "colab": {}
      },
      "source": [
        "from sklearn.cluster import AgglomerativeClustering\n",
        "cluster = AgglomerativeClustering(n_clusters=3, affinity = 'euclidean', linkage = 'ward')\n",
        "y_hc = cluster.fit_predict(dataset)"
      ],
      "execution_count": 112,
      "outputs": []
    },
    {
      "cell_type": "markdown",
      "metadata": {
        "id": "724mAG97TOlB",
        "colab_type": "text"
      },
      "source": [
        "#### 5. Print the records of customers in each cluster and the cluster center of each cluster separately. Explain the clusters intuitively."
      ]
    },
    {
      "cell_type": "code",
      "metadata": {
        "id": "DLSGKXGnWkhM",
        "colab_type": "code",
        "colab": {}
      },
      "source": [
        "dataset = sc.inverse_transform(dataset)"
      ],
      "execution_count": 117,
      "outputs": []
    },
    {
      "cell_type": "code",
      "metadata": {
        "id": "hJd8Y2jzWGgB",
        "colab_type": "code",
        "colab": {
          "base_uri": "https://localhost:8080/",
          "height": 195
        },
        "outputId": "dbcb6802-c13f-4a1a-cbb2-33bbb8c8d8e3"
      },
      "source": [
        "dataset = pd.DataFrame(dataset,columns=[\"Income\", \"Age\"])\n",
        "dataset.head()"
      ],
      "execution_count": 118,
      "outputs": [
        {
          "output_type": "execute_result",
          "data": {
            "text/html": [
              "<div>\n",
              "<style scoped>\n",
              "    .dataframe tbody tr th:only-of-type {\n",
              "        vertical-align: middle;\n",
              "    }\n",
              "\n",
              "    .dataframe tbody tr th {\n",
              "        vertical-align: top;\n",
              "    }\n",
              "\n",
              "    .dataframe thead th {\n",
              "        text-align: right;\n",
              "    }\n",
              "</style>\n",
              "<table border=\"1\" class=\"dataframe\">\n",
              "  <thead>\n",
              "    <tr style=\"text-align: right;\">\n",
              "      <th></th>\n",
              "      <th>Income</th>\n",
              "      <th>Age</th>\n",
              "    </tr>\n",
              "  </thead>\n",
              "  <tbody>\n",
              "    <tr>\n",
              "      <th>0</th>\n",
              "      <td>41100.0</td>\n",
              "      <td>48.75</td>\n",
              "    </tr>\n",
              "    <tr>\n",
              "      <th>1</th>\n",
              "      <td>54100.0</td>\n",
              "      <td>28.10</td>\n",
              "    </tr>\n",
              "    <tr>\n",
              "      <th>2</th>\n",
              "      <td>47800.0</td>\n",
              "      <td>46.75</td>\n",
              "    </tr>\n",
              "    <tr>\n",
              "      <th>3</th>\n",
              "      <td>19100.0</td>\n",
              "      <td>40.25</td>\n",
              "    </tr>\n",
              "    <tr>\n",
              "      <th>4</th>\n",
              "      <td>18200.0</td>\n",
              "      <td>35.80</td>\n",
              "    </tr>\n",
              "  </tbody>\n",
              "</table>\n",
              "</div>"
            ],
            "text/plain": [
              "    Income    Age\n",
              "0  41100.0  48.75\n",
              "1  54100.0  28.10\n",
              "2  47800.0  46.75\n",
              "3  19100.0  40.25\n",
              "4  18200.0  35.80"
            ]
          },
          "metadata": {
            "tags": []
          },
          "execution_count": 118
        }
      ]
    },
    {
      "cell_type": "code",
      "metadata": {
        "colab_type": "code",
        "id": "0x9VWoh2V3ov",
        "colab": {}
      },
      "source": [
        "dataset[\"Cluster\"] = y_hc\n",
        "cluster_data = dataset.groupby(by = \"Cluster\").mean()\n",
        "cluster_data_count = []\n",
        "for i in range(3):\n",
        "  cluster_data_count.append((dataset.Cluster[dataset.Cluster == i]).count())\n",
        "\n",
        "cluster_data[\"Count\"] = cluster_data_count"
      ],
      "execution_count": 119,
      "outputs": []
    },
    {
      "cell_type": "code",
      "metadata": {
        "id": "jkK21AlzYhJW",
        "colab_type": "code",
        "colab": {
          "base_uri": "https://localhost:8080/",
          "height": 166
        },
        "outputId": "f4ba766c-36ed-4aa5-c089-4497e41e0755"
      },
      "source": [
        "cluster_data"
      ],
      "execution_count": 120,
      "outputs": [
        {
          "output_type": "execute_result",
          "data": {
            "text/html": [
              "<div>\n",
              "<style scoped>\n",
              "    .dataframe tbody tr th:only-of-type {\n",
              "        vertical-align: middle;\n",
              "    }\n",
              "\n",
              "    .dataframe tbody tr th {\n",
              "        vertical-align: top;\n",
              "    }\n",
              "\n",
              "    .dataframe thead th {\n",
              "        text-align: right;\n",
              "    }\n",
              "</style>\n",
              "<table border=\"1\" class=\"dataframe\">\n",
              "  <thead>\n",
              "    <tr style=\"text-align: right;\">\n",
              "      <th></th>\n",
              "      <th>Income</th>\n",
              "      <th>Age</th>\n",
              "      <th>Count</th>\n",
              "    </tr>\n",
              "    <tr>\n",
              "      <th>Cluster</th>\n",
              "      <th></th>\n",
              "      <th></th>\n",
              "      <th></th>\n",
              "    </tr>\n",
              "  </thead>\n",
              "  <tbody>\n",
              "    <tr>\n",
              "      <th>0</th>\n",
              "      <td>18663.636364</td>\n",
              "      <td>39.181818</td>\n",
              "      <td>99</td>\n",
              "    </tr>\n",
              "    <tr>\n",
              "      <th>1</th>\n",
              "      <td>55204.000000</td>\n",
              "      <td>29.384000</td>\n",
              "      <td>100</td>\n",
              "    </tr>\n",
              "    <tr>\n",
              "      <th>2</th>\n",
              "      <td>44488.118812</td>\n",
              "      <td>46.734653</td>\n",
              "      <td>101</td>\n",
              "    </tr>\n",
              "  </tbody>\n",
              "</table>\n",
              "</div>"
            ],
            "text/plain": [
              "               Income        Age  Count\n",
              "Cluster                                \n",
              "0        18663.636364  39.181818     99\n",
              "1        55204.000000  29.384000    100\n",
              "2        44488.118812  46.734653    101"
            ]
          },
          "metadata": {
            "tags": []
          },
          "execution_count": 120
        }
      ]
    },
    {
      "cell_type": "markdown",
      "metadata": {
        "colab_type": "text",
        "id": "BqMuphzFV3o7"
      },
      "source": [
        "Ans: following are the colnclusion:\n",
        "* out of 200 customers 99 are in cluster 0 who are having lowest income and age is around 39\n",
        "* out of 200 customers 100 are in cluster 1 who are having Highest income and age is lowest amoung other around  29\n",
        "* out of 200 customers 6 are in cluster 2 who are having medium income and age is highist among other around 46"
      ]
    },
    {
      "cell_type": "markdown",
      "metadata": {
        "id": "uLCiTdVYZQ5S",
        "colab_type": "text"
      },
      "source": [
        "\n",
        "\n",
        "---\n",
        "\n"
      ]
    },
    {
      "cell_type": "markdown",
      "metadata": {
        "id": "GoXPUB6TZXlt",
        "colab_type": "text"
      },
      "source": [
        "### Q 3.\n",
        "Answer Questions 1 to 5 using the Online Retail.xlsx Dataset\n",
        "\n",
        "Online Retail.xlsx contains records of transactions occurring between 01/12/2010 and 09/12/2011 for a UK-based and registered non-store online retail. The company mainly sells unique all-occasion gifts. Many customers of the company are wholesalers.\n",
        "\n",
        "The attributes in the dataset are:\n",
        "\n",
        "*\tInvoiceN − Invoice number. Nominal, a 6-digit integral number uniquely assigned to each transaction. If this code starts with letter “c”, it indicates a cancellation.\n",
        "*\tStockCode − Product (item) code. Nominal, a 5-digit integral number uniquely assigned to each distinct product.\n",
        "*\tDescription − Product (item) name. Nominal.\n",
        "*\tQuantity − The quantities of each product (item) per transaction. Numeric.\n",
        "*\tInvoiceDate − Invoice Date and time. Numeric, the day and time when each transaction was generated.\n",
        "*\tUnitPrice − Unit price. Numeric, Product price per unit in sterling.\n",
        "*\tCustomerID − Customer number. Nominal, a 5-digit integral number uniquely assigned to each customer.\n",
        "*\tCountry − Country name. Nominal, the name of the country where each customer resides."
      ]
    },
    {
      "cell_type": "code",
      "metadata": {
        "colab_type": "code",
        "id": "-hFA2gYDZxrY",
        "colab": {}
      },
      "source": [
        "import numpy as np\n",
        "import matplotlib.pyplot as plt\n",
        "import pandas as pd"
      ],
      "execution_count": 122,
      "outputs": []
    },
    {
      "cell_type": "code",
      "metadata": {
        "colab_type": "code",
        "id": "a9j091SiZqku",
        "colab": {
          "base_uri": "https://localhost:8080/",
          "height": 195
        },
        "outputId": "a76d9cb6-0404-4e51-9371-be0736844d5f"
      },
      "source": [
        "dataset = pd.read_excel(open('Online Retail.xlsx', 'rb'),sheet_name='Online Retail') \n",
        "dataset.head()"
      ],
      "execution_count": 126,
      "outputs": [
        {
          "output_type": "execute_result",
          "data": {
            "text/html": [
              "<div>\n",
              "<style scoped>\n",
              "    .dataframe tbody tr th:only-of-type {\n",
              "        vertical-align: middle;\n",
              "    }\n",
              "\n",
              "    .dataframe tbody tr th {\n",
              "        vertical-align: top;\n",
              "    }\n",
              "\n",
              "    .dataframe thead th {\n",
              "        text-align: right;\n",
              "    }\n",
              "</style>\n",
              "<table border=\"1\" class=\"dataframe\">\n",
              "  <thead>\n",
              "    <tr style=\"text-align: right;\">\n",
              "      <th></th>\n",
              "      <th>InvoiceNo</th>\n",
              "      <th>StockCode</th>\n",
              "      <th>Description</th>\n",
              "      <th>Quantity</th>\n",
              "      <th>InvoiceDate</th>\n",
              "      <th>UnitPrice</th>\n",
              "      <th>CustomerID</th>\n",
              "      <th>Country</th>\n",
              "    </tr>\n",
              "  </thead>\n",
              "  <tbody>\n",
              "    <tr>\n",
              "      <th>0</th>\n",
              "      <td>536365</td>\n",
              "      <td>85123A</td>\n",
              "      <td>WHITE HANGING HEART T-LIGHT HOLDER</td>\n",
              "      <td>6</td>\n",
              "      <td>2010-12-01 08:26:00</td>\n",
              "      <td>2.55</td>\n",
              "      <td>17850.0</td>\n",
              "      <td>United Kingdom</td>\n",
              "    </tr>\n",
              "    <tr>\n",
              "      <th>1</th>\n",
              "      <td>536365</td>\n",
              "      <td>71053</td>\n",
              "      <td>WHITE METAL LANTERN</td>\n",
              "      <td>6</td>\n",
              "      <td>2010-12-01 08:26:00</td>\n",
              "      <td>3.39</td>\n",
              "      <td>17850.0</td>\n",
              "      <td>United Kingdom</td>\n",
              "    </tr>\n",
              "    <tr>\n",
              "      <th>2</th>\n",
              "      <td>536365</td>\n",
              "      <td>84406B</td>\n",
              "      <td>CREAM CUPID HEARTS COAT HANGER</td>\n",
              "      <td>8</td>\n",
              "      <td>2010-12-01 08:26:00</td>\n",
              "      <td>2.75</td>\n",
              "      <td>17850.0</td>\n",
              "      <td>United Kingdom</td>\n",
              "    </tr>\n",
              "    <tr>\n",
              "      <th>3</th>\n",
              "      <td>536365</td>\n",
              "      <td>84029G</td>\n",
              "      <td>KNITTED UNION FLAG HOT WATER BOTTLE</td>\n",
              "      <td>6</td>\n",
              "      <td>2010-12-01 08:26:00</td>\n",
              "      <td>3.39</td>\n",
              "      <td>17850.0</td>\n",
              "      <td>United Kingdom</td>\n",
              "    </tr>\n",
              "    <tr>\n",
              "      <th>4</th>\n",
              "      <td>536365</td>\n",
              "      <td>84029E</td>\n",
              "      <td>RED WOOLLY HOTTIE WHITE HEART.</td>\n",
              "      <td>6</td>\n",
              "      <td>2010-12-01 08:26:00</td>\n",
              "      <td>3.39</td>\n",
              "      <td>17850.0</td>\n",
              "      <td>United Kingdom</td>\n",
              "    </tr>\n",
              "  </tbody>\n",
              "</table>\n",
              "</div>"
            ],
            "text/plain": [
              "  InvoiceNo StockCode  ... CustomerID         Country\n",
              "0    536365    85123A  ...    17850.0  United Kingdom\n",
              "1    536365     71053  ...    17850.0  United Kingdom\n",
              "2    536365    84406B  ...    17850.0  United Kingdom\n",
              "3    536365    84029G  ...    17850.0  United Kingdom\n",
              "4    536365    84029E  ...    17850.0  United Kingdom\n",
              "\n",
              "[5 rows x 8 columns]"
            ]
          },
          "metadata": {
            "tags": []
          },
          "execution_count": 126
        }
      ]
    },
    {
      "cell_type": "markdown",
      "metadata": {
        "id": "8k4IwrBVcIUy",
        "colab_type": "text"
      },
      "source": [
        "#### 1. Select only the transactions that have occurred in the year 06/01/11 and 11/30/11 and create a new subset of data. For answering questions from 1 to 5, use this subset of data."
      ]
    },
    {
      "cell_type": "code",
      "metadata": {
        "id": "fay1I-hJcLlS",
        "colab_type": "code",
        "colab": {
          "base_uri": "https://localhost:8080/",
          "height": 230
        },
        "outputId": "26071be5-315a-47be-f940-ceb4fb52865c"
      },
      "source": [
        "subset_data = dataset[dataset.InvoiceDate >= \"2011-06-01 00:00:00\" ][dataset.InvoiceDate <= \"2011-11-30 23:59:59\"]\n",
        "subset_data.head()"
      ],
      "execution_count": 207,
      "outputs": [
        {
          "output_type": "stream",
          "text": [
            "/usr/local/lib/python3.6/dist-packages/ipykernel_launcher.py:1: UserWarning: Boolean Series key will be reindexed to match DataFrame index.\n",
            "  \"\"\"Entry point for launching an IPython kernel.\n"
          ],
          "name": "stderr"
        },
        {
          "output_type": "execute_result",
          "data": {
            "text/html": [
              "<div>\n",
              "<style scoped>\n",
              "    .dataframe tbody tr th:only-of-type {\n",
              "        vertical-align: middle;\n",
              "    }\n",
              "\n",
              "    .dataframe tbody tr th {\n",
              "        vertical-align: top;\n",
              "    }\n",
              "\n",
              "    .dataframe thead th {\n",
              "        text-align: right;\n",
              "    }\n",
              "</style>\n",
              "<table border=\"1\" class=\"dataframe\">\n",
              "  <thead>\n",
              "    <tr style=\"text-align: right;\">\n",
              "      <th></th>\n",
              "      <th>InvoiceNo</th>\n",
              "      <th>StockCode</th>\n",
              "      <th>Description</th>\n",
              "      <th>Quantity</th>\n",
              "      <th>InvoiceDate</th>\n",
              "      <th>UnitPrice</th>\n",
              "      <th>CustomerID</th>\n",
              "      <th>Country</th>\n",
              "    </tr>\n",
              "  </thead>\n",
              "  <tbody>\n",
              "    <tr>\n",
              "      <th>209029</th>\n",
              "      <td>555156</td>\n",
              "      <td>23299</td>\n",
              "      <td>FOOD COVER WITH BEADS SET 2</td>\n",
              "      <td>6</td>\n",
              "      <td>2011-06-01 07:37:00</td>\n",
              "      <td>3.75</td>\n",
              "      <td>15643.0</td>\n",
              "      <td>United Kingdom</td>\n",
              "    </tr>\n",
              "    <tr>\n",
              "      <th>209030</th>\n",
              "      <td>555156</td>\n",
              "      <td>22847</td>\n",
              "      <td>BREAD BIN DINER STYLE IVORY</td>\n",
              "      <td>1</td>\n",
              "      <td>2011-06-01 07:37:00</td>\n",
              "      <td>16.95</td>\n",
              "      <td>15643.0</td>\n",
              "      <td>United Kingdom</td>\n",
              "    </tr>\n",
              "    <tr>\n",
              "      <th>209031</th>\n",
              "      <td>555157</td>\n",
              "      <td>23075</td>\n",
              "      <td>PARLOUR CERAMIC WALL HOOK</td>\n",
              "      <td>16</td>\n",
              "      <td>2011-06-01 07:38:00</td>\n",
              "      <td>4.15</td>\n",
              "      <td>15643.0</td>\n",
              "      <td>United Kingdom</td>\n",
              "    </tr>\n",
              "    <tr>\n",
              "      <th>209032</th>\n",
              "      <td>555157</td>\n",
              "      <td>47590B</td>\n",
              "      <td>PINK HAPPY BIRTHDAY BUNTING</td>\n",
              "      <td>6</td>\n",
              "      <td>2011-06-01 07:38:00</td>\n",
              "      <td>5.45</td>\n",
              "      <td>15643.0</td>\n",
              "      <td>United Kingdom</td>\n",
              "    </tr>\n",
              "    <tr>\n",
              "      <th>209033</th>\n",
              "      <td>555157</td>\n",
              "      <td>22423</td>\n",
              "      <td>REGENCY CAKESTAND 3 TIER</td>\n",
              "      <td>4</td>\n",
              "      <td>2011-06-01 07:38:00</td>\n",
              "      <td>12.75</td>\n",
              "      <td>15643.0</td>\n",
              "      <td>United Kingdom</td>\n",
              "    </tr>\n",
              "  </tbody>\n",
              "</table>\n",
              "</div>"
            ],
            "text/plain": [
              "       InvoiceNo StockCode  ... CustomerID         Country\n",
              "209029    555156     23299  ...    15643.0  United Kingdom\n",
              "209030    555156     22847  ...    15643.0  United Kingdom\n",
              "209031    555157     23075  ...    15643.0  United Kingdom\n",
              "209032    555157    47590B  ...    15643.0  United Kingdom\n",
              "209033    555157     22423  ...    15643.0  United Kingdom\n",
              "\n",
              "[5 rows x 8 columns]"
            ]
          },
          "metadata": {
            "tags": []
          },
          "execution_count": 207
        }
      ]
    },
    {
      "cell_type": "markdown",
      "metadata": {
        "id": "udBM60yJcMOn",
        "colab_type": "text"
      },
      "source": [
        "#### 2. Calculate the RFM values for each customer (by customer id). RFM represents\n",
        "*\tR (Recency) − Recency should be calculated as the number of months before he or she has made a purchase from the online store. If he/she made a purchase in the month of November 2011, then the Recency should be 0. If purchase is made in October 2011 then Recency should be 1 and so on and so forth.\n",
        "*\tF (Frequency) − Number of invoices by the customer from 06/01/11 to 11/30/11. \n",
        "* M (Monetary Value) − Total spend by the customer from 06/01/11 to 11/30/11."
      ]
    },
    {
      "cell_type": "markdown",
      "metadata": {
        "id": "7yI-Mn5JgFys",
        "colab_type": "text"
      },
      "source": [
        "Note: i have droped row which does not have customer id"
      ]
    },
    {
      "cell_type": "code",
      "metadata": {
        "id": "iqPWp6g_h8Cl",
        "colab_type": "code",
        "colab": {}
      },
      "source": [
        "subset_data = subset_data.dropna(axis=0, subset=[\"CustomerID\"])\n",
        "subset_data_customer_info = pd.DataFrame(np.unique(subset_data[\"CustomerID\"]), columns=[\"CustomerID\"])"
      ],
      "execution_count": 264,
      "outputs": []
    },
    {
      "cell_type": "code",
      "metadata": {
        "id": "5b4nfbpNjGiE",
        "colab_type": "code",
        "colab": {
          "base_uri": "https://localhost:8080/",
          "height": 122
        },
        "outputId": "d3527e01-9ad1-438b-fe7d-8fdbdc1bb223"
      },
      "source": [
        "recency, frequency, monetary_value = [],[],[]\n",
        "for i in subset_data_customer_info.CustomerID:\n",
        "  customer_invoices = subset_data[subset_data.CustomerID == i]\n",
        "  recency.append(11 - customer_invoices.iloc[0,4].month)\n",
        "  customer_invoices[\"InvoiceNo\"] = customer_invoices[\"InvoiceNo\"].astype(str)\n",
        "  frequency.append(len(np.unique(customer_invoices[\"InvoiceNo\"])))\n",
        "  monetary_value.append(sum(list(customer_invoices.Quantity * customer_invoices.UnitPrice)))"
      ],
      "execution_count": 265,
      "outputs": [
        {
          "output_type": "stream",
          "text": [
            "/usr/local/lib/python3.6/dist-packages/ipykernel_launcher.py:5: SettingWithCopyWarning: \n",
            "A value is trying to be set on a copy of a slice from a DataFrame.\n",
            "Try using .loc[row_indexer,col_indexer] = value instead\n",
            "\n",
            "See the caveats in the documentation: https://pandas.pydata.org/pandas-docs/stable/user_guide/indexing.html#returning-a-view-versus-a-copy\n",
            "  \"\"\"\n"
          ],
          "name": "stderr"
        }
      ]
    },
    {
      "cell_type": "code",
      "metadata": {
        "id": "d7_6xybMrttR",
        "colab_type": "code",
        "colab": {}
      },
      "source": [
        "subset_data_customer_info[\"recency\"] = recency\n",
        "subset_data_customer_info[\"frequency\"] = frequency\n",
        "subset_data_customer_info[\"monetary_value\"] = monetary_value"
      ],
      "execution_count": 266,
      "outputs": []
    },
    {
      "cell_type": "code",
      "metadata": {
        "id": "aKl6OxZ6uHLt",
        "colab_type": "code",
        "colab": {
          "base_uri": "https://localhost:8080/",
          "height": 195
        },
        "outputId": "13b3d182-0b90-4c18-a184-f2580bb4ae39"
      },
      "source": [
        "subset_data_customer_info.head()"
      ],
      "execution_count": 267,
      "outputs": [
        {
          "output_type": "execute_result",
          "data": {
            "text/html": [
              "<div>\n",
              "<style scoped>\n",
              "    .dataframe tbody tr th:only-of-type {\n",
              "        vertical-align: middle;\n",
              "    }\n",
              "\n",
              "    .dataframe tbody tr th {\n",
              "        vertical-align: top;\n",
              "    }\n",
              "\n",
              "    .dataframe thead th {\n",
              "        text-align: right;\n",
              "    }\n",
              "</style>\n",
              "<table border=\"1\" class=\"dataframe\">\n",
              "  <thead>\n",
              "    <tr style=\"text-align: right;\">\n",
              "      <th></th>\n",
              "      <th>CustomerID</th>\n",
              "      <th>recency</th>\n",
              "      <th>frequency</th>\n",
              "      <th>monetary_value</th>\n",
              "    </tr>\n",
              "  </thead>\n",
              "  <tbody>\n",
              "    <tr>\n",
              "      <th>0</th>\n",
              "      <td>12347.0</td>\n",
              "      <td>5</td>\n",
              "      <td>3</td>\n",
              "      <td>2261.75</td>\n",
              "    </tr>\n",
              "    <tr>\n",
              "      <th>1</th>\n",
              "      <td>12348.0</td>\n",
              "      <td>2</td>\n",
              "      <td>1</td>\n",
              "      <td>310.00</td>\n",
              "    </tr>\n",
              "    <tr>\n",
              "      <th>2</th>\n",
              "      <td>12349.0</td>\n",
              "      <td>0</td>\n",
              "      <td>1</td>\n",
              "      <td>1757.55</td>\n",
              "    </tr>\n",
              "    <tr>\n",
              "      <th>3</th>\n",
              "      <td>12352.0</td>\n",
              "      <td>2</td>\n",
              "      <td>3</td>\n",
              "      <td>944.23</td>\n",
              "    </tr>\n",
              "    <tr>\n",
              "      <th>4</th>\n",
              "      <td>12356.0</td>\n",
              "      <td>0</td>\n",
              "      <td>1</td>\n",
              "      <td>58.35</td>\n",
              "    </tr>\n",
              "  </tbody>\n",
              "</table>\n",
              "</div>"
            ],
            "text/plain": [
              "   CustomerID  recency  frequency  monetary_value\n",
              "0     12347.0        5          3         2261.75\n",
              "1     12348.0        2          1          310.00\n",
              "2     12349.0        0          1         1757.55\n",
              "3     12352.0        2          3          944.23\n",
              "4     12356.0        0          1           58.35"
            ]
          },
          "metadata": {
            "tags": []
          },
          "execution_count": 267
        }
      ]
    },
    {
      "cell_type": "markdown",
      "metadata": {
        "id": "F3La8-djcXOG",
        "colab_type": "text"
      },
      "source": [
        "#### 3. Use dendrogram and elbow method to identify how many customer segments exist, using the RFM values for each customer created in Question 7."
      ]
    },
    {
      "cell_type": "code",
      "metadata": {
        "colab_type": "code",
        "id": "Y1acwm6VuS6V",
        "colab": {
          "base_uri": "https://localhost:8080/",
          "height": 298
        },
        "outputId": "e322eb09-ef8c-45ec-e9d5-18473cf27a45"
      },
      "source": [
        "import scipy.cluster.hierarchy as sch\n",
        "dendrogram = sch.dendrogram(sch.linkage(subset_data_customer_info.iloc[:,1:], method = 'ward'))\n",
        "plt.xlabel(\"dendrogram\")\n",
        "plt.ylabel(\"Dataset\")\n",
        "plt.title(\"Cluster\")\n",
        "plt.show()"
      ],
      "execution_count": 269,
      "outputs": [
        {
          "output_type": "display_data",
          "data": {
            "image/png": "[encoded data removed]",
            "text/plain": [
              "<Figure size 432x288 with 1 Axes>"
            ]
          },
          "metadata": {
            "tags": [],
            "needs_background": "light"
          }
        }
      ]
    },
    {
      "cell_type": "markdown",
      "metadata": {
        "id": "xo7Q6RZxu_fl",
        "colab_type": "text"
      },
      "source": [
        "Ans: it is deficult to decide cluster using dendogram"
      ]
    },
    {
      "cell_type": "code",
      "metadata": {
        "colab_type": "code",
        "id": "oVKSrM20u71Y",
        "colab": {
          "base_uri": "https://localhost:8080/",
          "height": 295
        },
        "outputId": "6456c30f-5f51-4eb1-b6aa-21ed48f4c60e"
      },
      "source": [
        "from sklearn.cluster import KMeans\n",
        "wcss = []\n",
        "for i in range(1, 8):\n",
        "    kmeans = KMeans(n_clusters = i, init = 'k-means++', random_state = 42)\n",
        "    kmeans.fit(subset_data_customer_info)\n",
        "    wcss.append(kmeans.inertia_)\n",
        "\n",
        "plt.plot(range(1, 8), wcss)\n",
        "plt.title('The Elbow Method')\n",
        "plt.xlabel(\"Cluster\")\n",
        "plt.ylabel(\"Dataset\")\n",
        "plt.show()"
      ],
      "execution_count": 270,
      "outputs": [
        {
          "output_type": "display_data",
          "data": {
            "image/png": "[encoded data removed]",
            "text/plain": [
              "<Figure size 432x288 with 1 Axes>"
            ]
          },
          "metadata": {
            "tags": [],
            "needs_background": "light"
          }
        }
      ]
    },
    {
      "cell_type": "markdown",
      "metadata": {
        "id": "jq0HQhcOvjLi",
        "colab_type": "text"
      },
      "source": [
        "Ans: we should select 4 as no of clusters\n",
        "<br>\n",
        "Analysis:  earlier i have performed Kmeans on 5 cluster and found that 2 clusters is having minor differance, and can be removed, so kept 4 as cluster \n",
        "<br>\n",
        "Even after this i found 3 is best option"
      ]
    },
    {
      "cell_type": "markdown",
      "metadata": {
        "id": "Ti-RVqbPcZ-J",
        "colab_type": "text"
      },
      "source": [
        "#### 4. Create the customer segments with K-means algorithm by using number of clusters is suggested by elbow method."
      ]
    },
    {
      "cell_type": "code",
      "metadata": {
        "colab_type": "code",
        "id": "YGH_NQ-qv0E2",
        "colab": {}
      },
      "source": [
        "from sklearn.cluster import AgglomerativeClustering\n",
        "cluster = AgglomerativeClustering(n_clusters=3, affinity = 'euclidean', linkage = 'ward')\n",
        "y_hc = cluster.fit_predict(subset_data_customer_info)"
      ],
      "execution_count": 283,
      "outputs": []
    },
    {
      "cell_type": "markdown",
      "metadata": {
        "id": "GJc8V17hca4k",
        "colab_type": "text"
      },
      "source": [
        "#### 5. Print the cluster centers of each customer segment and explain them intuitively."
      ]
    },
    {
      "cell_type": "code",
      "metadata": {
        "colab_type": "code",
        "id": "EVAMpf2fv-Jz",
        "colab": {}
      },
      "source": [
        "subset_data_customer_info[\"Cluster\"] = y_hc\n",
        "cluster_data = subset_data_customer_info.groupby(by = \"Cluster\").mean()\n",
        "cluster_data_count = []\n",
        "for i in range(3):\n",
        "  cluster_data_count.append((subset_data_customer_info.Cluster[subset_data_customer_info.Cluster == i]).count())\n",
        "\n",
        "cluster_data[\"Count\"] = cluster_data_count"
      ],
      "execution_count": 284,
      "outputs": []
    },
    {
      "cell_type": "code",
      "metadata": {
        "colab_type": "code",
        "id": "fRvd_pJgv-J-",
        "colab": {
          "base_uri": "https://localhost:8080/",
          "height": 166
        },
        "outputId": "c541d0f9-09d4-4e8a-a0a0-f213c275327f"
      },
      "source": [
        "cluster_data = cluster_data.drop(axis=1,columns=[\"CustomerID\"])\n",
        "cluster_data = cluster_data.round(decimals=2)\n",
        "cluster_data"
      ],
      "execution_count": 285,
      "outputs": [
        {
          "output_type": "execute_result",
          "data": {
            "text/html": [
              "<div>\n",
              "<style scoped>\n",
              "    .dataframe tbody tr th:only-of-type {\n",
              "        vertical-align: middle;\n",
              "    }\n",
              "\n",
              "    .dataframe tbody tr th {\n",
              "        vertical-align: top;\n",
              "    }\n",
              "\n",
              "    .dataframe thead th {\n",
              "        text-align: right;\n",
              "    }\n",
              "</style>\n",
              "<table border=\"1\" class=\"dataframe\">\n",
              "  <thead>\n",
              "    <tr style=\"text-align: right;\">\n",
              "      <th></th>\n",
              "      <th>recency</th>\n",
              "      <th>frequency</th>\n",
              "      <th>monetary_value</th>\n",
              "      <th>Count</th>\n",
              "    </tr>\n",
              "    <tr>\n",
              "      <th>Cluster</th>\n",
              "      <th></th>\n",
              "      <th></th>\n",
              "      <th></th>\n",
              "      <th></th>\n",
              "    </tr>\n",
              "  </thead>\n",
              "  <tbody>\n",
              "    <tr>\n",
              "      <th>0</th>\n",
              "      <td>2.91</td>\n",
              "      <td>3.30</td>\n",
              "      <td>1060.21</td>\n",
              "      <td>3480</td>\n",
              "    </tr>\n",
              "    <tr>\n",
              "      <th>1</th>\n",
              "      <td>5.00</td>\n",
              "      <td>43.00</td>\n",
              "      <td>156293.09</td>\n",
              "      <td>3</td>\n",
              "    </tr>\n",
              "    <tr>\n",
              "      <th>2</th>\n",
              "      <td>4.75</td>\n",
              "      <td>41.12</td>\n",
              "      <td>42415.26</td>\n",
              "      <td>16</td>\n",
              "    </tr>\n",
              "  </tbody>\n",
              "</table>\n",
              "</div>"
            ],
            "text/plain": [
              "         recency  frequency  monetary_value  Count\n",
              "Cluster                                           \n",
              "0           2.91       3.30         1060.21   3480\n",
              "1           5.00      43.00       156293.09      3\n",
              "2           4.75      41.12        42415.26     16"
            ]
          },
          "metadata": {
            "tags": []
          },
          "execution_count": 285
        }
      ]
    },
    {
      "cell_type": "markdown",
      "metadata": {
        "colab_type": "text",
        "id": "D3QNEytWv-KN"
      },
      "source": [
        "Ans: following are the colnclusion:\n",
        "> out of 3499 customers 3480 are in cluster 0 who are having 2.91 as average Recency, frequency is 3.30 and having lowest monetary value rs 1060\n",
        "> this are those customers who came to shop for daily esentails when needed, and are loyal customers\n",
        "\n",
        "> Cluster 1 is having 3 customers only and having highest monetary value as compared to other cluster customers\n",
        "> Maybe this customers are corporate customers\n",
        "\n",
        "> Cluster 2 is having 16 customers and having 42,415 rs monetary value but the they have not purchased since 5 months so, Shop keeps should give best offer to this customer, to incress sells value"
      ]
    },
    {
      "cell_type": "markdown",
      "metadata": {
        "colab_type": "text",
        "id": "xFm3EPklv-KN"
      },
      "source": [
        "\n",
        "\n",
        "---\n",
        "\n"
      ]
    },
    {
      "cell_type": "markdown",
      "metadata": {
        "id": "3l3A6N9G5M0B",
        "colab_type": "text"
      },
      "source": [
        "### Q 4.\n",
        "Answer Questions 1 to 3 using the Dataset groceries.csv.\n",
        "\n",
        "Groceries.csv contains transactions of a grocery store. Each line in the dataset is an order and contains a variable number of items. Each item in each order is separated by a comma in the dataset."
      ]
    },
    {
      "cell_type": "code",
      "metadata": {
        "colab_type": "code",
        "id": "t0KdHtLm5TqK",
        "colab": {}
      },
      "source": [
        "import numpy as np\n",
        "import matplotlib.pyplot as plt\n",
        "import pandas as pd"
      ],
      "execution_count": 286,
      "outputs": []
    },
    {
      "cell_type": "code",
      "metadata": {
        "id": "FutewLCk_RLh",
        "colab_type": "code",
        "colab": {}
      },
      "source": [
        "dataset = open('groceries.csv')\n",
        "dataset = pd.DataFrame(dataset)\n",
        "bucket = []\n",
        "for i in dataset.values:\n",
        "  bucket.append(i[0][:-2].split(\",\"))"
      ],
      "execution_count": 323,
      "outputs": []
    },
    {
      "cell_type": "markdown",
      "metadata": {
        "id": "vtcVmlQoABKm",
        "colab_type": "text"
      },
      "source": [
        "#### 1.\tConvert the transaction into one hot encoding format"
      ]
    },
    {
      "cell_type": "code",
      "metadata": {
        "id": "u50V61sU8wkz",
        "colab_type": "code",
        "colab": {
          "base_uri": "https://localhost:8080/",
          "height": 313
        },
        "outputId": "8d5784f5-c4ef-46ba-a08f-dc8b5252d091"
      },
      "source": [
        "from mlxtend.preprocessing import OnehotTransactions\n",
        "from mlxtend.frequent_patterns import apriori, association_rules\n",
        "# Initialize OnehotTransactions\n",
        "one_hot_encoding = OnehotTransactions()\n",
        "# Transform the data into one-hot-encoding format\n",
        "one_hot_txns = one_hot_encoding.fit(bucket).transform(bucket)\n",
        "# Conver the matrix into the dataframe.\n",
        "one_hot_txns_df = pd.DataFrame(one_hot_txns,columns=one_hot_encoding.columns_)\n",
        "one_hot_txns_df = one_hot_txns_df.astype(int)\n",
        "one_hot_txns_df.head()"
      ],
      "execution_count": 330,
      "outputs": [
        {
          "output_type": "stream",
          "text": [
            "/usr/local/lib/python3.6/dist-packages/mlxtend/preprocessing/onehot.py:66: DeprecationWarning: OnehotTransactions has been deprecated and will be removed in future. Please use TransactionEncoder instead.\n",
            "  warnings.warn(msg, DeprecationWarning)\n"
          ],
          "name": "stderr"
        },
        {
          "output_type": "execute_result",
          "data": {
            "text/html": [
              "<div>\n",
              "<style scoped>\n",
              "    .dataframe tbody tr th:only-of-type {\n",
              "        vertical-align: middle;\n",
              "    }\n",
              "\n",
              "    .dataframe tbody tr th {\n",
              "        vertical-align: top;\n",
              "    }\n",
              "\n",
              "    .dataframe thead th {\n",
              "        text-align: right;\n",
              "    }\n",
              "</style>\n",
              "<table border=\"1\" class=\"dataframe\">\n",
              "  <thead>\n",
              "    <tr style=\"text-align: right;\">\n",
              "      <th></th>\n",
              "      <th>Instant food product</th>\n",
              "      <th>Instant food products</th>\n",
              "      <th>UHT-mil</th>\n",
              "      <th>UHT-milk</th>\n",
              "      <th>abrasive cleane</th>\n",
              "      <th>abrasive cleaner</th>\n",
              "      <th>artif. sweetene</th>\n",
              "      <th>artif. sweetener</th>\n",
              "      <th>baby cosmetic</th>\n",
              "      <th>baby cosmetics</th>\n",
              "      <th>baby food</th>\n",
              "      <th>bag</th>\n",
              "      <th>baking powde</th>\n",
              "      <th>baking powder</th>\n",
              "      <th>bathroom cleane</th>\n",
              "      <th>bathroom cleaner</th>\n",
              "      <th>bee</th>\n",
              "      <th>beef</th>\n",
              "      <th>berrie</th>\n",
              "      <th>berries</th>\n",
              "      <th>beverage</th>\n",
              "      <th>beverages</th>\n",
              "      <th>bottled bee</th>\n",
              "      <th>bottled beer</th>\n",
              "      <th>bottled wate</th>\n",
              "      <th>bottled water</th>\n",
              "      <th>brand</th>\n",
              "      <th>brandy</th>\n",
              "      <th>brown brea</th>\n",
              "      <th>brown bread</th>\n",
              "      <th>butte</th>\n",
              "      <th>butter</th>\n",
              "      <th>butter mil</th>\n",
              "      <th>butter milk</th>\n",
              "      <th>cake ba</th>\n",
              "      <th>cake bar</th>\n",
              "      <th>cand</th>\n",
              "      <th>candle</th>\n",
              "      <th>candles</th>\n",
              "      <th>candy</th>\n",
              "      <th>...</th>\n",
              "      <th>specialty vegetable</th>\n",
              "      <th>specialty vegetables</th>\n",
              "      <th>spice</th>\n",
              "      <th>spices</th>\n",
              "      <th>spread chees</th>\n",
              "      <th>spread cheese</th>\n",
              "      <th>suga</th>\n",
              "      <th>sugar</th>\n",
              "      <th>sweet spread</th>\n",
              "      <th>sweet spreads</th>\n",
              "      <th>syru</th>\n",
              "      <th>syrup</th>\n",
              "      <th>te</th>\n",
              "      <th>tea</th>\n",
              "      <th>tidbit</th>\n",
              "      <th>tidbits</th>\n",
              "      <th>toilet cleane</th>\n",
              "      <th>toilet cleaner</th>\n",
              "      <th>tropical frui</th>\n",
              "      <th>tropical fruit</th>\n",
              "      <th>turke</th>\n",
              "      <th>turkey</th>\n",
              "      <th>vinega</th>\n",
              "      <th>vinegar</th>\n",
              "      <th>waffle</th>\n",
              "      <th>waffles</th>\n",
              "      <th>whipped/sour crea</th>\n",
              "      <th>whipped/sour cream</th>\n",
              "      <th>whisk</th>\n",
              "      <th>whisky</th>\n",
              "      <th>white brea</th>\n",
              "      <th>white bread</th>\n",
              "      <th>white win</th>\n",
              "      <th>white wine</th>\n",
              "      <th>whole mil</th>\n",
              "      <th>whole milk</th>\n",
              "      <th>yogur</th>\n",
              "      <th>yogurt</th>\n",
              "      <th>zwiebac</th>\n",
              "      <th>zwieback</th>\n",
              "    </tr>\n",
              "  </thead>\n",
              "  <tbody>\n",
              "    <tr>\n",
              "      <th>0</th>\n",
              "      <td>0</td>\n",
              "      <td>0</td>\n",
              "      <td>0</td>\n",
              "      <td>0</td>\n",
              "      <td>0</td>\n",
              "      <td>0</td>\n",
              "      <td>0</td>\n",
              "      <td>0</td>\n",
              "      <td>0</td>\n",
              "      <td>0</td>\n",
              "      <td>0</td>\n",
              "      <td>0</td>\n",
              "      <td>0</td>\n",
              "      <td>0</td>\n",
              "      <td>0</td>\n",
              "      <td>0</td>\n",
              "      <td>0</td>\n",
              "      <td>0</td>\n",
              "      <td>0</td>\n",
              "      <td>0</td>\n",
              "      <td>0</td>\n",
              "      <td>0</td>\n",
              "      <td>0</td>\n",
              "      <td>0</td>\n",
              "      <td>0</td>\n",
              "      <td>0</td>\n",
              "      <td>0</td>\n",
              "      <td>0</td>\n",
              "      <td>0</td>\n",
              "      <td>0</td>\n",
              "      <td>0</td>\n",
              "      <td>0</td>\n",
              "      <td>0</td>\n",
              "      <td>0</td>\n",
              "      <td>0</td>\n",
              "      <td>0</td>\n",
              "      <td>0</td>\n",
              "      <td>0</td>\n",
              "      <td>0</td>\n",
              "      <td>0</td>\n",
              "      <td>...</td>\n",
              "      <td>0</td>\n",
              "      <td>0</td>\n",
              "      <td>0</td>\n",
              "      <td>0</td>\n",
              "      <td>0</td>\n",
              "      <td>0</td>\n",
              "      <td>0</td>\n",
              "      <td>0</td>\n",
              "      <td>0</td>\n",
              "      <td>0</td>\n",
              "      <td>0</td>\n",
              "      <td>0</td>\n",
              "      <td>0</td>\n",
              "      <td>0</td>\n",
              "      <td>0</td>\n",
              "      <td>0</td>\n",
              "      <td>0</td>\n",
              "      <td>0</td>\n",
              "      <td>0</td>\n",
              "      <td>0</td>\n",
              "      <td>0</td>\n",
              "      <td>0</td>\n",
              "      <td>0</td>\n",
              "      <td>0</td>\n",
              "      <td>0</td>\n",
              "      <td>0</td>\n",
              "      <td>0</td>\n",
              "      <td>0</td>\n",
              "      <td>0</td>\n",
              "      <td>0</td>\n",
              "      <td>0</td>\n",
              "      <td>0</td>\n",
              "      <td>0</td>\n",
              "      <td>0</td>\n",
              "      <td>0</td>\n",
              "      <td>0</td>\n",
              "      <td>0</td>\n",
              "      <td>0</td>\n",
              "      <td>0</td>\n",
              "      <td>0</td>\n",
              "    </tr>\n",
              "    <tr>\n",
              "      <th>1</th>\n",
              "      <td>0</td>\n",
              "      <td>0</td>\n",
              "      <td>0</td>\n",
              "      <td>0</td>\n",
              "      <td>0</td>\n",
              "      <td>0</td>\n",
              "      <td>0</td>\n",
              "      <td>0</td>\n",
              "      <td>0</td>\n",
              "      <td>0</td>\n",
              "      <td>0</td>\n",
              "      <td>0</td>\n",
              "      <td>0</td>\n",
              "      <td>0</td>\n",
              "      <td>0</td>\n",
              "      <td>0</td>\n",
              "      <td>0</td>\n",
              "      <td>0</td>\n",
              "      <td>0</td>\n",
              "      <td>0</td>\n",
              "      <td>0</td>\n",
              "      <td>0</td>\n",
              "      <td>0</td>\n",
              "      <td>0</td>\n",
              "      <td>0</td>\n",
              "      <td>0</td>\n",
              "      <td>0</td>\n",
              "      <td>0</td>\n",
              "      <td>0</td>\n",
              "      <td>0</td>\n",
              "      <td>0</td>\n",
              "      <td>0</td>\n",
              "      <td>0</td>\n",
              "      <td>0</td>\n",
              "      <td>0</td>\n",
              "      <td>0</td>\n",
              "      <td>0</td>\n",
              "      <td>0</td>\n",
              "      <td>0</td>\n",
              "      <td>0</td>\n",
              "      <td>...</td>\n",
              "      <td>0</td>\n",
              "      <td>0</td>\n",
              "      <td>0</td>\n",
              "      <td>0</td>\n",
              "      <td>0</td>\n",
              "      <td>0</td>\n",
              "      <td>0</td>\n",
              "      <td>0</td>\n",
              "      <td>0</td>\n",
              "      <td>0</td>\n",
              "      <td>0</td>\n",
              "      <td>0</td>\n",
              "      <td>0</td>\n",
              "      <td>0</td>\n",
              "      <td>0</td>\n",
              "      <td>0</td>\n",
              "      <td>0</td>\n",
              "      <td>0</td>\n",
              "      <td>0</td>\n",
              "      <td>1</td>\n",
              "      <td>0</td>\n",
              "      <td>0</td>\n",
              "      <td>0</td>\n",
              "      <td>0</td>\n",
              "      <td>0</td>\n",
              "      <td>0</td>\n",
              "      <td>0</td>\n",
              "      <td>0</td>\n",
              "      <td>0</td>\n",
              "      <td>0</td>\n",
              "      <td>0</td>\n",
              "      <td>0</td>\n",
              "      <td>0</td>\n",
              "      <td>0</td>\n",
              "      <td>0</td>\n",
              "      <td>0</td>\n",
              "      <td>0</td>\n",
              "      <td>1</td>\n",
              "      <td>0</td>\n",
              "      <td>0</td>\n",
              "    </tr>\n",
              "    <tr>\n",
              "      <th>2</th>\n",
              "      <td>0</td>\n",
              "      <td>0</td>\n",
              "      <td>0</td>\n",
              "      <td>0</td>\n",
              "      <td>0</td>\n",
              "      <td>0</td>\n",
              "      <td>0</td>\n",
              "      <td>0</td>\n",
              "      <td>0</td>\n",
              "      <td>0</td>\n",
              "      <td>0</td>\n",
              "      <td>0</td>\n",
              "      <td>0</td>\n",
              "      <td>0</td>\n",
              "      <td>0</td>\n",
              "      <td>0</td>\n",
              "      <td>0</td>\n",
              "      <td>0</td>\n",
              "      <td>0</td>\n",
              "      <td>0</td>\n",
              "      <td>0</td>\n",
              "      <td>0</td>\n",
              "      <td>0</td>\n",
              "      <td>0</td>\n",
              "      <td>0</td>\n",
              "      <td>0</td>\n",
              "      <td>0</td>\n",
              "      <td>0</td>\n",
              "      <td>0</td>\n",
              "      <td>0</td>\n",
              "      <td>0</td>\n",
              "      <td>0</td>\n",
              "      <td>0</td>\n",
              "      <td>0</td>\n",
              "      <td>0</td>\n",
              "      <td>0</td>\n",
              "      <td>0</td>\n",
              "      <td>0</td>\n",
              "      <td>0</td>\n",
              "      <td>0</td>\n",
              "      <td>...</td>\n",
              "      <td>0</td>\n",
              "      <td>0</td>\n",
              "      <td>0</td>\n",
              "      <td>0</td>\n",
              "      <td>0</td>\n",
              "      <td>0</td>\n",
              "      <td>0</td>\n",
              "      <td>0</td>\n",
              "      <td>0</td>\n",
              "      <td>0</td>\n",
              "      <td>0</td>\n",
              "      <td>0</td>\n",
              "      <td>0</td>\n",
              "      <td>0</td>\n",
              "      <td>0</td>\n",
              "      <td>0</td>\n",
              "      <td>0</td>\n",
              "      <td>0</td>\n",
              "      <td>0</td>\n",
              "      <td>0</td>\n",
              "      <td>0</td>\n",
              "      <td>0</td>\n",
              "      <td>0</td>\n",
              "      <td>0</td>\n",
              "      <td>0</td>\n",
              "      <td>0</td>\n",
              "      <td>0</td>\n",
              "      <td>0</td>\n",
              "      <td>0</td>\n",
              "      <td>0</td>\n",
              "      <td>0</td>\n",
              "      <td>0</td>\n",
              "      <td>0</td>\n",
              "      <td>0</td>\n",
              "      <td>1</td>\n",
              "      <td>0</td>\n",
              "      <td>0</td>\n",
              "      <td>0</td>\n",
              "      <td>0</td>\n",
              "      <td>0</td>\n",
              "    </tr>\n",
              "    <tr>\n",
              "      <th>3</th>\n",
              "      <td>0</td>\n",
              "      <td>0</td>\n",
              "      <td>0</td>\n",
              "      <td>0</td>\n",
              "      <td>0</td>\n",
              "      <td>0</td>\n",
              "      <td>0</td>\n",
              "      <td>0</td>\n",
              "      <td>0</td>\n",
              "      <td>0</td>\n",
              "      <td>0</td>\n",
              "      <td>0</td>\n",
              "      <td>0</td>\n",
              "      <td>0</td>\n",
              "      <td>0</td>\n",
              "      <td>0</td>\n",
              "      <td>0</td>\n",
              "      <td>0</td>\n",
              "      <td>0</td>\n",
              "      <td>0</td>\n",
              "      <td>0</td>\n",
              "      <td>0</td>\n",
              "      <td>0</td>\n",
              "      <td>0</td>\n",
              "      <td>0</td>\n",
              "      <td>0</td>\n",
              "      <td>0</td>\n",
              "      <td>0</td>\n",
              "      <td>0</td>\n",
              "      <td>0</td>\n",
              "      <td>0</td>\n",
              "      <td>0</td>\n",
              "      <td>0</td>\n",
              "      <td>0</td>\n",
              "      <td>0</td>\n",
              "      <td>0</td>\n",
              "      <td>0</td>\n",
              "      <td>0</td>\n",
              "      <td>0</td>\n",
              "      <td>0</td>\n",
              "      <td>...</td>\n",
              "      <td>0</td>\n",
              "      <td>0</td>\n",
              "      <td>0</td>\n",
              "      <td>0</td>\n",
              "      <td>0</td>\n",
              "      <td>0</td>\n",
              "      <td>0</td>\n",
              "      <td>0</td>\n",
              "      <td>0</td>\n",
              "      <td>0</td>\n",
              "      <td>0</td>\n",
              "      <td>0</td>\n",
              "      <td>0</td>\n",
              "      <td>0</td>\n",
              "      <td>0</td>\n",
              "      <td>0</td>\n",
              "      <td>0</td>\n",
              "      <td>0</td>\n",
              "      <td>0</td>\n",
              "      <td>0</td>\n",
              "      <td>0</td>\n",
              "      <td>0</td>\n",
              "      <td>0</td>\n",
              "      <td>0</td>\n",
              "      <td>0</td>\n",
              "      <td>0</td>\n",
              "      <td>0</td>\n",
              "      <td>0</td>\n",
              "      <td>0</td>\n",
              "      <td>0</td>\n",
              "      <td>0</td>\n",
              "      <td>0</td>\n",
              "      <td>0</td>\n",
              "      <td>0</td>\n",
              "      <td>0</td>\n",
              "      <td>0</td>\n",
              "      <td>0</td>\n",
              "      <td>1</td>\n",
              "      <td>0</td>\n",
              "      <td>0</td>\n",
              "    </tr>\n",
              "    <tr>\n",
              "      <th>4</th>\n",
              "      <td>0</td>\n",
              "      <td>0</td>\n",
              "      <td>0</td>\n",
              "      <td>0</td>\n",
              "      <td>0</td>\n",
              "      <td>0</td>\n",
              "      <td>0</td>\n",
              "      <td>0</td>\n",
              "      <td>0</td>\n",
              "      <td>0</td>\n",
              "      <td>0</td>\n",
              "      <td>0</td>\n",
              "      <td>0</td>\n",
              "      <td>0</td>\n",
              "      <td>0</td>\n",
              "      <td>0</td>\n",
              "      <td>0</td>\n",
              "      <td>0</td>\n",
              "      <td>0</td>\n",
              "      <td>0</td>\n",
              "      <td>0</td>\n",
              "      <td>0</td>\n",
              "      <td>0</td>\n",
              "      <td>0</td>\n",
              "      <td>0</td>\n",
              "      <td>0</td>\n",
              "      <td>0</td>\n",
              "      <td>0</td>\n",
              "      <td>0</td>\n",
              "      <td>0</td>\n",
              "      <td>0</td>\n",
              "      <td>0</td>\n",
              "      <td>0</td>\n",
              "      <td>0</td>\n",
              "      <td>0</td>\n",
              "      <td>0</td>\n",
              "      <td>0</td>\n",
              "      <td>0</td>\n",
              "      <td>0</td>\n",
              "      <td>0</td>\n",
              "      <td>...</td>\n",
              "      <td>0</td>\n",
              "      <td>0</td>\n",
              "      <td>0</td>\n",
              "      <td>0</td>\n",
              "      <td>0</td>\n",
              "      <td>0</td>\n",
              "      <td>0</td>\n",
              "      <td>0</td>\n",
              "      <td>0</td>\n",
              "      <td>0</td>\n",
              "      <td>0</td>\n",
              "      <td>0</td>\n",
              "      <td>0</td>\n",
              "      <td>0</td>\n",
              "      <td>0</td>\n",
              "      <td>0</td>\n",
              "      <td>0</td>\n",
              "      <td>0</td>\n",
              "      <td>0</td>\n",
              "      <td>0</td>\n",
              "      <td>0</td>\n",
              "      <td>0</td>\n",
              "      <td>0</td>\n",
              "      <td>0</td>\n",
              "      <td>0</td>\n",
              "      <td>0</td>\n",
              "      <td>0</td>\n",
              "      <td>0</td>\n",
              "      <td>0</td>\n",
              "      <td>0</td>\n",
              "      <td>0</td>\n",
              "      <td>0</td>\n",
              "      <td>0</td>\n",
              "      <td>0</td>\n",
              "      <td>0</td>\n",
              "      <td>1</td>\n",
              "      <td>0</td>\n",
              "      <td>0</td>\n",
              "      <td>0</td>\n",
              "      <td>0</td>\n",
              "    </tr>\n",
              "  </tbody>\n",
              "</table>\n",
              "<p>5 rows × 331 columns</p>\n",
              "</div>"
            ],
            "text/plain": [
              "   Instant food product  Instant food products  ...  zwiebac  zwieback\n",
              "0                     0                      0  ...        0         0\n",
              "1                     0                      0  ...        0         0\n",
              "2                     0                      0  ...        0         0\n",
              "3                     0                      0  ...        0         0\n",
              "4                     0                      0  ...        0         0\n",
              "\n",
              "[5 rows x 331 columns]"
            ]
          },
          "metadata": {
            "tags": []
          },
          "execution_count": 330
        }
      ]
    },
    {
      "cell_type": "markdown",
      "metadata": {
        "id": "ZD-B2cOqADjh",
        "colab_type": "text"
      },
      "source": [
        "#### 2.\tGenerate the association rules for the given dataset. Filter out all the rules by minimum support of 0.02"
      ]
    },
    {
      "cell_type": "code",
      "metadata": {
        "id": "k_oQdbs0AJ35",
        "colab_type": "code",
        "colab": {}
      },
      "source": [
        "frequent_itemsets = apriori(one_hot_txns_df, min_support=0.02, use_colnames=True)"
      ],
      "execution_count": 331,
      "outputs": []
    },
    {
      "cell_type": "markdown",
      "metadata": {
        "id": "uVLRHukyAF_0",
        "colab_type": "text"
      },
      "source": [
        "#### 3.\tFind the top 10 rules from the above association rule set , sorted by confidence in descending order."
      ]
    },
    {
      "cell_type": "code",
      "metadata": {
        "id": "ZDlqAkb5AGbx",
        "colab_type": "code",
        "colab": {
          "base_uri": "https://localhost:8080/",
          "height": 343
        },
        "outputId": "2f5ce896-d567-42e4-fcf6-3eb79fea4dcd"
      },
      "source": [
        "rules = association_rules(frequent_itemsets, metric=\"lift\", min_threshold=1)\n",
        "rules.sort_values('confidence', ascending = False)[0:10]"
      ],
      "execution_count": 336,
      "outputs": [
        {
          "output_type": "execute_result",
          "data": {
            "text/html": [
              "<div>\n",
              "<style scoped>\n",
              "    .dataframe tbody tr th:only-of-type {\n",
              "        vertical-align: middle;\n",
              "    }\n",
              "\n",
              "    .dataframe tbody tr th {\n",
              "        vertical-align: top;\n",
              "    }\n",
              "\n",
              "    .dataframe thead th {\n",
              "        text-align: right;\n",
              "    }\n",
              "</style>\n",
              "<table border=\"1\" class=\"dataframe\">\n",
              "  <thead>\n",
              "    <tr style=\"text-align: right;\">\n",
              "      <th></th>\n",
              "      <th>antecedents</th>\n",
              "      <th>consequents</th>\n",
              "      <th>antecedent support</th>\n",
              "      <th>consequent support</th>\n",
              "      <th>support</th>\n",
              "      <th>confidence</th>\n",
              "      <th>lift</th>\n",
              "      <th>leverage</th>\n",
              "      <th>conviction</th>\n",
              "    </tr>\n",
              "  </thead>\n",
              "  <tbody>\n",
              "    <tr>\n",
              "      <th>102</th>\n",
              "      <td>(yogurt, other vegetables)</td>\n",
              "      <td>(whole milk)</td>\n",
              "      <td>0.041179</td>\n",
              "      <td>0.235079</td>\n",
              "      <td>0.021657</td>\n",
              "      <td>0.525926</td>\n",
              "      <td>2.237232</td>\n",
              "      <td>0.011977</td>\n",
              "      <td>1.613506</td>\n",
              "    </tr>\n",
              "    <tr>\n",
              "      <th>11</th>\n",
              "      <td>(butter)</td>\n",
              "      <td>(whole milk)</td>\n",
              "      <td>0.053279</td>\n",
              "      <td>0.235079</td>\n",
              "      <td>0.027250</td>\n",
              "      <td>0.511450</td>\n",
              "      <td>2.175655</td>\n",
              "      <td>0.014725</td>\n",
              "      <td>1.565698</td>\n",
              "    </tr>\n",
              "    <tr>\n",
              "      <th>18</th>\n",
              "      <td>(curd)</td>\n",
              "      <td>(whole milk)</td>\n",
              "      <td>0.050635</td>\n",
              "      <td>0.235079</td>\n",
              "      <td>0.025521</td>\n",
              "      <td>0.504016</td>\n",
              "      <td>2.144030</td>\n",
              "      <td>0.013618</td>\n",
              "      <td>1.542230</td>\n",
              "    </tr>\n",
              "    <tr>\n",
              "      <th>22</th>\n",
              "      <td>(domestic eggs)</td>\n",
              "      <td>(whole milk)</td>\n",
              "      <td>0.057346</td>\n",
              "      <td>0.235079</td>\n",
              "      <td>0.028165</td>\n",
              "      <td>0.491135</td>\n",
              "      <td>2.089235</td>\n",
              "      <td>0.014684</td>\n",
              "      <td>1.503190</td>\n",
              "    </tr>\n",
              "    <tr>\n",
              "      <th>95</th>\n",
              "      <td>(root vegetables, other vegetables)</td>\n",
              "      <td>(whole milk)</td>\n",
              "      <td>0.045857</td>\n",
              "      <td>0.235079</td>\n",
              "      <td>0.022471</td>\n",
              "      <td>0.490022</td>\n",
              "      <td>2.084502</td>\n",
              "      <td>0.011691</td>\n",
              "      <td>1.499911</td>\n",
              "    </tr>\n",
              "    <tr>\n",
              "      <th>94</th>\n",
              "      <td>(root vegetables, whole milk)</td>\n",
              "      <td>(other vegetables)</td>\n",
              "      <td>0.047178</td>\n",
              "      <td>0.180173</td>\n",
              "      <td>0.022471</td>\n",
              "      <td>0.476293</td>\n",
              "      <td>2.643534</td>\n",
              "      <td>0.013970</td>\n",
              "      <td>1.565431</td>\n",
              "    </tr>\n",
              "    <tr>\n",
              "      <th>90</th>\n",
              "      <td>(whipped/sour cream)</td>\n",
              "      <td>(whole milk)</td>\n",
              "      <td>0.063854</td>\n",
              "      <td>0.235079</td>\n",
              "      <td>0.029792</td>\n",
              "      <td>0.466561</td>\n",
              "      <td>1.984698</td>\n",
              "      <td>0.014781</td>\n",
              "      <td>1.433942</td>\n",
              "    </tr>\n",
              "    <tr>\n",
              "      <th>72</th>\n",
              "      <td>(root vegetables)</td>\n",
              "      <td>(whole milk)</td>\n",
              "      <td>0.104830</td>\n",
              "      <td>0.235079</td>\n",
              "      <td>0.047178</td>\n",
              "      <td>0.450048</td>\n",
              "      <td>1.914458</td>\n",
              "      <td>0.022535</td>\n",
              "      <td>1.390888</td>\n",
              "    </tr>\n",
              "    <tr>\n",
              "      <th>36</th>\n",
              "      <td>(root vegetables)</td>\n",
              "      <td>(other vegetables)</td>\n",
              "      <td>0.104830</td>\n",
              "      <td>0.180173</td>\n",
              "      <td>0.045857</td>\n",
              "      <td>0.437439</td>\n",
              "      <td>2.427887</td>\n",
              "      <td>0.026969</td>\n",
              "      <td>1.457313</td>\n",
              "    </tr>\n",
              "    <tr>\n",
              "      <th>46</th>\n",
              "      <td>(whipped/sour cream)</td>\n",
              "      <td>(other vegetables)</td>\n",
              "      <td>0.063854</td>\n",
              "      <td>0.180173</td>\n",
              "      <td>0.027555</td>\n",
              "      <td>0.431529</td>\n",
              "      <td>2.395081</td>\n",
              "      <td>0.016050</td>\n",
              "      <td>1.442161</td>\n",
              "    </tr>\n",
              "  </tbody>\n",
              "</table>\n",
              "</div>"
            ],
            "text/plain": [
              "                             antecedents  ... conviction\n",
              "102           (yogurt, other vegetables)  ...   1.613506\n",
              "11                              (butter)  ...   1.565698\n",
              "18                                (curd)  ...   1.542230\n",
              "22                       (domestic eggs)  ...   1.503190\n",
              "95   (root vegetables, other vegetables)  ...   1.499911\n",
              "94         (root vegetables, whole milk)  ...   1.565431\n",
              "90                  (whipped/sour cream)  ...   1.433942\n",
              "72                     (root vegetables)  ...   1.390888\n",
              "36                     (root vegetables)  ...   1.457313\n",
              "46                  (whipped/sour cream)  ...   1.442161\n",
              "\n",
              "[10 rows x 9 columns]"
            ]
          },
          "metadata": {
            "tags": []
          },
          "execution_count": 336
        }
      ]
    },
    {
      "cell_type": "markdown",
      "metadata": {
        "id": "Nm9lqdh3S6DR",
        "colab_type": "text"
      },
      "source": [
        "\n",
        "\n",
        "---\n",
        "\n"
      ]
    },
    {
      "cell_type": "markdown",
      "metadata": {
        "id": "vhjrWre8ELvL",
        "colab_type": "text"
      },
      "source": [
        "# Q 5.\n",
        "Answer Questions 1 to 5 using the Dataset Online Retail.xlsx."
      ]
    },
    {
      "cell_type": "code",
      "metadata": {
        "colab_type": "code",
        "id": "hluX06A1EegF",
        "colab": {}
      },
      "source": [
        "import numpy as np\n",
        "import matplotlib.pyplot as plt\n",
        "import pandas as pd"
      ],
      "execution_count": 337,
      "outputs": []
    },
    {
      "cell_type": "code",
      "metadata": {
        "colab_type": "code",
        "id": "Kw_zcVDwEegI",
        "colab": {
          "base_uri": "https://localhost:8080/",
          "height": 230
        },
        "outputId": "bcb902c4-e561-4fe1-e92e-f71e1a0381bb"
      },
      "source": [
        "dataset = pd.read_excel(open('Online Retail.xlsx', 'rb'),sheet_name='Online Retail') \n",
        "dataset.head()"
      ],
      "execution_count": 338,
      "outputs": [
        {
          "output_type": "stream",
          "text": [
            "/usr/local/lib/python3.6/dist-packages/ipykernel_launcher.py:1: ResourceWarning: unclosed file <_io.BufferedReader name='Online Retail.xlsx'>\n",
            "  \"\"\"Entry point for launching an IPython kernel.\n"
          ],
          "name": "stderr"
        },
        {
          "output_type": "execute_result",
          "data": {
            "text/html": [
              "<div>\n",
              "<style scoped>\n",
              "    .dataframe tbody tr th:only-of-type {\n",
              "        vertical-align: middle;\n",
              "    }\n",
              "\n",
              "    .dataframe tbody tr th {\n",
              "        vertical-align: top;\n",
              "    }\n",
              "\n",
              "    .dataframe thead th {\n",
              "        text-align: right;\n",
              "    }\n",
              "</style>\n",
              "<table border=\"1\" class=\"dataframe\">\n",
              "  <thead>\n",
              "    <tr style=\"text-align: right;\">\n",
              "      <th></th>\n",
              "      <th>InvoiceNo</th>\n",
              "      <th>StockCode</th>\n",
              "      <th>Description</th>\n",
              "      <th>Quantity</th>\n",
              "      <th>InvoiceDate</th>\n",
              "      <th>UnitPrice</th>\n",
              "      <th>CustomerID</th>\n",
              "      <th>Country</th>\n",
              "    </tr>\n",
              "  </thead>\n",
              "  <tbody>\n",
              "    <tr>\n",
              "      <th>0</th>\n",
              "      <td>536365</td>\n",
              "      <td>85123A</td>\n",
              "      <td>WHITE HANGING HEART T-LIGHT HOLDER</td>\n",
              "      <td>6</td>\n",
              "      <td>2010-12-01 08:26:00</td>\n",
              "      <td>2.55</td>\n",
              "      <td>17850.0</td>\n",
              "      <td>United Kingdom</td>\n",
              "    </tr>\n",
              "    <tr>\n",
              "      <th>1</th>\n",
              "      <td>536365</td>\n",
              "      <td>71053</td>\n",
              "      <td>WHITE METAL LANTERN</td>\n",
              "      <td>6</td>\n",
              "      <td>2010-12-01 08:26:00</td>\n",
              "      <td>3.39</td>\n",
              "      <td>17850.0</td>\n",
              "      <td>United Kingdom</td>\n",
              "    </tr>\n",
              "    <tr>\n",
              "      <th>2</th>\n",
              "      <td>536365</td>\n",
              "      <td>84406B</td>\n",
              "      <td>CREAM CUPID HEARTS COAT HANGER</td>\n",
              "      <td>8</td>\n",
              "      <td>2010-12-01 08:26:00</td>\n",
              "      <td>2.75</td>\n",
              "      <td>17850.0</td>\n",
              "      <td>United Kingdom</td>\n",
              "    </tr>\n",
              "    <tr>\n",
              "      <th>3</th>\n",
              "      <td>536365</td>\n",
              "      <td>84029G</td>\n",
              "      <td>KNITTED UNION FLAG HOT WATER BOTTLE</td>\n",
              "      <td>6</td>\n",
              "      <td>2010-12-01 08:26:00</td>\n",
              "      <td>3.39</td>\n",
              "      <td>17850.0</td>\n",
              "      <td>United Kingdom</td>\n",
              "    </tr>\n",
              "    <tr>\n",
              "      <th>4</th>\n",
              "      <td>536365</td>\n",
              "      <td>84029E</td>\n",
              "      <td>RED WOOLLY HOTTIE WHITE HEART.</td>\n",
              "      <td>6</td>\n",
              "      <td>2010-12-01 08:26:00</td>\n",
              "      <td>3.39</td>\n",
              "      <td>17850.0</td>\n",
              "      <td>United Kingdom</td>\n",
              "    </tr>\n",
              "  </tbody>\n",
              "</table>\n",
              "</div>"
            ],
            "text/plain": [
              "  InvoiceNo StockCode  ... CustomerID         Country\n",
              "0    536365    85123A  ...    17850.0  United Kingdom\n",
              "1    536365     71053  ...    17850.0  United Kingdom\n",
              "2    536365    84406B  ...    17850.0  United Kingdom\n",
              "3    536365    84029G  ...    17850.0  United Kingdom\n",
              "4    536365    84029E  ...    17850.0  United Kingdom\n",
              "\n",
              "[5 rows x 8 columns]"
            ]
          },
          "metadata": {
            "tags": []
          },
          "execution_count": 338
        }
      ]
    },
    {
      "cell_type": "markdown",
      "metadata": {
        "id": "_8aKg1dzEkYo",
        "colab_type": "text"
      },
      "source": [
        "#### 1. Select only the transactions that have occurred during the period 09/01/11 and 11/30/11 and create a new subset of data. For answering Questions 2 to 5, use this subset of data."
      ]
    },
    {
      "cell_type": "code",
      "metadata": {
        "colab_type": "code",
        "id": "9iUueX6-EegK",
        "colab": {
          "base_uri": "https://localhost:8080/",
          "height": 230
        },
        "outputId": "cfdc5024-31a7-4ef5-e0a5-5f2e6ee7a623"
      },
      "source": [
        "subset_data = dataset[dataset.InvoiceDate >= \"2011-09-01 00:00:00\" ][dataset.InvoiceDate <= \"2011-11-30 23:59:59\"]\n",
        "subset_data.head()"
      ],
      "execution_count": 339,
      "outputs": [
        {
          "output_type": "stream",
          "text": [
            "/usr/local/lib/python3.6/dist-packages/ipykernel_launcher.py:1: UserWarning: Boolean Series key will be reindexed to match DataFrame index.\n",
            "  \"\"\"Entry point for launching an IPython kernel.\n"
          ],
          "name": "stderr"
        },
        {
          "output_type": "execute_result",
          "data": {
            "text/html": [
              "<div>\n",
              "<style scoped>\n",
              "    .dataframe tbody tr th:only-of-type {\n",
              "        vertical-align: middle;\n",
              "    }\n",
              "\n",
              "    .dataframe tbody tr th {\n",
              "        vertical-align: top;\n",
              "    }\n",
              "\n",
              "    .dataframe thead th {\n",
              "        text-align: right;\n",
              "    }\n",
              "</style>\n",
              "<table border=\"1\" class=\"dataframe\">\n",
              "  <thead>\n",
              "    <tr style=\"text-align: right;\">\n",
              "      <th></th>\n",
              "      <th>InvoiceNo</th>\n",
              "      <th>StockCode</th>\n",
              "      <th>Description</th>\n",
              "      <th>Quantity</th>\n",
              "      <th>InvoiceDate</th>\n",
              "      <th>UnitPrice</th>\n",
              "      <th>CustomerID</th>\n",
              "      <th>Country</th>\n",
              "    </tr>\n",
              "  </thead>\n",
              "  <tbody>\n",
              "    <tr>\n",
              "      <th>320705</th>\n",
              "      <td>565080</td>\n",
              "      <td>20677</td>\n",
              "      <td>PINK POLKADOT BOWL</td>\n",
              "      <td>8</td>\n",
              "      <td>2011-09-01 08:25:00</td>\n",
              "      <td>1.25</td>\n",
              "      <td>13509.0</td>\n",
              "      <td>United Kingdom</td>\n",
              "    </tr>\n",
              "    <tr>\n",
              "      <th>320706</th>\n",
              "      <td>565080</td>\n",
              "      <td>22128</td>\n",
              "      <td>PARTY CONES CANDY ASSORTED</td>\n",
              "      <td>24</td>\n",
              "      <td>2011-09-01 08:25:00</td>\n",
              "      <td>1.25</td>\n",
              "      <td>13509.0</td>\n",
              "      <td>United Kingdom</td>\n",
              "    </tr>\n",
              "    <tr>\n",
              "      <th>320707</th>\n",
              "      <td>565081</td>\n",
              "      <td>21067</td>\n",
              "      <td>NaN</td>\n",
              "      <td>1</td>\n",
              "      <td>2011-09-01 09:03:00</td>\n",
              "      <td>0.00</td>\n",
              "      <td>NaN</td>\n",
              "      <td>United Kingdom</td>\n",
              "    </tr>\n",
              "    <tr>\n",
              "      <th>320708</th>\n",
              "      <td>565082</td>\n",
              "      <td>22423</td>\n",
              "      <td>REGENCY CAKESTAND 3 TIER</td>\n",
              "      <td>2</td>\n",
              "      <td>2011-09-01 09:15:00</td>\n",
              "      <td>12.75</td>\n",
              "      <td>13305.0</td>\n",
              "      <td>United Kingdom</td>\n",
              "    </tr>\n",
              "    <tr>\n",
              "      <th>320709</th>\n",
              "      <td>565082</td>\n",
              "      <td>15060B</td>\n",
              "      <td>FAIRY CAKE DESIGN UMBRELLA</td>\n",
              "      <td>8</td>\n",
              "      <td>2011-09-01 09:15:00</td>\n",
              "      <td>3.75</td>\n",
              "      <td>13305.0</td>\n",
              "      <td>United Kingdom</td>\n",
              "    </tr>\n",
              "  </tbody>\n",
              "</table>\n",
              "</div>"
            ],
            "text/plain": [
              "       InvoiceNo StockCode  ... CustomerID         Country\n",
              "320705    565080     20677  ...    13509.0  United Kingdom\n",
              "320706    565080     22128  ...    13509.0  United Kingdom\n",
              "320707    565081     21067  ...        NaN  United Kingdom\n",
              "320708    565082     22423  ...    13305.0  United Kingdom\n",
              "320709    565082    15060B  ...    13305.0  United Kingdom\n",
              "\n",
              "[5 rows x 8 columns]"
            ]
          },
          "metadata": {
            "tags": []
          },
          "execution_count": 339
        }
      ]
    },
    {
      "cell_type": "markdown",
      "metadata": {
        "id": "loQBwVx4Et8F",
        "colab_type": "text"
      },
      "source": [
        "#### 2. Transform the above dataset in Question 1 into another dataset where each record represents an invoice. The record will have an InvoiceNo as column and StockCodes of the corresponding items bought in the invoice. The number of StockCodes in an invoice can be variable."
      ]
    },
    {
      "cell_type": "code",
      "metadata": {
        "id": "wZBohdPJEwdr",
        "colab_type": "code",
        "colab": {}
      },
      "source": [
        "subset_data = subset_data.dropna(axis=0, subset=[\"InvoiceNo\"])\n",
        "subset_data[\"InvoiceNo\"] = subset_data[\"InvoiceNo\"].astype(str)\n",
        "subset_data[\"StockCode\"] = subset_data[\"StockCode\"].astype(str)\n",
        "bucket = pd.DataFrame(np.unique(subset_data[\"InvoiceNo\"]), columns=[\"InvoiceNo\"])"
      ],
      "execution_count": 365,
      "outputs": []
    },
    {
      "cell_type": "code",
      "metadata": {
        "id": "eMH5XI45Gq_t",
        "colab_type": "code",
        "colab": {
          "base_uri": "https://localhost:8080/",
          "height": 195
        },
        "outputId": "a69e8bb0-354c-4ec7-b11c-1e1d55d28852"
      },
      "source": [
        "stock_code = []\n",
        "for i in bucket.values:\n",
        "  customer_invoices = subset_data[subset_data.InvoiceNo == i[0]]\n",
        "  stock_code.append(np.unique(customer_invoices.StockCode))\n",
        "\n",
        "bucket[\"StockCode\"] = stock_code\n",
        "bucket.head()"
      ],
      "execution_count": 397,
      "outputs": [
        {
          "output_type": "execute_result",
          "data": {
            "text/html": [
              "<div>\n",
              "<style scoped>\n",
              "    .dataframe tbody tr th:only-of-type {\n",
              "        vertical-align: middle;\n",
              "    }\n",
              "\n",
              "    .dataframe tbody tr th {\n",
              "        vertical-align: top;\n",
              "    }\n",
              "\n",
              "    .dataframe thead th {\n",
              "        text-align: right;\n",
              "    }\n",
              "</style>\n",
              "<table border=\"1\" class=\"dataframe\">\n",
              "  <thead>\n",
              "    <tr style=\"text-align: right;\">\n",
              "      <th></th>\n",
              "      <th>InvoiceNo</th>\n",
              "      <th>StockCode</th>\n",
              "    </tr>\n",
              "  </thead>\n",
              "  <tbody>\n",
              "    <tr>\n",
              "      <th>0</th>\n",
              "      <td>565080</td>\n",
              "      <td>[20677, 22128]</td>\n",
              "    </tr>\n",
              "    <tr>\n",
              "      <th>1</th>\n",
              "      <td>565081</td>\n",
              "      <td>[21067]</td>\n",
              "    </tr>\n",
              "    <tr>\n",
              "      <th>2</th>\n",
              "      <td>565082</td>\n",
              "      <td>[15060B, 22423, 23245]</td>\n",
              "    </tr>\n",
              "    <tr>\n",
              "      <th>3</th>\n",
              "      <td>565083</td>\n",
              "      <td>[21415, 22212, 22489, 22609, 22652, 22653, 227...</td>\n",
              "    </tr>\n",
              "    <tr>\n",
              "      <th>4</th>\n",
              "      <td>565084</td>\n",
              "      <td>[22616, 22659, 22902, 22970, 22988, 23309]</td>\n",
              "    </tr>\n",
              "  </tbody>\n",
              "</table>\n",
              "</div>"
            ],
            "text/plain": [
              "  InvoiceNo                                          StockCode\n",
              "0    565080                                     [20677, 22128]\n",
              "1    565081                                            [21067]\n",
              "2    565082                             [15060B, 22423, 23245]\n",
              "3    565083  [21415, 22212, 22489, 22609, 22652, 22653, 227...\n",
              "4    565084         [22616, 22659, 22902, 22970, 22988, 23309]"
            ]
          },
          "metadata": {
            "tags": []
          },
          "execution_count": 397
        }
      ]
    },
    {
      "cell_type": "markdown",
      "metadata": {
        "id": "8boOvzv6Ew5P",
        "colab_type": "text"
      },
      "source": [
        "#### 3. Prepare the data and generate the association rules from the above dataset in Question 2. Filter out all the rules by minimum support of 0.01 and lift of more than 1.0."
      ]
    },
    {
      "cell_type": "code",
      "metadata": {
        "id": "aqoTPF4fQ9iM",
        "colab_type": "code",
        "colab": {}
      },
      "source": [
        "bucket_items = bucket.iloc[:,1].values\n",
        "final_bucket = []\n",
        "for i in bucket_items:\n",
        "  temp_item = []\n",
        "  for j in i:\n",
        "    temp_item.append(j)\n",
        "  final_bucket.append(temp_item)"
      ],
      "execution_count": null,
      "outputs": []
    },
    {
      "cell_type": "markdown",
      "metadata": {
        "colab_type": "text",
        "id": "6-M9FIUaQBA-"
      },
      "source": [
        "##### Convert the transaction into one hot encoding format"
      ]
    },
    {
      "cell_type": "code",
      "metadata": {
        "colab_type": "code",
        "id": "RqpfCA8KQBBA",
        "colab": {
          "base_uri": "https://localhost:8080/",
          "height": 296
        },
        "outputId": "6fd6477e-8a01-4781-951d-cd56d905818b"
      },
      "source": [
        "from mlxtend.preprocessing import OnehotTransactions\n",
        "from mlxtend.frequent_patterns import apriori, association_rules\n",
        "# Initialize OnehotTransactions\n",
        "one_hot_encoding = OnehotTransactions()\n",
        "# Transform the data into one-hot-encoding format\n",
        "one_hot_txns = one_hot_encoding.fit(final_bucket).transform(final_bucket)\n",
        "# Conver the matrix into the dataframe.\n",
        "one_hot_txns_df = pd.DataFrame(one_hot_txns,columns=one_hot_encoding.columns_)\n",
        "one_hot_txns_df = one_hot_txns_df.astype(int)\n",
        "one_hot_txns_df.head()"
      ],
      "execution_count": 413,
      "outputs": [
        {
          "output_type": "stream",
          "text": [
            "/usr/local/lib/python3.6/dist-packages/mlxtend/preprocessing/onehot.py:66: DeprecationWarning: OnehotTransactions has been deprecated and will be removed in future. Please use TransactionEncoder instead.\n",
            "  warnings.warn(msg, DeprecationWarning)\n"
          ],
          "name": "stderr"
        },
        {
          "output_type": "execute_result",
          "data": {
            "text/html": [
              "<div>\n",
              "<style scoped>\n",
              "    .dataframe tbody tr th:only-of-type {\n",
              "        vertical-align: middle;\n",
              "    }\n",
              "\n",
              "    .dataframe tbody tr th {\n",
              "        vertical-align: top;\n",
              "    }\n",
              "\n",
              "    .dataframe thead th {\n",
              "        text-align: right;\n",
              "    }\n",
              "</style>\n",
              "<table border=\"1\" class=\"dataframe\">\n",
              "  <thead>\n",
              "    <tr style=\"text-align: right;\">\n",
              "      <th></th>\n",
              "      <th>10080</th>\n",
              "      <th>10120</th>\n",
              "      <th>10124A</th>\n",
              "      <th>10124G</th>\n",
              "      <th>10125</th>\n",
              "      <th>10133</th>\n",
              "      <th>10135</th>\n",
              "      <th>11001</th>\n",
              "      <th>15030</th>\n",
              "      <th>15034</th>\n",
              "      <th>15036</th>\n",
              "      <th>15039</th>\n",
              "      <th>15044A</th>\n",
              "      <th>15044B</th>\n",
              "      <th>15044C</th>\n",
              "      <th>15044D</th>\n",
              "      <th>15056BL</th>\n",
              "      <th>15056N</th>\n",
              "      <th>15056P</th>\n",
              "      <th>15056bl</th>\n",
              "      <th>15056n</th>\n",
              "      <th>15056p</th>\n",
              "      <th>15058A</th>\n",
              "      <th>15058B</th>\n",
              "      <th>15058C</th>\n",
              "      <th>15060B</th>\n",
              "      <th>15060b</th>\n",
              "      <th>16008</th>\n",
              "      <th>16011</th>\n",
              "      <th>16012</th>\n",
              "      <th>16014</th>\n",
              "      <th>16015</th>\n",
              "      <th>16016</th>\n",
              "      <th>16045</th>\n",
              "      <th>16046</th>\n",
              "      <th>16048</th>\n",
              "      <th>16054</th>\n",
              "      <th>16156L</th>\n",
              "      <th>16156S</th>\n",
              "      <th>16161G</th>\n",
              "      <th>...</th>\n",
              "      <th>90210D</th>\n",
              "      <th>90211A</th>\n",
              "      <th>90211B</th>\n",
              "      <th>90212C</th>\n",
              "      <th>90214A</th>\n",
              "      <th>90214B</th>\n",
              "      <th>90214C</th>\n",
              "      <th>90214D</th>\n",
              "      <th>90214E</th>\n",
              "      <th>90214F</th>\n",
              "      <th>90214G</th>\n",
              "      <th>90214H</th>\n",
              "      <th>90214I</th>\n",
              "      <th>90214J</th>\n",
              "      <th>90214K</th>\n",
              "      <th>90214L</th>\n",
              "      <th>90214M</th>\n",
              "      <th>90214N</th>\n",
              "      <th>90214O</th>\n",
              "      <th>90214P</th>\n",
              "      <th>90214R</th>\n",
              "      <th>90214S</th>\n",
              "      <th>90214T</th>\n",
              "      <th>90214V</th>\n",
              "      <th>90214Y</th>\n",
              "      <th>90214Z</th>\n",
              "      <th>AMAZONFEE</th>\n",
              "      <th>BANK CHARGES</th>\n",
              "      <th>C2</th>\n",
              "      <th>CRUK</th>\n",
              "      <th>D</th>\n",
              "      <th>DCGSSBOY</th>\n",
              "      <th>DCGSSGIRL</th>\n",
              "      <th>DOT</th>\n",
              "      <th>M</th>\n",
              "      <th>PADS</th>\n",
              "      <th>POST</th>\n",
              "      <th>S</th>\n",
              "      <th>gift_0001_20</th>\n",
              "      <th>gift_0001_30</th>\n",
              "    </tr>\n",
              "  </thead>\n",
              "  <tbody>\n",
              "    <tr>\n",
              "      <th>0</th>\n",
              "      <td>0</td>\n",
              "      <td>0</td>\n",
              "      <td>0</td>\n",
              "      <td>0</td>\n",
              "      <td>0</td>\n",
              "      <td>0</td>\n",
              "      <td>0</td>\n",
              "      <td>0</td>\n",
              "      <td>0</td>\n",
              "      <td>0</td>\n",
              "      <td>0</td>\n",
              "      <td>0</td>\n",
              "      <td>0</td>\n",
              "      <td>0</td>\n",
              "      <td>0</td>\n",
              "      <td>0</td>\n",
              "      <td>0</td>\n",
              "      <td>0</td>\n",
              "      <td>0</td>\n",
              "      <td>0</td>\n",
              "      <td>0</td>\n",
              "      <td>0</td>\n",
              "      <td>0</td>\n",
              "      <td>0</td>\n",
              "      <td>0</td>\n",
              "      <td>0</td>\n",
              "      <td>0</td>\n",
              "      <td>0</td>\n",
              "      <td>0</td>\n",
              "      <td>0</td>\n",
              "      <td>0</td>\n",
              "      <td>0</td>\n",
              "      <td>0</td>\n",
              "      <td>0</td>\n",
              "      <td>0</td>\n",
              "      <td>0</td>\n",
              "      <td>0</td>\n",
              "      <td>0</td>\n",
              "      <td>0</td>\n",
              "      <td>0</td>\n",
              "      <td>...</td>\n",
              "      <td>0</td>\n",
              "      <td>0</td>\n",
              "      <td>0</td>\n",
              "      <td>0</td>\n",
              "      <td>0</td>\n",
              "      <td>0</td>\n",
              "      <td>0</td>\n",
              "      <td>0</td>\n",
              "      <td>0</td>\n",
              "      <td>0</td>\n",
              "      <td>0</td>\n",
              "      <td>0</td>\n",
              "      <td>0</td>\n",
              "      <td>0</td>\n",
              "      <td>0</td>\n",
              "      <td>0</td>\n",
              "      <td>0</td>\n",
              "      <td>0</td>\n",
              "      <td>0</td>\n",
              "      <td>0</td>\n",
              "      <td>0</td>\n",
              "      <td>0</td>\n",
              "      <td>0</td>\n",
              "      <td>0</td>\n",
              "      <td>0</td>\n",
              "      <td>0</td>\n",
              "      <td>0</td>\n",
              "      <td>0</td>\n",
              "      <td>0</td>\n",
              "      <td>0</td>\n",
              "      <td>0</td>\n",
              "      <td>0</td>\n",
              "      <td>0</td>\n",
              "      <td>0</td>\n",
              "      <td>0</td>\n",
              "      <td>0</td>\n",
              "      <td>0</td>\n",
              "      <td>0</td>\n",
              "      <td>0</td>\n",
              "      <td>0</td>\n",
              "    </tr>\n",
              "    <tr>\n",
              "      <th>1</th>\n",
              "      <td>0</td>\n",
              "      <td>0</td>\n",
              "      <td>0</td>\n",
              "      <td>0</td>\n",
              "      <td>0</td>\n",
              "      <td>0</td>\n",
              "      <td>0</td>\n",
              "      <td>0</td>\n",
              "      <td>0</td>\n",
              "      <td>0</td>\n",
              "      <td>0</td>\n",
              "      <td>0</td>\n",
              "      <td>0</td>\n",
              "      <td>0</td>\n",
              "      <td>0</td>\n",
              "      <td>0</td>\n",
              "      <td>0</td>\n",
              "      <td>0</td>\n",
              "      <td>0</td>\n",
              "      <td>0</td>\n",
              "      <td>0</td>\n",
              "      <td>0</td>\n",
              "      <td>0</td>\n",
              "      <td>0</td>\n",
              "      <td>0</td>\n",
              "      <td>0</td>\n",
              "      <td>0</td>\n",
              "      <td>0</td>\n",
              "      <td>0</td>\n",
              "      <td>0</td>\n",
              "      <td>0</td>\n",
              "      <td>0</td>\n",
              "      <td>0</td>\n",
              "      <td>0</td>\n",
              "      <td>0</td>\n",
              "      <td>0</td>\n",
              "      <td>0</td>\n",
              "      <td>0</td>\n",
              "      <td>0</td>\n",
              "      <td>0</td>\n",
              "      <td>...</td>\n",
              "      <td>0</td>\n",
              "      <td>0</td>\n",
              "      <td>0</td>\n",
              "      <td>0</td>\n",
              "      <td>0</td>\n",
              "      <td>0</td>\n",
              "      <td>0</td>\n",
              "      <td>0</td>\n",
              "      <td>0</td>\n",
              "      <td>0</td>\n",
              "      <td>0</td>\n",
              "      <td>0</td>\n",
              "      <td>0</td>\n",
              "      <td>0</td>\n",
              "      <td>0</td>\n",
              "      <td>0</td>\n",
              "      <td>0</td>\n",
              "      <td>0</td>\n",
              "      <td>0</td>\n",
              "      <td>0</td>\n",
              "      <td>0</td>\n",
              "      <td>0</td>\n",
              "      <td>0</td>\n",
              "      <td>0</td>\n",
              "      <td>0</td>\n",
              "      <td>0</td>\n",
              "      <td>0</td>\n",
              "      <td>0</td>\n",
              "      <td>0</td>\n",
              "      <td>0</td>\n",
              "      <td>0</td>\n",
              "      <td>0</td>\n",
              "      <td>0</td>\n",
              "      <td>0</td>\n",
              "      <td>0</td>\n",
              "      <td>0</td>\n",
              "      <td>0</td>\n",
              "      <td>0</td>\n",
              "      <td>0</td>\n",
              "      <td>0</td>\n",
              "    </tr>\n",
              "    <tr>\n",
              "      <th>2</th>\n",
              "      <td>0</td>\n",
              "      <td>0</td>\n",
              "      <td>0</td>\n",
              "      <td>0</td>\n",
              "      <td>0</td>\n",
              "      <td>0</td>\n",
              "      <td>0</td>\n",
              "      <td>0</td>\n",
              "      <td>0</td>\n",
              "      <td>0</td>\n",
              "      <td>0</td>\n",
              "      <td>0</td>\n",
              "      <td>0</td>\n",
              "      <td>0</td>\n",
              "      <td>0</td>\n",
              "      <td>0</td>\n",
              "      <td>0</td>\n",
              "      <td>0</td>\n",
              "      <td>0</td>\n",
              "      <td>0</td>\n",
              "      <td>0</td>\n",
              "      <td>0</td>\n",
              "      <td>0</td>\n",
              "      <td>0</td>\n",
              "      <td>0</td>\n",
              "      <td>1</td>\n",
              "      <td>0</td>\n",
              "      <td>0</td>\n",
              "      <td>0</td>\n",
              "      <td>0</td>\n",
              "      <td>0</td>\n",
              "      <td>0</td>\n",
              "      <td>0</td>\n",
              "      <td>0</td>\n",
              "      <td>0</td>\n",
              "      <td>0</td>\n",
              "      <td>0</td>\n",
              "      <td>0</td>\n",
              "      <td>0</td>\n",
              "      <td>0</td>\n",
              "      <td>...</td>\n",
              "      <td>0</td>\n",
              "      <td>0</td>\n",
              "      <td>0</td>\n",
              "      <td>0</td>\n",
              "      <td>0</td>\n",
              "      <td>0</td>\n",
              "      <td>0</td>\n",
              "      <td>0</td>\n",
              "      <td>0</td>\n",
              "      <td>0</td>\n",
              "      <td>0</td>\n",
              "      <td>0</td>\n",
              "      <td>0</td>\n",
              "      <td>0</td>\n",
              "      <td>0</td>\n",
              "      <td>0</td>\n",
              "      <td>0</td>\n",
              "      <td>0</td>\n",
              "      <td>0</td>\n",
              "      <td>0</td>\n",
              "      <td>0</td>\n",
              "      <td>0</td>\n",
              "      <td>0</td>\n",
              "      <td>0</td>\n",
              "      <td>0</td>\n",
              "      <td>0</td>\n",
              "      <td>0</td>\n",
              "      <td>0</td>\n",
              "      <td>0</td>\n",
              "      <td>0</td>\n",
              "      <td>0</td>\n",
              "      <td>0</td>\n",
              "      <td>0</td>\n",
              "      <td>0</td>\n",
              "      <td>0</td>\n",
              "      <td>0</td>\n",
              "      <td>0</td>\n",
              "      <td>0</td>\n",
              "      <td>0</td>\n",
              "      <td>0</td>\n",
              "    </tr>\n",
              "    <tr>\n",
              "      <th>3</th>\n",
              "      <td>0</td>\n",
              "      <td>0</td>\n",
              "      <td>0</td>\n",
              "      <td>0</td>\n",
              "      <td>0</td>\n",
              "      <td>0</td>\n",
              "      <td>0</td>\n",
              "      <td>0</td>\n",
              "      <td>0</td>\n",
              "      <td>0</td>\n",
              "      <td>0</td>\n",
              "      <td>0</td>\n",
              "      <td>0</td>\n",
              "      <td>0</td>\n",
              "      <td>0</td>\n",
              "      <td>0</td>\n",
              "      <td>0</td>\n",
              "      <td>0</td>\n",
              "      <td>0</td>\n",
              "      <td>0</td>\n",
              "      <td>0</td>\n",
              "      <td>0</td>\n",
              "      <td>0</td>\n",
              "      <td>0</td>\n",
              "      <td>0</td>\n",
              "      <td>0</td>\n",
              "      <td>0</td>\n",
              "      <td>0</td>\n",
              "      <td>0</td>\n",
              "      <td>0</td>\n",
              "      <td>0</td>\n",
              "      <td>0</td>\n",
              "      <td>0</td>\n",
              "      <td>0</td>\n",
              "      <td>0</td>\n",
              "      <td>0</td>\n",
              "      <td>0</td>\n",
              "      <td>0</td>\n",
              "      <td>0</td>\n",
              "      <td>0</td>\n",
              "      <td>...</td>\n",
              "      <td>0</td>\n",
              "      <td>0</td>\n",
              "      <td>0</td>\n",
              "      <td>0</td>\n",
              "      <td>0</td>\n",
              "      <td>0</td>\n",
              "      <td>0</td>\n",
              "      <td>0</td>\n",
              "      <td>0</td>\n",
              "      <td>0</td>\n",
              "      <td>0</td>\n",
              "      <td>0</td>\n",
              "      <td>0</td>\n",
              "      <td>0</td>\n",
              "      <td>0</td>\n",
              "      <td>0</td>\n",
              "      <td>0</td>\n",
              "      <td>0</td>\n",
              "      <td>0</td>\n",
              "      <td>0</td>\n",
              "      <td>0</td>\n",
              "      <td>0</td>\n",
              "      <td>0</td>\n",
              "      <td>0</td>\n",
              "      <td>0</td>\n",
              "      <td>0</td>\n",
              "      <td>0</td>\n",
              "      <td>0</td>\n",
              "      <td>0</td>\n",
              "      <td>0</td>\n",
              "      <td>0</td>\n",
              "      <td>0</td>\n",
              "      <td>0</td>\n",
              "      <td>0</td>\n",
              "      <td>0</td>\n",
              "      <td>0</td>\n",
              "      <td>0</td>\n",
              "      <td>0</td>\n",
              "      <td>0</td>\n",
              "      <td>0</td>\n",
              "    </tr>\n",
              "    <tr>\n",
              "      <th>4</th>\n",
              "      <td>0</td>\n",
              "      <td>0</td>\n",
              "      <td>0</td>\n",
              "      <td>0</td>\n",
              "      <td>0</td>\n",
              "      <td>0</td>\n",
              "      <td>0</td>\n",
              "      <td>0</td>\n",
              "      <td>0</td>\n",
              "      <td>0</td>\n",
              "      <td>0</td>\n",
              "      <td>0</td>\n",
              "      <td>0</td>\n",
              "      <td>0</td>\n",
              "      <td>0</td>\n",
              "      <td>0</td>\n",
              "      <td>0</td>\n",
              "      <td>0</td>\n",
              "      <td>0</td>\n",
              "      <td>0</td>\n",
              "      <td>0</td>\n",
              "      <td>0</td>\n",
              "      <td>0</td>\n",
              "      <td>0</td>\n",
              "      <td>0</td>\n",
              "      <td>0</td>\n",
              "      <td>0</td>\n",
              "      <td>0</td>\n",
              "      <td>0</td>\n",
              "      <td>0</td>\n",
              "      <td>0</td>\n",
              "      <td>0</td>\n",
              "      <td>0</td>\n",
              "      <td>0</td>\n",
              "      <td>0</td>\n",
              "      <td>0</td>\n",
              "      <td>0</td>\n",
              "      <td>0</td>\n",
              "      <td>0</td>\n",
              "      <td>0</td>\n",
              "      <td>...</td>\n",
              "      <td>0</td>\n",
              "      <td>0</td>\n",
              "      <td>0</td>\n",
              "      <td>0</td>\n",
              "      <td>0</td>\n",
              "      <td>0</td>\n",
              "      <td>0</td>\n",
              "      <td>0</td>\n",
              "      <td>0</td>\n",
              "      <td>0</td>\n",
              "      <td>0</td>\n",
              "      <td>0</td>\n",
              "      <td>0</td>\n",
              "      <td>0</td>\n",
              "      <td>0</td>\n",
              "      <td>0</td>\n",
              "      <td>0</td>\n",
              "      <td>0</td>\n",
              "      <td>0</td>\n",
              "      <td>0</td>\n",
              "      <td>0</td>\n",
              "      <td>0</td>\n",
              "      <td>0</td>\n",
              "      <td>0</td>\n",
              "      <td>0</td>\n",
              "      <td>0</td>\n",
              "      <td>0</td>\n",
              "      <td>0</td>\n",
              "      <td>0</td>\n",
              "      <td>0</td>\n",
              "      <td>0</td>\n",
              "      <td>0</td>\n",
              "      <td>0</td>\n",
              "      <td>0</td>\n",
              "      <td>0</td>\n",
              "      <td>0</td>\n",
              "      <td>0</td>\n",
              "      <td>0</td>\n",
              "      <td>0</td>\n",
              "      <td>0</td>\n",
              "    </tr>\n",
              "  </tbody>\n",
              "</table>\n",
              "<p>5 rows × 3280 columns</p>\n",
              "</div>"
            ],
            "text/plain": [
              "   10080  10120  10124A  10124G  ...  POST  S  gift_0001_20  gift_0001_30\n",
              "0      0      0       0       0  ...     0  0             0             0\n",
              "1      0      0       0       0  ...     0  0             0             0\n",
              "2      0      0       0       0  ...     0  0             0             0\n",
              "3      0      0       0       0  ...     0  0             0             0\n",
              "4      0      0       0       0  ...     0  0             0             0\n",
              "\n",
              "[5 rows x 3280 columns]"
            ]
          },
          "metadata": {
            "tags": []
          },
          "execution_count": 413
        }
      ]
    },
    {
      "cell_type": "code",
      "metadata": {
        "colab_type": "code",
        "id": "9Lc3J2LsQBBF",
        "colab": {}
      },
      "source": [
        "frequent_itemsets = apriori(one_hot_txns_df, min_support=0.02, use_colnames=True)"
      ],
      "execution_count": 414,
      "outputs": []
    },
    {
      "cell_type": "markdown",
      "metadata": {
        "id": "H0vFsdRbExli",
        "colab_type": "text"
      },
      "source": [
        "#### 4. Find the top 10 rules from the above association rule set, sorted by confidence in descending order."
      ]
    },
    {
      "cell_type": "code",
      "metadata": {
        "id": "o2dcDMO7E4_O",
        "colab_type": "code",
        "colab": {
          "base_uri": "https://localhost:8080/",
          "height": 343
        },
        "outputId": "074cdd41-20ec-4a98-e0dd-cf59de0f53d3"
      },
      "source": [
        "rules = association_rules(frequent_itemsets, metric=\"lift\", min_threshold=1)\n",
        "rules.sort_values('confidence', ascending = False)[0:10]"
      ],
      "execution_count": 415,
      "outputs": [
        {
          "output_type": "execute_result",
          "data": {
            "text/html": [
              "<div>\n",
              "<style scoped>\n",
              "    .dataframe tbody tr th:only-of-type {\n",
              "        vertical-align: middle;\n",
              "    }\n",
              "\n",
              "    .dataframe tbody tr th {\n",
              "        vertical-align: top;\n",
              "    }\n",
              "\n",
              "    .dataframe thead th {\n",
              "        text-align: right;\n",
              "    }\n",
              "</style>\n",
              "<table border=\"1\" class=\"dataframe\">\n",
              "  <thead>\n",
              "    <tr style=\"text-align: right;\">\n",
              "      <th></th>\n",
              "      <th>antecedents</th>\n",
              "      <th>consequents</th>\n",
              "      <th>antecedent support</th>\n",
              "      <th>consequent support</th>\n",
              "      <th>support</th>\n",
              "      <th>confidence</th>\n",
              "      <th>lift</th>\n",
              "      <th>leverage</th>\n",
              "      <th>conviction</th>\n",
              "    </tr>\n",
              "  </thead>\n",
              "  <tbody>\n",
              "    <tr>\n",
              "      <th>120</th>\n",
              "      <td>(22577, 22579)</td>\n",
              "      <td>(22578)</td>\n",
              "      <td>0.027534</td>\n",
              "      <td>0.051507</td>\n",
              "      <td>0.025516</td>\n",
              "      <td>0.926724</td>\n",
              "      <td>17.992114</td>\n",
              "      <td>0.024098</td>\n",
              "      <td>12.944136</td>\n",
              "    </tr>\n",
              "    <tr>\n",
              "      <th>56</th>\n",
              "      <td>(22579)</td>\n",
              "      <td>(22578)</td>\n",
              "      <td>0.036316</td>\n",
              "      <td>0.051507</td>\n",
              "      <td>0.030738</td>\n",
              "      <td>0.846405</td>\n",
              "      <td>16.432743</td>\n",
              "      <td>0.028868</td>\n",
              "      <td>6.175293</td>\n",
              "    </tr>\n",
              "    <tr>\n",
              "      <th>122</th>\n",
              "      <td>(22579, 22578)</td>\n",
              "      <td>(22577)</td>\n",
              "      <td>0.030738</td>\n",
              "      <td>0.050558</td>\n",
              "      <td>0.025516</td>\n",
              "      <td>0.830116</td>\n",
              "      <td>16.419146</td>\n",
              "      <td>0.023962</td>\n",
              "      <td>5.588762</td>\n",
              "    </tr>\n",
              "    <tr>\n",
              "      <th>59</th>\n",
              "      <td>(22698)</td>\n",
              "      <td>(22697)</td>\n",
              "      <td>0.029195</td>\n",
              "      <td>0.032281</td>\n",
              "      <td>0.023617</td>\n",
              "      <td>0.808943</td>\n",
              "      <td>25.059391</td>\n",
              "      <td>0.022675</td>\n",
              "      <td>5.065082</td>\n",
              "    </tr>\n",
              "    <tr>\n",
              "      <th>52</th>\n",
              "      <td>(22577)</td>\n",
              "      <td>(22578)</td>\n",
              "      <td>0.050558</td>\n",
              "      <td>0.051507</td>\n",
              "      <td>0.040351</td>\n",
              "      <td>0.798122</td>\n",
              "      <td>15.495338</td>\n",
              "      <td>0.037747</td>\n",
              "      <td>4.698348</td>\n",
              "    </tr>\n",
              "    <tr>\n",
              "      <th>53</th>\n",
              "      <td>(22578)</td>\n",
              "      <td>(22577)</td>\n",
              "      <td>0.051507</td>\n",
              "      <td>0.050558</td>\n",
              "      <td>0.040351</td>\n",
              "      <td>0.783410</td>\n",
              "      <td>15.495338</td>\n",
              "      <td>0.037747</td>\n",
              "      <td>4.383595</td>\n",
              "    </tr>\n",
              "    <tr>\n",
              "      <th>63</th>\n",
              "      <td>(22698)</td>\n",
              "      <td>(22699)</td>\n",
              "      <td>0.029195</td>\n",
              "      <td>0.036079</td>\n",
              "      <td>0.022312</td>\n",
              "      <td>0.764228</td>\n",
              "      <td>21.182178</td>\n",
              "      <td>0.021259</td>\n",
              "      <td>4.088355</td>\n",
              "    </tr>\n",
              "    <tr>\n",
              "      <th>55</th>\n",
              "      <td>(22579)</td>\n",
              "      <td>(22577)</td>\n",
              "      <td>0.036316</td>\n",
              "      <td>0.050558</td>\n",
              "      <td>0.027534</td>\n",
              "      <td>0.758170</td>\n",
              "      <td>14.996103</td>\n",
              "      <td>0.025698</td>\n",
              "      <td>3.926072</td>\n",
              "    </tr>\n",
              "    <tr>\n",
              "      <th>61</th>\n",
              "      <td>(22697)</td>\n",
              "      <td>(22699)</td>\n",
              "      <td>0.032281</td>\n",
              "      <td>0.036079</td>\n",
              "      <td>0.024448</td>\n",
              "      <td>0.757353</td>\n",
              "      <td>20.991631</td>\n",
              "      <td>0.023283</td>\n",
              "      <td>3.972524</td>\n",
              "    </tr>\n",
              "    <tr>\n",
              "      <th>105</th>\n",
              "      <td>(23265)</td>\n",
              "      <td>(23266)</td>\n",
              "      <td>0.028602</td>\n",
              "      <td>0.030263</td>\n",
              "      <td>0.021600</td>\n",
              "      <td>0.755187</td>\n",
              "      <td>24.953739</td>\n",
              "      <td>0.020734</td>\n",
              "      <td>3.961127</td>\n",
              "    </tr>\n",
              "  </tbody>\n",
              "</table>\n",
              "</div>"
            ],
            "text/plain": [
              "        antecedents consequents  ...  leverage  conviction\n",
              "120  (22577, 22579)     (22578)  ...  0.024098   12.944136\n",
              "56          (22579)     (22578)  ...  0.028868    6.175293\n",
              "122  (22579, 22578)     (22577)  ...  0.023962    5.588762\n",
              "59          (22698)     (22697)  ...  0.022675    5.065082\n",
              "52          (22577)     (22578)  ...  0.037747    4.698348\n",
              "53          (22578)     (22577)  ...  0.037747    4.383595\n",
              "63          (22698)     (22699)  ...  0.021259    4.088355\n",
              "55          (22579)     (22577)  ...  0.025698    3.926072\n",
              "61          (22697)     (22699)  ...  0.023283    3.972524\n",
              "105         (23265)     (23266)  ...  0.020734    3.961127\n",
              "\n",
              "[10 rows x 9 columns]"
            ]
          },
          "metadata": {
            "tags": []
          },
          "execution_count": 415
        }
      ]
    },
    {
      "cell_type": "markdown",
      "metadata": {
        "id": "97EAciJ9E5Sl",
        "colab_type": "text"
      },
      "source": [
        "#### 5. Repeat the complete exercise from Question 1 to Question 4 for all invoices of country France only for the period between 01/12/2010 and 09/12/2011. Find the top 10 rules from the above association rule set, sorted by confidence in descending order."
      ]
    },
    {
      "cell_type": "code",
      "metadata": {
        "colab_type": "code",
        "id": "DwsJ8bjQR4dZ",
        "colab": {
          "base_uri": "https://localhost:8080/",
          "height": 230
        },
        "outputId": "738b9dbf-ca2f-414e-b5ad-5b47de8ba72f"
      },
      "source": [
        "subset_data = dataset[dataset.Country == \"France\"][dataset.InvoiceDate >= \"2010-12-01 00:00:00\" ][dataset.InvoiceDate <= \"2011-12-09 23:59:59\"]\n",
        "subset_data.head()"
      ],
      "execution_count": 416,
      "outputs": [
        {
          "output_type": "stream",
          "text": [
            "/usr/local/lib/python3.6/dist-packages/ipykernel_launcher.py:1: UserWarning: Boolean Series key will be reindexed to match DataFrame index.\n",
            "  \"\"\"Entry point for launching an IPython kernel.\n"
          ],
          "name": "stderr"
        },
        {
          "output_type": "execute_result",
          "data": {
            "text/html": [
              "<div>\n",
              "<style scoped>\n",
              "    .dataframe tbody tr th:only-of-type {\n",
              "        vertical-align: middle;\n",
              "    }\n",
              "\n",
              "    .dataframe tbody tr th {\n",
              "        vertical-align: top;\n",
              "    }\n",
              "\n",
              "    .dataframe thead th {\n",
              "        text-align: right;\n",
              "    }\n",
              "</style>\n",
              "<table border=\"1\" class=\"dataframe\">\n",
              "  <thead>\n",
              "    <tr style=\"text-align: right;\">\n",
              "      <th></th>\n",
              "      <th>InvoiceNo</th>\n",
              "      <th>StockCode</th>\n",
              "      <th>Description</th>\n",
              "      <th>Quantity</th>\n",
              "      <th>InvoiceDate</th>\n",
              "      <th>UnitPrice</th>\n",
              "      <th>CustomerID</th>\n",
              "      <th>Country</th>\n",
              "    </tr>\n",
              "  </thead>\n",
              "  <tbody>\n",
              "    <tr>\n",
              "      <th>26</th>\n",
              "      <td>536370</td>\n",
              "      <td>22728</td>\n",
              "      <td>ALARM CLOCK BAKELIKE PINK</td>\n",
              "      <td>24</td>\n",
              "      <td>2010-12-01 08:45:00</td>\n",
              "      <td>3.75</td>\n",
              "      <td>12583.0</td>\n",
              "      <td>France</td>\n",
              "    </tr>\n",
              "    <tr>\n",
              "      <th>27</th>\n",
              "      <td>536370</td>\n",
              "      <td>22727</td>\n",
              "      <td>ALARM CLOCK BAKELIKE RED</td>\n",
              "      <td>24</td>\n",
              "      <td>2010-12-01 08:45:00</td>\n",
              "      <td>3.75</td>\n",
              "      <td>12583.0</td>\n",
              "      <td>France</td>\n",
              "    </tr>\n",
              "    <tr>\n",
              "      <th>28</th>\n",
              "      <td>536370</td>\n",
              "      <td>22726</td>\n",
              "      <td>ALARM CLOCK BAKELIKE GREEN</td>\n",
              "      <td>12</td>\n",
              "      <td>2010-12-01 08:45:00</td>\n",
              "      <td>3.75</td>\n",
              "      <td>12583.0</td>\n",
              "      <td>France</td>\n",
              "    </tr>\n",
              "    <tr>\n",
              "      <th>29</th>\n",
              "      <td>536370</td>\n",
              "      <td>21724</td>\n",
              "      <td>PANDA AND BUNNIES STICKER SHEET</td>\n",
              "      <td>12</td>\n",
              "      <td>2010-12-01 08:45:00</td>\n",
              "      <td>0.85</td>\n",
              "      <td>12583.0</td>\n",
              "      <td>France</td>\n",
              "    </tr>\n",
              "    <tr>\n",
              "      <th>30</th>\n",
              "      <td>536370</td>\n",
              "      <td>21883</td>\n",
              "      <td>STARS GIFT TAPE</td>\n",
              "      <td>24</td>\n",
              "      <td>2010-12-01 08:45:00</td>\n",
              "      <td>0.65</td>\n",
              "      <td>12583.0</td>\n",
              "      <td>France</td>\n",
              "    </tr>\n",
              "  </tbody>\n",
              "</table>\n",
              "</div>"
            ],
            "text/plain": [
              "   InvoiceNo StockCode  ... CustomerID  Country\n",
              "26    536370     22728  ...    12583.0   France\n",
              "27    536370     22727  ...    12583.0   France\n",
              "28    536370     22726  ...    12583.0   France\n",
              "29    536370     21724  ...    12583.0   France\n",
              "30    536370     21883  ...    12583.0   France\n",
              "\n",
              "[5 rows x 8 columns]"
            ]
          },
          "metadata": {
            "tags": []
          },
          "execution_count": 416
        }
      ]
    },
    {
      "cell_type": "code",
      "metadata": {
        "colab_type": "code",
        "id": "RO6IsBKjR4dq",
        "colab": {}
      },
      "source": [
        "subset_data = subset_data.dropna(axis=0, subset=[\"InvoiceNo\"])\n",
        "subset_data[\"InvoiceNo\"] = subset_data[\"InvoiceNo\"].astype(str)\n",
        "subset_data[\"StockCode\"] = subset_data[\"StockCode\"].astype(str)\n",
        "bucket = pd.DataFrame(np.unique(subset_data[\"InvoiceNo\"]), columns=[\"InvoiceNo\"])"
      ],
      "execution_count": 417,
      "outputs": []
    },
    {
      "cell_type": "code",
      "metadata": {
        "colab_type": "code",
        "id": "O72VcMdVR4dy",
        "colab": {
          "base_uri": "https://localhost:8080/",
          "height": 195
        },
        "outputId": "9ac19eb5-79b5-4ad0-95f8-3d594481e496"
      },
      "source": [
        "stock_code = []\n",
        "for i in bucket.values:\n",
        "  customer_invoices = subset_data[subset_data.InvoiceNo == i[0]]\n",
        "  stock_code.append(np.unique(customer_invoices.StockCode))\n",
        "\n",
        "bucket[\"StockCode\"] = stock_code\n",
        "bucket.head()"
      ],
      "execution_count": 418,
      "outputs": [
        {
          "output_type": "execute_result",
          "data": {
            "text/html": [
              "<div>\n",
              "<style scoped>\n",
              "    .dataframe tbody tr th:only-of-type {\n",
              "        vertical-align: middle;\n",
              "    }\n",
              "\n",
              "    .dataframe tbody tr th {\n",
              "        vertical-align: top;\n",
              "    }\n",
              "\n",
              "    .dataframe thead th {\n",
              "        text-align: right;\n",
              "    }\n",
              "</style>\n",
              "<table border=\"1\" class=\"dataframe\">\n",
              "  <thead>\n",
              "    <tr style=\"text-align: right;\">\n",
              "      <th></th>\n",
              "      <th>InvoiceNo</th>\n",
              "      <th>StockCode</th>\n",
              "    </tr>\n",
              "  </thead>\n",
              "  <tbody>\n",
              "    <tr>\n",
              "      <th>0</th>\n",
              "      <td>536370</td>\n",
              "      <td>[10002, 21035, 21724, 21731, 21791, 21883, 219...</td>\n",
              "    </tr>\n",
              "    <tr>\n",
              "      <th>1</th>\n",
              "      <td>536852</td>\n",
              "      <td>[21786, 21791, 22539, 22544, 22549, 22661, POST]</td>\n",
              "    </tr>\n",
              "    <tr>\n",
              "      <th>2</th>\n",
              "      <td>536974</td>\n",
              "      <td>[15056BL, 15056P, 20679, 20725, 20726, 20749, ...</td>\n",
              "    </tr>\n",
              "    <tr>\n",
              "      <th>3</th>\n",
              "      <td>537065</td>\n",
              "      <td>[16238, 20665, 20725, 20726, 20728, 20749, 207...</td>\n",
              "    </tr>\n",
              "    <tr>\n",
              "      <th>4</th>\n",
              "      <td>537463</td>\n",
              "      <td>[20681, 20682, 20719, 21064, 21121, 21124, 211...</td>\n",
              "    </tr>\n",
              "  </tbody>\n",
              "</table>\n",
              "</div>"
            ],
            "text/plain": [
              "  InvoiceNo                                          StockCode\n",
              "0    536370  [10002, 21035, 21724, 21731, 21791, 21883, 219...\n",
              "1    536852   [21786, 21791, 22539, 22544, 22549, 22661, POST]\n",
              "2    536974  [15056BL, 15056P, 20679, 20725, 20726, 20749, ...\n",
              "3    537065  [16238, 20665, 20725, 20726, 20728, 20749, 207...\n",
              "4    537463  [20681, 20682, 20719, 21064, 21121, 21124, 211..."
            ]
          },
          "metadata": {
            "tags": []
          },
          "execution_count": 418
        }
      ]
    },
    {
      "cell_type": "code",
      "metadata": {
        "colab_type": "code",
        "id": "Qu2kXN8OR4d_",
        "colab": {}
      },
      "source": [
        "bucket_items = bucket.iloc[:,1].values\n",
        "final_bucket = []\n",
        "for i in bucket_items:\n",
        "  temp_item = []\n",
        "  for j in i:\n",
        "    temp_item.append(j)\n",
        "  final_bucket.append(temp_item)"
      ],
      "execution_count": 419,
      "outputs": []
    },
    {
      "cell_type": "code",
      "metadata": {
        "colab_type": "code",
        "id": "LIj9JwGoR4eH",
        "colab": {
          "base_uri": "https://localhost:8080/",
          "height": 279
        },
        "outputId": "b45a708c-bd5f-431f-f9da-684848f38f77"
      },
      "source": [
        "from mlxtend.preprocessing import OnehotTransactions\n",
        "from mlxtend.frequent_patterns import apriori, association_rules\n",
        "# Initialize OnehotTransactions\n",
        "one_hot_encoding = OnehotTransactions()\n",
        "# Transform the data into one-hot-encoding format\n",
        "one_hot_txns = one_hot_encoding.fit(final_bucket).transform(final_bucket)\n",
        "# Conver the matrix into the dataframe.\n",
        "one_hot_txns_df = pd.DataFrame(one_hot_txns,columns=one_hot_encoding.columns_)\n",
        "one_hot_txns_df = one_hot_txns_df.astype(int)\n",
        "one_hot_txns_df.head()"
      ],
      "execution_count": 420,
      "outputs": [
        {
          "output_type": "stream",
          "text": [
            "/usr/local/lib/python3.6/dist-packages/mlxtend/preprocessing/onehot.py:66: DeprecationWarning: OnehotTransactions has been deprecated and will be removed in future. Please use TransactionEncoder instead.\n",
            "  warnings.warn(msg, DeprecationWarning)\n"
          ],
          "name": "stderr"
        },
        {
          "output_type": "execute_result",
          "data": {
            "text/html": [
              "<div>\n",
              "<style scoped>\n",
              "    .dataframe tbody tr th:only-of-type {\n",
              "        vertical-align: middle;\n",
              "    }\n",
              "\n",
              "    .dataframe tbody tr th {\n",
              "        vertical-align: top;\n",
              "    }\n",
              "\n",
              "    .dataframe thead th {\n",
              "        text-align: right;\n",
              "    }\n",
              "</style>\n",
              "<table border=\"1\" class=\"dataframe\">\n",
              "  <thead>\n",
              "    <tr style=\"text-align: right;\">\n",
              "      <th></th>\n",
              "      <th>10002</th>\n",
              "      <th>10120</th>\n",
              "      <th>10125</th>\n",
              "      <th>10135</th>\n",
              "      <th>11001</th>\n",
              "      <th>15036</th>\n",
              "      <th>15039</th>\n",
              "      <th>15044C</th>\n",
              "      <th>15056BL</th>\n",
              "      <th>15056N</th>\n",
              "      <th>15056P</th>\n",
              "      <th>15058A</th>\n",
              "      <th>15058B</th>\n",
              "      <th>15058C</th>\n",
              "      <th>16012</th>\n",
              "      <th>16048</th>\n",
              "      <th>16156L</th>\n",
              "      <th>16156S</th>\n",
              "      <th>16161P</th>\n",
              "      <th>16161U</th>\n",
              "      <th>16169E</th>\n",
              "      <th>16218</th>\n",
              "      <th>16219</th>\n",
              "      <th>16225</th>\n",
              "      <th>16236</th>\n",
              "      <th>16237</th>\n",
              "      <th>16238</th>\n",
              "      <th>16258A</th>\n",
              "      <th>17011F</th>\n",
              "      <th>17012A</th>\n",
              "      <th>17012B</th>\n",
              "      <th>17174</th>\n",
              "      <th>20615</th>\n",
              "      <th>20617</th>\n",
              "      <th>20658</th>\n",
              "      <th>20665</th>\n",
              "      <th>20668</th>\n",
              "      <th>20674</th>\n",
              "      <th>20675</th>\n",
              "      <th>20676</th>\n",
              "      <th>...</th>\n",
              "      <th>85088</th>\n",
              "      <th>85095</th>\n",
              "      <th>85099B</th>\n",
              "      <th>85099C</th>\n",
              "      <th>85099F</th>\n",
              "      <th>85114C</th>\n",
              "      <th>85116</th>\n",
              "      <th>85123A</th>\n",
              "      <th>85130C</th>\n",
              "      <th>85135C</th>\n",
              "      <th>85136A</th>\n",
              "      <th>85150</th>\n",
              "      <th>85159B</th>\n",
              "      <th>85169B</th>\n",
              "      <th>85169D</th>\n",
              "      <th>85170D</th>\n",
              "      <th>85172</th>\n",
              "      <th>85173</th>\n",
              "      <th>85175</th>\n",
              "      <th>85183B</th>\n",
              "      <th>85194S</th>\n",
              "      <th>85199L</th>\n",
              "      <th>85199S</th>\n",
              "      <th>85206A</th>\n",
              "      <th>85227</th>\n",
              "      <th>85230B</th>\n",
              "      <th>85230E</th>\n",
              "      <th>85230G</th>\n",
              "      <th>85232D</th>\n",
              "      <th>90030B</th>\n",
              "      <th>90030C</th>\n",
              "      <th>90031</th>\n",
              "      <th>90099</th>\n",
              "      <th>90184B</th>\n",
              "      <th>90184C</th>\n",
              "      <th>90201B</th>\n",
              "      <th>90201C</th>\n",
              "      <th>C2</th>\n",
              "      <th>M</th>\n",
              "      <th>POST</th>\n",
              "    </tr>\n",
              "  </thead>\n",
              "  <tbody>\n",
              "    <tr>\n",
              "      <th>0</th>\n",
              "      <td>1</td>\n",
              "      <td>0</td>\n",
              "      <td>0</td>\n",
              "      <td>0</td>\n",
              "      <td>0</td>\n",
              "      <td>0</td>\n",
              "      <td>0</td>\n",
              "      <td>0</td>\n",
              "      <td>0</td>\n",
              "      <td>0</td>\n",
              "      <td>0</td>\n",
              "      <td>0</td>\n",
              "      <td>0</td>\n",
              "      <td>0</td>\n",
              "      <td>0</td>\n",
              "      <td>0</td>\n",
              "      <td>0</td>\n",
              "      <td>0</td>\n",
              "      <td>0</td>\n",
              "      <td>0</td>\n",
              "      <td>0</td>\n",
              "      <td>0</td>\n",
              "      <td>0</td>\n",
              "      <td>0</td>\n",
              "      <td>0</td>\n",
              "      <td>0</td>\n",
              "      <td>0</td>\n",
              "      <td>0</td>\n",
              "      <td>0</td>\n",
              "      <td>0</td>\n",
              "      <td>0</td>\n",
              "      <td>0</td>\n",
              "      <td>0</td>\n",
              "      <td>0</td>\n",
              "      <td>0</td>\n",
              "      <td>0</td>\n",
              "      <td>0</td>\n",
              "      <td>0</td>\n",
              "      <td>0</td>\n",
              "      <td>0</td>\n",
              "      <td>...</td>\n",
              "      <td>0</td>\n",
              "      <td>0</td>\n",
              "      <td>0</td>\n",
              "      <td>0</td>\n",
              "      <td>0</td>\n",
              "      <td>0</td>\n",
              "      <td>0</td>\n",
              "      <td>0</td>\n",
              "      <td>0</td>\n",
              "      <td>0</td>\n",
              "      <td>0</td>\n",
              "      <td>0</td>\n",
              "      <td>0</td>\n",
              "      <td>0</td>\n",
              "      <td>0</td>\n",
              "      <td>0</td>\n",
              "      <td>0</td>\n",
              "      <td>0</td>\n",
              "      <td>0</td>\n",
              "      <td>0</td>\n",
              "      <td>0</td>\n",
              "      <td>0</td>\n",
              "      <td>0</td>\n",
              "      <td>0</td>\n",
              "      <td>0</td>\n",
              "      <td>0</td>\n",
              "      <td>0</td>\n",
              "      <td>0</td>\n",
              "      <td>0</td>\n",
              "      <td>0</td>\n",
              "      <td>0</td>\n",
              "      <td>0</td>\n",
              "      <td>0</td>\n",
              "      <td>0</td>\n",
              "      <td>0</td>\n",
              "      <td>0</td>\n",
              "      <td>0</td>\n",
              "      <td>0</td>\n",
              "      <td>0</td>\n",
              "      <td>1</td>\n",
              "    </tr>\n",
              "    <tr>\n",
              "      <th>1</th>\n",
              "      <td>0</td>\n",
              "      <td>0</td>\n",
              "      <td>0</td>\n",
              "      <td>0</td>\n",
              "      <td>0</td>\n",
              "      <td>0</td>\n",
              "      <td>0</td>\n",
              "      <td>0</td>\n",
              "      <td>0</td>\n",
              "      <td>0</td>\n",
              "      <td>0</td>\n",
              "      <td>0</td>\n",
              "      <td>0</td>\n",
              "      <td>0</td>\n",
              "      <td>0</td>\n",
              "      <td>0</td>\n",
              "      <td>0</td>\n",
              "      <td>0</td>\n",
              "      <td>0</td>\n",
              "      <td>0</td>\n",
              "      <td>0</td>\n",
              "      <td>0</td>\n",
              "      <td>0</td>\n",
              "      <td>0</td>\n",
              "      <td>0</td>\n",
              "      <td>0</td>\n",
              "      <td>0</td>\n",
              "      <td>0</td>\n",
              "      <td>0</td>\n",
              "      <td>0</td>\n",
              "      <td>0</td>\n",
              "      <td>0</td>\n",
              "      <td>0</td>\n",
              "      <td>0</td>\n",
              "      <td>0</td>\n",
              "      <td>0</td>\n",
              "      <td>0</td>\n",
              "      <td>0</td>\n",
              "      <td>0</td>\n",
              "      <td>0</td>\n",
              "      <td>...</td>\n",
              "      <td>0</td>\n",
              "      <td>0</td>\n",
              "      <td>0</td>\n",
              "      <td>0</td>\n",
              "      <td>0</td>\n",
              "      <td>0</td>\n",
              "      <td>0</td>\n",
              "      <td>0</td>\n",
              "      <td>0</td>\n",
              "      <td>0</td>\n",
              "      <td>0</td>\n",
              "      <td>0</td>\n",
              "      <td>0</td>\n",
              "      <td>0</td>\n",
              "      <td>0</td>\n",
              "      <td>0</td>\n",
              "      <td>0</td>\n",
              "      <td>0</td>\n",
              "      <td>0</td>\n",
              "      <td>0</td>\n",
              "      <td>0</td>\n",
              "      <td>0</td>\n",
              "      <td>0</td>\n",
              "      <td>0</td>\n",
              "      <td>0</td>\n",
              "      <td>0</td>\n",
              "      <td>0</td>\n",
              "      <td>0</td>\n",
              "      <td>0</td>\n",
              "      <td>0</td>\n",
              "      <td>0</td>\n",
              "      <td>0</td>\n",
              "      <td>0</td>\n",
              "      <td>0</td>\n",
              "      <td>0</td>\n",
              "      <td>0</td>\n",
              "      <td>0</td>\n",
              "      <td>0</td>\n",
              "      <td>0</td>\n",
              "      <td>1</td>\n",
              "    </tr>\n",
              "    <tr>\n",
              "      <th>2</th>\n",
              "      <td>0</td>\n",
              "      <td>0</td>\n",
              "      <td>0</td>\n",
              "      <td>0</td>\n",
              "      <td>0</td>\n",
              "      <td>0</td>\n",
              "      <td>0</td>\n",
              "      <td>0</td>\n",
              "      <td>1</td>\n",
              "      <td>0</td>\n",
              "      <td>1</td>\n",
              "      <td>0</td>\n",
              "      <td>0</td>\n",
              "      <td>0</td>\n",
              "      <td>0</td>\n",
              "      <td>0</td>\n",
              "      <td>0</td>\n",
              "      <td>0</td>\n",
              "      <td>0</td>\n",
              "      <td>0</td>\n",
              "      <td>0</td>\n",
              "      <td>0</td>\n",
              "      <td>0</td>\n",
              "      <td>0</td>\n",
              "      <td>0</td>\n",
              "      <td>0</td>\n",
              "      <td>0</td>\n",
              "      <td>0</td>\n",
              "      <td>0</td>\n",
              "      <td>0</td>\n",
              "      <td>0</td>\n",
              "      <td>0</td>\n",
              "      <td>0</td>\n",
              "      <td>0</td>\n",
              "      <td>0</td>\n",
              "      <td>0</td>\n",
              "      <td>0</td>\n",
              "      <td>0</td>\n",
              "      <td>0</td>\n",
              "      <td>0</td>\n",
              "      <td>...</td>\n",
              "      <td>0</td>\n",
              "      <td>0</td>\n",
              "      <td>0</td>\n",
              "      <td>0</td>\n",
              "      <td>0</td>\n",
              "      <td>0</td>\n",
              "      <td>0</td>\n",
              "      <td>0</td>\n",
              "      <td>0</td>\n",
              "      <td>0</td>\n",
              "      <td>0</td>\n",
              "      <td>0</td>\n",
              "      <td>0</td>\n",
              "      <td>0</td>\n",
              "      <td>0</td>\n",
              "      <td>0</td>\n",
              "      <td>0</td>\n",
              "      <td>0</td>\n",
              "      <td>0</td>\n",
              "      <td>0</td>\n",
              "      <td>0</td>\n",
              "      <td>0</td>\n",
              "      <td>0</td>\n",
              "      <td>0</td>\n",
              "      <td>0</td>\n",
              "      <td>0</td>\n",
              "      <td>0</td>\n",
              "      <td>0</td>\n",
              "      <td>0</td>\n",
              "      <td>0</td>\n",
              "      <td>0</td>\n",
              "      <td>0</td>\n",
              "      <td>0</td>\n",
              "      <td>0</td>\n",
              "      <td>0</td>\n",
              "      <td>0</td>\n",
              "      <td>0</td>\n",
              "      <td>0</td>\n",
              "      <td>0</td>\n",
              "      <td>1</td>\n",
              "    </tr>\n",
              "    <tr>\n",
              "      <th>3</th>\n",
              "      <td>0</td>\n",
              "      <td>0</td>\n",
              "      <td>0</td>\n",
              "      <td>0</td>\n",
              "      <td>0</td>\n",
              "      <td>0</td>\n",
              "      <td>0</td>\n",
              "      <td>0</td>\n",
              "      <td>0</td>\n",
              "      <td>0</td>\n",
              "      <td>0</td>\n",
              "      <td>0</td>\n",
              "      <td>0</td>\n",
              "      <td>0</td>\n",
              "      <td>0</td>\n",
              "      <td>0</td>\n",
              "      <td>0</td>\n",
              "      <td>0</td>\n",
              "      <td>0</td>\n",
              "      <td>0</td>\n",
              "      <td>0</td>\n",
              "      <td>0</td>\n",
              "      <td>0</td>\n",
              "      <td>0</td>\n",
              "      <td>0</td>\n",
              "      <td>0</td>\n",
              "      <td>1</td>\n",
              "      <td>0</td>\n",
              "      <td>0</td>\n",
              "      <td>0</td>\n",
              "      <td>0</td>\n",
              "      <td>0</td>\n",
              "      <td>0</td>\n",
              "      <td>0</td>\n",
              "      <td>0</td>\n",
              "      <td>1</td>\n",
              "      <td>0</td>\n",
              "      <td>0</td>\n",
              "      <td>0</td>\n",
              "      <td>0</td>\n",
              "      <td>...</td>\n",
              "      <td>0</td>\n",
              "      <td>0</td>\n",
              "      <td>0</td>\n",
              "      <td>0</td>\n",
              "      <td>0</td>\n",
              "      <td>0</td>\n",
              "      <td>0</td>\n",
              "      <td>0</td>\n",
              "      <td>0</td>\n",
              "      <td>0</td>\n",
              "      <td>0</td>\n",
              "      <td>0</td>\n",
              "      <td>0</td>\n",
              "      <td>0</td>\n",
              "      <td>0</td>\n",
              "      <td>0</td>\n",
              "      <td>0</td>\n",
              "      <td>0</td>\n",
              "      <td>0</td>\n",
              "      <td>0</td>\n",
              "      <td>0</td>\n",
              "      <td>0</td>\n",
              "      <td>0</td>\n",
              "      <td>0</td>\n",
              "      <td>1</td>\n",
              "      <td>0</td>\n",
              "      <td>0</td>\n",
              "      <td>0</td>\n",
              "      <td>0</td>\n",
              "      <td>0</td>\n",
              "      <td>0</td>\n",
              "      <td>0</td>\n",
              "      <td>0</td>\n",
              "      <td>0</td>\n",
              "      <td>0</td>\n",
              "      <td>0</td>\n",
              "      <td>0</td>\n",
              "      <td>0</td>\n",
              "      <td>0</td>\n",
              "      <td>1</td>\n",
              "    </tr>\n",
              "    <tr>\n",
              "      <th>4</th>\n",
              "      <td>0</td>\n",
              "      <td>0</td>\n",
              "      <td>0</td>\n",
              "      <td>0</td>\n",
              "      <td>0</td>\n",
              "      <td>0</td>\n",
              "      <td>0</td>\n",
              "      <td>0</td>\n",
              "      <td>0</td>\n",
              "      <td>0</td>\n",
              "      <td>0</td>\n",
              "      <td>0</td>\n",
              "      <td>0</td>\n",
              "      <td>0</td>\n",
              "      <td>0</td>\n",
              "      <td>0</td>\n",
              "      <td>0</td>\n",
              "      <td>0</td>\n",
              "      <td>0</td>\n",
              "      <td>0</td>\n",
              "      <td>0</td>\n",
              "      <td>0</td>\n",
              "      <td>0</td>\n",
              "      <td>0</td>\n",
              "      <td>0</td>\n",
              "      <td>0</td>\n",
              "      <td>0</td>\n",
              "      <td>0</td>\n",
              "      <td>0</td>\n",
              "      <td>0</td>\n",
              "      <td>0</td>\n",
              "      <td>0</td>\n",
              "      <td>0</td>\n",
              "      <td>0</td>\n",
              "      <td>0</td>\n",
              "      <td>0</td>\n",
              "      <td>0</td>\n",
              "      <td>0</td>\n",
              "      <td>0</td>\n",
              "      <td>0</td>\n",
              "      <td>...</td>\n",
              "      <td>0</td>\n",
              "      <td>0</td>\n",
              "      <td>0</td>\n",
              "      <td>0</td>\n",
              "      <td>0</td>\n",
              "      <td>0</td>\n",
              "      <td>0</td>\n",
              "      <td>0</td>\n",
              "      <td>0</td>\n",
              "      <td>0</td>\n",
              "      <td>0</td>\n",
              "      <td>0</td>\n",
              "      <td>0</td>\n",
              "      <td>0</td>\n",
              "      <td>0</td>\n",
              "      <td>0</td>\n",
              "      <td>0</td>\n",
              "      <td>0</td>\n",
              "      <td>0</td>\n",
              "      <td>0</td>\n",
              "      <td>0</td>\n",
              "      <td>0</td>\n",
              "      <td>0</td>\n",
              "      <td>0</td>\n",
              "      <td>0</td>\n",
              "      <td>0</td>\n",
              "      <td>0</td>\n",
              "      <td>0</td>\n",
              "      <td>0</td>\n",
              "      <td>0</td>\n",
              "      <td>0</td>\n",
              "      <td>0</td>\n",
              "      <td>0</td>\n",
              "      <td>0</td>\n",
              "      <td>0</td>\n",
              "      <td>0</td>\n",
              "      <td>0</td>\n",
              "      <td>0</td>\n",
              "      <td>0</td>\n",
              "      <td>1</td>\n",
              "    </tr>\n",
              "  </tbody>\n",
              "</table>\n",
              "<p>5 rows × 1543 columns</p>\n",
              "</div>"
            ],
            "text/plain": [
              "   10002  10120  10125  10135  11001  ...  90201B  90201C  C2  M  POST\n",
              "0      1      0      0      0      0  ...       0       0   0  0     1\n",
              "1      0      0      0      0      0  ...       0       0   0  0     1\n",
              "2      0      0      0      0      0  ...       0       0   0  0     1\n",
              "3      0      0      0      0      0  ...       0       0   0  0     1\n",
              "4      0      0      0      0      0  ...       0       0   0  0     1\n",
              "\n",
              "[5 rows x 1543 columns]"
            ]
          },
          "metadata": {
            "tags": []
          },
          "execution_count": 420
        }
      ]
    },
    {
      "cell_type": "code",
      "metadata": {
        "colab_type": "code",
        "id": "nwKxjIIvR4eP",
        "colab": {}
      },
      "source": [
        "frequent_itemsets = apriori(one_hot_txns_df, min_support=0.02, use_colnames=True)"
      ],
      "execution_count": 421,
      "outputs": []
    },
    {
      "cell_type": "code",
      "metadata": {
        "colab_type": "code",
        "id": "Igovwap7R4eZ",
        "colab": {
          "base_uri": "https://localhost:8080/",
          "height": 343
        },
        "outputId": "6d84b884-df84-4367-94f6-48f1ccddfafd"
      },
      "source": [
        "rules = association_rules(frequent_itemsets, metric=\"lift\", min_threshold=1)\n",
        "rules.sort_values('confidence', ascending = False)[0:10]"
      ],
      "execution_count": 422,
      "outputs": [
        {
          "output_type": "execute_result",
          "data": {
            "text/html": [
              "<div>\n",
              "<style scoped>\n",
              "    .dataframe tbody tr th:only-of-type {\n",
              "        vertical-align: middle;\n",
              "    }\n",
              "\n",
              "    .dataframe tbody tr th {\n",
              "        vertical-align: top;\n",
              "    }\n",
              "\n",
              "    .dataframe thead th {\n",
              "        text-align: right;\n",
              "    }\n",
              "</style>\n",
              "<table border=\"1\" class=\"dataframe\">\n",
              "  <thead>\n",
              "    <tr style=\"text-align: right;\">\n",
              "      <th></th>\n",
              "      <th>antecedents</th>\n",
              "      <th>consequents</th>\n",
              "      <th>antecedent support</th>\n",
              "      <th>consequent support</th>\n",
              "      <th>support</th>\n",
              "      <th>confidence</th>\n",
              "      <th>lift</th>\n",
              "      <th>leverage</th>\n",
              "      <th>conviction</th>\n",
              "    </tr>\n",
              "  </thead>\n",
              "  <tbody>\n",
              "    <tr>\n",
              "      <th>2340</th>\n",
              "      <td>(22303, 22895)</td>\n",
              "      <td>(POST)</td>\n",
              "      <td>0.026030</td>\n",
              "      <td>0.674620</td>\n",
              "      <td>0.026030</td>\n",
              "      <td>1.0</td>\n",
              "      <td>1.482315</td>\n",
              "      <td>0.008470</td>\n",
              "      <td>inf</td>\n",
              "    </tr>\n",
              "    <tr>\n",
              "      <th>2148</th>\n",
              "      <td>(22352, 21731)</td>\n",
              "      <td>(POST)</td>\n",
              "      <td>0.030369</td>\n",
              "      <td>0.674620</td>\n",
              "      <td>0.030369</td>\n",
              "      <td>1.0</td>\n",
              "      <td>1.482315</td>\n",
              "      <td>0.009881</td>\n",
              "      <td>inf</td>\n",
              "    </tr>\n",
              "    <tr>\n",
              "      <th>2124</th>\n",
              "      <td>(21559, 22629)</td>\n",
              "      <td>(POST)</td>\n",
              "      <td>0.023861</td>\n",
              "      <td>0.674620</td>\n",
              "      <td>0.023861</td>\n",
              "      <td>1.0</td>\n",
              "      <td>1.482315</td>\n",
              "      <td>0.007764</td>\n",
              "      <td>inf</td>\n",
              "    </tr>\n",
              "    <tr>\n",
              "      <th>6124</th>\n",
              "      <td>(POST, 21094, 21080, 21989)</td>\n",
              "      <td>(21988, 21086)</td>\n",
              "      <td>0.023861</td>\n",
              "      <td>0.034707</td>\n",
              "      <td>0.023861</td>\n",
              "      <td>1.0</td>\n",
              "      <td>28.812500</td>\n",
              "      <td>0.023033</td>\n",
              "      <td>inf</td>\n",
              "    </tr>\n",
              "    <tr>\n",
              "      <th>2130</th>\n",
              "      <td>(22727, 21559)</td>\n",
              "      <td>(POST)</td>\n",
              "      <td>0.021692</td>\n",
              "      <td>0.674620</td>\n",
              "      <td>0.021692</td>\n",
              "      <td>1.0</td>\n",
              "      <td>1.482315</td>\n",
              "      <td>0.007058</td>\n",
              "      <td>inf</td>\n",
              "    </tr>\n",
              "    <tr>\n",
              "      <th>2136</th>\n",
              "      <td>(22728, 21559)</td>\n",
              "      <td>(POST)</td>\n",
              "      <td>0.021692</td>\n",
              "      <td>0.674620</td>\n",
              "      <td>0.021692</td>\n",
              "      <td>1.0</td>\n",
              "      <td>1.482315</td>\n",
              "      <td>0.007058</td>\n",
              "      <td>inf</td>\n",
              "    </tr>\n",
              "    <tr>\n",
              "      <th>6310</th>\n",
              "      <td>(POST, 21094, 21989, 21987)</td>\n",
              "      <td>(21988, 21086)</td>\n",
              "      <td>0.023861</td>\n",
              "      <td>0.034707</td>\n",
              "      <td>0.023861</td>\n",
              "      <td>1.0</td>\n",
              "      <td>28.812500</td>\n",
              "      <td>0.023033</td>\n",
              "      <td>inf</td>\n",
              "    </tr>\n",
              "    <tr>\n",
              "      <th>2142</th>\n",
              "      <td>(22326, 21731)</td>\n",
              "      <td>(POST)</td>\n",
              "      <td>0.030369</td>\n",
              "      <td>0.674620</td>\n",
              "      <td>0.030369</td>\n",
              "      <td>1.0</td>\n",
              "      <td>1.482315</td>\n",
              "      <td>0.009881</td>\n",
              "      <td>inf</td>\n",
              "    </tr>\n",
              "    <tr>\n",
              "      <th>1160</th>\n",
              "      <td>(20712, 23206)</td>\n",
              "      <td>(POST)</td>\n",
              "      <td>0.028200</td>\n",
              "      <td>0.674620</td>\n",
              "      <td>0.028200</td>\n",
              "      <td>1.0</td>\n",
              "      <td>1.482315</td>\n",
              "      <td>0.009176</td>\n",
              "      <td>inf</td>\n",
              "    </tr>\n",
              "    <tr>\n",
              "      <th>2154</th>\n",
              "      <td>(22382, 21731)</td>\n",
              "      <td>(POST)</td>\n",
              "      <td>0.023861</td>\n",
              "      <td>0.674620</td>\n",
              "      <td>0.023861</td>\n",
              "      <td>1.0</td>\n",
              "      <td>1.482315</td>\n",
              "      <td>0.007764</td>\n",
              "      <td>inf</td>\n",
              "    </tr>\n",
              "  </tbody>\n",
              "</table>\n",
              "</div>"
            ],
            "text/plain": [
              "                      antecedents     consequents  ...  leverage  conviction\n",
              "2340               (22303, 22895)          (POST)  ...  0.008470         inf\n",
              "2148               (22352, 21731)          (POST)  ...  0.009881         inf\n",
              "2124               (21559, 22629)          (POST)  ...  0.007764         inf\n",
              "6124  (POST, 21094, 21080, 21989)  (21988, 21086)  ...  0.023033         inf\n",
              "2130               (22727, 21559)          (POST)  ...  0.007058         inf\n",
              "2136               (22728, 21559)          (POST)  ...  0.007058         inf\n",
              "6310  (POST, 21094, 21989, 21987)  (21988, 21086)  ...  0.023033         inf\n",
              "2142               (22326, 21731)          (POST)  ...  0.009881         inf\n",
              "1160               (20712, 23206)          (POST)  ...  0.009176         inf\n",
              "2154               (22382, 21731)          (POST)  ...  0.007764         inf\n",
              "\n",
              "[10 rows x 9 columns]"
            ]
          },
          "metadata": {
            "tags": []
          },
          "execution_count": 422
        }
      ]
    },
    {
      "cell_type": "markdown",
      "metadata": {
        "id": "kpbPDpq0S305",
        "colab_type": "text"
      },
      "source": [
        "\n",
        "\n",
        "---\n",
        "\n"
      ]
    },
    {
      "cell_type": "markdown",
      "metadata": {
        "id": "MTp6D3pUSWMI",
        "colab_type": "text"
      },
      "source": [
        "# Q 6.\n",
        "Answer Questions 1 to 5 using the datasets ratings.csv and movies.csv"
      ]
    },
    {
      "cell_type": "code",
      "metadata": {
        "id": "pKSSpW6WSbol",
        "colab_type": "code",
        "colab": {}
      },
      "source": [
        ""
      ],
      "execution_count": null,
      "outputs": []
    },
    {
      "cell_type": "markdown",
      "metadata": {
        "id": "YjREc2R1ScJ7",
        "colab_type": "text"
      },
      "source": [
        "#### 1.\tCalculate the Cosine similarity between Users in rating the Movies"
      ]
    },
    {
      "cell_type": "code",
      "metadata": {
        "id": "LNu5sA8NSlqY",
        "colab_type": "code",
        "colab": {}
      },
      "source": [
        ""
      ],
      "execution_count": null,
      "outputs": []
    },
    {
      "cell_type": "markdown",
      "metadata": {
        "id": "MGmHcmk3SmNv",
        "colab_type": "text"
      },
      "source": [
        "#### 2.\tFind Most similar users with userid 1 to 5"
      ]
    },
    {
      "cell_type": "code",
      "metadata": {
        "id": "tkUKEh-ISm11",
        "colab_type": "code",
        "colab": {}
      },
      "source": [
        ""
      ],
      "execution_count": null,
      "outputs": []
    },
    {
      "cell_type": "markdown",
      "metadata": {
        "id": "ZrzbZw15SnTX",
        "colab_type": "text"
      },
      "source": [
        "#### 3.\tFind Common Movies watched by similar users"
      ]
    },
    {
      "cell_type": "code",
      "metadata": {
        "id": "2ArJmwEESnuf",
        "colab_type": "code",
        "colab": {}
      },
      "source": [
        ""
      ],
      "execution_count": null,
      "outputs": []
    },
    {
      "cell_type": "markdown",
      "metadata": {
        "id": "1dyuK0_kSoE5",
        "colab_type": "text"
      },
      "source": [
        "#### 4.\tCalculate Cosine similarity between the Movies"
      ]
    },
    {
      "cell_type": "code",
      "metadata": {
        "id": "eF9MssKASobh",
        "colab_type": "code",
        "colab": {}
      },
      "source": [
        ""
      ],
      "execution_count": null,
      "outputs": []
    },
    {
      "cell_type": "markdown",
      "metadata": {
        "id": "GNDPM4YFSoxf",
        "colab_type": "text"
      },
      "source": [
        "#### 5.\tFind out similar movies to a particular movie in the database"
      ]
    },
    {
      "cell_type": "code",
      "metadata": {
        "id": "maCqVSgHSw16",
        "colab_type": "code",
        "colab": {}
      },
      "source": [
        ""
      ],
      "execution_count": null,
      "outputs": []
    },
    {
      "cell_type": "markdown",
      "metadata": {
        "id": "_XyZ_ombSxz5",
        "colab_type": "text"
      },
      "source": [
        "Ans: "
      ]
    },
    {
      "cell_type": "markdown",
      "metadata": {
        "id": "96oLEMP1Sz6U",
        "colab_type": "text"
      },
      "source": [
        "\n",
        "\n",
        "---\n",
        "\n"
      ]
    },
    {
      "cell_type": "markdown",
      "metadata": {
        "id": "b0wV4Zc9S90i",
        "colab_type": "text"
      },
      "source": [
        "# Q 7.\n",
        "Answer Questions 1 to 3 using the datasets ratings.csv and movies.csv"
      ]
    },
    {
      "cell_type": "code",
      "metadata": {
        "id": "_cCzPM1MTDku",
        "colab_type": "code",
        "colab": {}
      },
      "source": [
        ""
      ],
      "execution_count": null,
      "outputs": []
    },
    {
      "cell_type": "markdown",
      "metadata": {
        "id": "iObIOOSFTEHD",
        "colab_type": "text"
      },
      "source": [
        "#### 1. Filter out the ratings records for the movies that belong to only “Action” genre. Calculate item similarity indexes between the movies based on movies the users have bought in “Action” genre and how they have rated them. Use Pearson correlation coefficient to find similarities. Then recommend top 5 similar movies to the following movies:\n",
        "a. Heat\n",
        "b. Eraser\n"
      ]
    },
    {
      "cell_type": "code",
      "metadata": {
        "id": "RPaK4tXnTEzp",
        "colab_type": "code",
        "colab": {}
      },
      "source": [
        ""
      ],
      "execution_count": null,
      "outputs": []
    },
    {
      "cell_type": "markdown",
      "metadata": {
        "colab_type": "text",
        "id": "qetfOCv7TGbH"
      },
      "source": [
        "#### 2. Filter out the ratings records for the movies that belong to either “Animation” or “Children” genre. And Calculate item similarity indexes between the movies based on movies the users have bought in either “Animation” or “Children” genre and how they have rated them. Use cosine similarity index to find similarities. Then recommend top 5 similar movies to the following movies:\n",
        "a. Lion King\n",
        "b. The Incredibles"
      ]
    },
    {
      "cell_type": "markdown",
      "metadata": {
        "colab_type": "text",
        "id": "pajr9JnPTGps"
      },
      "source": [
        "#### 3. Use surprise library and grid search mechanism to find the best model to make recommendations for movies in “Action” genre only. Use the following possible parameters to search for best model:\n",
        "a. Number of neighbors [5, 10, 20].\n",
        "b. Similarity indexes [‘Cosine’, ‘Pearson’, ‘Euclidean’].\n",
        "c. User-based or item-based similarity.\n"
      ]
    },
    {
      "cell_type": "code",
      "metadata": {
        "id": "P9lCzmulTbxA",
        "colab_type": "code",
        "colab": {}
      },
      "source": [
        ""
      ],
      "execution_count": null,
      "outputs": []
    },
    {
      "cell_type": "markdown",
      "metadata": {
        "id": "Mtm4YDQDTcJQ",
        "colab_type": "text"
      },
      "source": [
        "\n",
        "\n",
        "---\n",
        "\n"
      ]
    }
  ]
}