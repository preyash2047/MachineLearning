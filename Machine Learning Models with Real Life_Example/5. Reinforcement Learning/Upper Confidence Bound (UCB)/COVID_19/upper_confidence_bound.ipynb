{
  "nbformat": 4,
  "nbformat_minor": 0,
  "metadata": {
    "colab": {
      "name": "upper_confidence_bound.ipynb",
      "provenance": [],
      "collapsed_sections": [],
      "toc_visible": true
    },
    "kernelspec": {
      "name": "python3",
      "display_name": "Python 3"
    }
  },
  "cells": [
    {
      "cell_type": "markdown",
      "metadata": {
        "id": "QJdrJJQUv3-k",
        "colab_type": "text"
      },
      "source": [
        "# COVID-19 Symptoms analysis using Reinforcement Learning"
      ]
    },
    {
      "cell_type": "markdown",
      "metadata": {
        "id": "2XCjepjJwEv-",
        "colab_type": "text"
      },
      "source": [
        "## Importing the libraries"
      ]
    },
    {
      "cell_type": "code",
      "metadata": {
        "id": "f57DoJcuvmsl",
        "colab_type": "code",
        "colab": {}
      },
      "source": [
        "import numpy as np\n",
        "import pandas as pd\n",
        "import matplotlib.pyplot as plt"
      ],
      "execution_count": 1,
      "outputs": []
    },
    {
      "cell_type": "markdown",
      "metadata": {
        "id": "npqlXjaNwYTv",
        "colab_type": "text"
      },
      "source": [
        "## Importing the dataset"
      ]
    },
    {
      "cell_type": "code",
      "metadata": {
        "id": "82R6wgtIv1XF",
        "colab_type": "code",
        "colab": {}
      },
      "source": [
        "dataset = pd.read_csv(\"Cleaned-Data.csv\")\n",
        "dataset = dataset.iloc[:,:11]"
      ],
      "execution_count": 2,
      "outputs": []
    },
    {
      "cell_type": "markdown",
      "metadata": {
        "id": "PaSbots_wfoB",
        "colab_type": "text"
      },
      "source": [
        "## Implementing UCB"
      ]
    },
    {
      "cell_type": "code",
      "metadata": {
        "id": "4foN2GBJv5ka",
        "colab_type": "code",
        "colab": {}
      },
      "source": [
        "import math\n",
        "N = len(dataset)\n",
        "d = len(dataset.columns)\n",
        "attribute_selacted = []\n",
        "numbers_of_selection = [0] * d\n",
        "sums_of_rewards = [0] * d\n",
        "total_rewaard = 0\n",
        "\n",
        "for n in range(N):\n",
        "  attribute = 0\n",
        "  max_upper_bound = 0\n",
        "  for i in range(d):\n",
        "    if (numbers_of_selection[i] > 0):\n",
        "      average_reward = sums_of_rewards[i]/numbers_of_selection[i]\n",
        "      delta_i = math.sqrt(3/2 * math.log(n + 1)/numbers_of_selection[i])\n",
        "      upper_bound = average_reward + delta_i\n",
        "    else:\n",
        "      upper_bound = 1e400\n",
        "    if (upper_bound > max_upper_bound):\n",
        "      max_upper_bound = upper_bound\n",
        "      attribute = i\n",
        "  attribute_selacted.append(attribute)\n",
        "  numbers_of_selection[attribute] += 1\n",
        "  reward = dataset.values[n, attribute]\n",
        "  sums_of_rewards[attribute] +=  reward\n",
        "  total_rewaard += reward"
      ],
      "execution_count": 3,
      "outputs": []
    },
    {
      "cell_type": "markdown",
      "metadata": {
        "id": "AXftWcjDwsYj",
        "colab_type": "text"
      },
      "source": [
        "## Visualising the results"
      ]
    },
    {
      "cell_type": "code",
      "metadata": {
        "id": "Dplil2DN8qWt",
        "colab_type": "code",
        "colab": {
          "base_uri": "https://localhost:8080/",
          "height": 395
        },
        "outputId": "8293f50b-73d9-4a92-e223-9a231fe54e75"
      },
      "source": [
        "plt.hist(attribute_selacted)\n",
        "plt.xticks(range(len(list(dataset.columns))),list(dataset.columns), rotation=90)\n",
        "plt.title('COVID-19 Symptoms')\n",
        "plt.xlabel('Symptoms')\n",
        "plt.ylabel('Number of Cases')\n",
        "plt.savefig(\"COVID-19 Symptoms.png\",dpi=300, bbox_inches='tight')\n",
        "plt.show()"
      ],
      "execution_count": 4,
      "outputs": [
        {
          "output_type": "display_data",
          "data": {
            "image/png": "[encoded data removed]",
            "text/plain": [
              "<Figure size 432x288 with 1 Axes>"
            ]
          },
          "metadata": {
            "tags": [],
            "needs_background": "light"
          }
        }
      ]
    },
    {
      "cell_type": "markdown",
      "metadata": {
        "id": "8DAsOEZHUI4z",
        "colab_type": "text"
      },
      "source": [
        "# Conclusion\n",
        "\n",
        "In this Analysis, I have used the dataset of COVID-19 3.1L Patient's Symptoms and conclude the following;\n",
        "\n",
        "1. in 85k patient major Symptom is Dry-Cough\n",
        "2. in 70k patient second major Symptom is Tiredness\n",
        "3. in 68k patient third major Symptom is Difficulty in Breathing\n",
        "4. 39k patient is having Fever\n",
        "5. 38k patient does not have any Symptom as per the Reinforcement Learning model\n",
        "\n",
        "Disclaimer: All the analysis is based on the dataset provided by the World Health Organization (WHO) and processed by Bilal H. Hungund K.\n",
        "(https://www.kaggle.com/iamhungundji/covid19-symptoms-checker)"
      ]
    }
  ]
}