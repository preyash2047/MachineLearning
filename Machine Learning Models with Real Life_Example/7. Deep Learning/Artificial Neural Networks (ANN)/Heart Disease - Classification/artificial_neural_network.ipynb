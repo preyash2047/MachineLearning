{
  "nbformat": 4,
  "nbformat_minor": 0,
  "metadata": {
    "colab": {
      "name": "artificial_neural_network.ipynb",
      "provenance": [],
      "collapsed_sections": [],
      "toc_visible": true
    },
    "kernelspec": {
      "name": "python3",
      "display_name": "Python 3"
    }
  },
  "cells": [
    {
      "cell_type": "markdown",
      "metadata": {
        "id": "lP6JLo1tGNBg",
        "colab_type": "text"
      },
      "source": [
        "# Artificial Neural Network"
      ]
    },
    {
      "cell_type": "markdown",
      "metadata": {
        "id": "gWZyYmS_UE_L",
        "colab_type": "text"
      },
      "source": [
        "### Importing the libraries"
      ]
    },
    {
      "cell_type": "code",
      "metadata": {
        "id": "TSwhih-gAfSX",
        "colab_type": "code",
        "colab": {}
      },
      "source": [
        "import pandas as pd\n",
        "import numpy as np\n",
        "import tensorflow as tf"
      ],
      "execution_count": 1,
      "outputs": []
    },
    {
      "cell_type": "code",
      "metadata": {
        "id": "Krq1VNuVAxka",
        "colab_type": "code",
        "colab": {
          "base_uri": "https://localhost:8080/",
          "height": 35
        },
        "outputId": "ba11b2f4-bc87-490e-8b49-451afd8d67d6"
      },
      "source": [
        "tf.__version__"
      ],
      "execution_count": 2,
      "outputs": [
        {
          "output_type": "execute_result",
          "data": {
            "application/vnd.google.colaboratory.intrinsic+json": {
              "type": "string"
            },
            "text/plain": [
              "'2.3.0'"
            ]
          },
          "metadata": {
            "tags": []
          },
          "execution_count": 2
        }
      ]
    },
    {
      "cell_type": "markdown",
      "metadata": {
        "id": "1E0Q3aoKUCRX",
        "colab_type": "text"
      },
      "source": [
        "## Part 1 - Data Preprocessing"
      ]
    },
    {
      "cell_type": "markdown",
      "metadata": {
        "id": "cKWAkFVGUU0Z",
        "colab_type": "text"
      },
      "source": [
        "### Importing the dataset"
      ]
    },
    {
      "cell_type": "code",
      "metadata": {
        "id": "TTSbQt0_AlHC",
        "colab_type": "code",
        "colab": {}
      },
      "source": [
        "dataset = pd.read_csv(\"heart.csv\")\n",
        "X = dataset.iloc[:,:-1].values\n",
        "y = dataset.iloc[:,-1].values"
      ],
      "execution_count": 3,
      "outputs": []
    },
    {
      "cell_type": "markdown",
      "metadata": {
        "id": "vHol938cW8zd",
        "colab_type": "text"
      },
      "source": [
        "### Splitting the dataset into the Training set and Test set"
      ]
    },
    {
      "cell_type": "code",
      "metadata": {
        "id": "Z-TDt0Y_XEfc",
        "colab_type": "code",
        "colab": {}
      },
      "source": [
        "from sklearn.model_selection import train_test_split\n",
        "X_train, X_test, y_train, y_test = train_test_split(X, y, test_size = 0.25, random_state = 0)"
      ],
      "execution_count": 4,
      "outputs": []
    },
    {
      "cell_type": "markdown",
      "metadata": {
        "id": "RE_FcHyfV3TQ",
        "colab_type": "text"
      },
      "source": [
        "### Feature Scaling"
      ]
    },
    {
      "cell_type": "code",
      "metadata": {
        "id": "fa_s-mJDC_wE",
        "colab_type": "code",
        "colab": {}
      },
      "source": [
        "from sklearn.preprocessing import StandardScaler\n",
        "sc = StandardScaler()\n",
        "X_train = sc.fit_transform(X_train)\n",
        "X_test = sc.transform(X_test)"
      ],
      "execution_count": 5,
      "outputs": []
    },
    {
      "cell_type": "markdown",
      "metadata": {
        "id": "-zfEzkRVXIwF",
        "colab_type": "text"
      },
      "source": [
        "## Part 2 - Building the ANN"
      ]
    },
    {
      "cell_type": "markdown",
      "metadata": {
        "id": "KvdeScabXtlB",
        "colab_type": "text"
      },
      "source": [
        "### Initializing the ANN"
      ]
    },
    {
      "cell_type": "code",
      "metadata": {
        "id": "BhSKiJboeR8t",
        "colab_type": "code",
        "colab": {}
      },
      "source": [
        "ann = tf.keras.models.Sequential()"
      ],
      "execution_count": 6,
      "outputs": []
    },
    {
      "cell_type": "markdown",
      "metadata": {
        "id": "rP6urV6SX7kS",
        "colab_type": "text"
      },
      "source": [
        "### Adding the input layer and the first hidden layer"
      ]
    },
    {
      "cell_type": "code",
      "metadata": {
        "id": "b_CSI0TJedIw",
        "colab_type": "code",
        "colab": {}
      },
      "source": [
        "ann.add(tf.keras.layers.Dense(units=6, activation=\"relu\"))"
      ],
      "execution_count": 7,
      "outputs": []
    },
    {
      "cell_type": "markdown",
      "metadata": {
        "id": "BELWAc_8YJze",
        "colab_type": "text"
      },
      "source": [
        "### Adding the second hidden layer"
      ]
    },
    {
      "cell_type": "code",
      "metadata": {
        "id": "-2km4LZvfudj",
        "colab_type": "code",
        "colab": {}
      },
      "source": [
        "ann.add(tf.keras.layers.Dense(units=6, activation=\"relu\"))"
      ],
      "execution_count": 8,
      "outputs": []
    },
    {
      "cell_type": "markdown",
      "metadata": {
        "id": "OyNEe6RXYcU4",
        "colab_type": "text"
      },
      "source": [
        "### Adding the output layer"
      ]
    },
    {
      "cell_type": "code",
      "metadata": {
        "id": "KU-4JJClf7iE",
        "colab_type": "code",
        "colab": {}
      },
      "source": [
        "ann.add(tf.keras.layers.Dense(units=1, activation=\"sigmoid\"))"
      ],
      "execution_count": 9,
      "outputs": []
    },
    {
      "cell_type": "markdown",
      "metadata": {
        "id": "JT4u2S1_Y4WG",
        "colab_type": "text"
      },
      "source": [
        "## Part 3 - Training the ANN"
      ]
    },
    {
      "cell_type": "markdown",
      "metadata": {
        "id": "8GWlJChhY_ZI",
        "colab_type": "text"
      },
      "source": [
        "### Compiling the ANN"
      ]
    },
    {
      "cell_type": "code",
      "metadata": {
        "id": "utTjuv4rhI4A",
        "colab_type": "code",
        "colab": {}
      },
      "source": [
        "ann.compile(optimizer= \"adam\", loss= \"binary_crossentropy\" , metrics= [\"accuracy\"])"
      ],
      "execution_count": 10,
      "outputs": []
    },
    {
      "cell_type": "markdown",
      "metadata": {
        "id": "0QR_G5u7ZLSM",
        "colab_type": "text"
      },
      "source": [
        "### Training the ANN on the Training set"
      ]
    },
    {
      "cell_type": "code",
      "metadata": {
        "id": "yYr3f5ogiWTA",
        "colab_type": "code",
        "colab": {
          "base_uri": "https://localhost:8080/",
          "height": 1000
        },
        "outputId": "25243641-0ea4-4483-9f82-f50cb5ee7a54"
      },
      "source": [
        "ann.fit(X_train, y_train, batch_size= 32, epochs= 250)"
      ],
      "execution_count": 11,
      "outputs": [
        {
          "output_type": "stream",
          "text": [
            "Epoch 1/250\n",
            "8/8 [==============================] - 0s 1ms/step - loss: 0.7922 - accuracy: 0.5198\n",
            "Epoch 2/250\n",
            "8/8 [==============================] - 0s 2ms/step - loss: 0.7617 - accuracy: 0.5198\n",
            "Epoch 3/250\n",
            "8/8 [==============================] - 0s 2ms/step - loss: 0.7365 - accuracy: 0.5463\n",
            "Epoch 4/250\n",
            "8/8 [==============================] - 0s 1ms/step - loss: 0.7127 - accuracy: 0.5507\n",
            "Epoch 5/250\n",
            "8/8 [==============================] - 0s 1ms/step - loss: 0.6917 - accuracy: 0.5815\n",
            "Epoch 6/250\n",
            "8/8 [==============================] - 0s 1ms/step - loss: 0.6729 - accuracy: 0.5947\n",
            "Epoch 7/250\n",
            "8/8 [==============================] - 0s 2ms/step - loss: 0.6560 - accuracy: 0.5991\n",
            "Epoch 8/250\n",
            "8/8 [==============================] - 0s 1ms/step - loss: 0.6399 - accuracy: 0.6123\n",
            "Epoch 9/250\n",
            "8/8 [==============================] - 0s 1ms/step - loss: 0.6259 - accuracy: 0.6344\n",
            "Epoch 10/250\n",
            "8/8 [==============================] - 0s 2ms/step - loss: 0.6124 - accuracy: 0.6432\n",
            "Epoch 11/250\n",
            "8/8 [==============================] - 0s 2ms/step - loss: 0.6013 - accuracy: 0.6564\n",
            "Epoch 12/250\n",
            "8/8 [==============================] - 0s 2ms/step - loss: 0.5903 - accuracy: 0.6652\n",
            "Epoch 13/250\n",
            "8/8 [==============================] - 0s 2ms/step - loss: 0.5798 - accuracy: 0.6784\n",
            "Epoch 14/250\n",
            "8/8 [==============================] - 0s 2ms/step - loss: 0.5694 - accuracy: 0.6916\n",
            "Epoch 15/250\n",
            "8/8 [==============================] - 0s 2ms/step - loss: 0.5594 - accuracy: 0.7004\n",
            "Epoch 16/250\n",
            "8/8 [==============================] - 0s 2ms/step - loss: 0.5498 - accuracy: 0.7137\n",
            "Epoch 17/250\n",
            "8/8 [==============================] - 0s 2ms/step - loss: 0.5399 - accuracy: 0.7269\n",
            "Epoch 18/250\n",
            "8/8 [==============================] - 0s 3ms/step - loss: 0.5308 - accuracy: 0.7269\n",
            "Epoch 19/250\n",
            "8/8 [==============================] - 0s 2ms/step - loss: 0.5218 - accuracy: 0.7313\n",
            "Epoch 20/250\n",
            "8/8 [==============================] - 0s 2ms/step - loss: 0.5129 - accuracy: 0.7357\n",
            "Epoch 21/250\n",
            "8/8 [==============================] - 0s 2ms/step - loss: 0.5040 - accuracy: 0.7533\n",
            "Epoch 22/250\n",
            "8/8 [==============================] - 0s 2ms/step - loss: 0.4960 - accuracy: 0.7621\n",
            "Epoch 23/250\n",
            "8/8 [==============================] - 0s 3ms/step - loss: 0.4878 - accuracy: 0.7577\n",
            "Epoch 24/250\n",
            "8/8 [==============================] - 0s 2ms/step - loss: 0.4803 - accuracy: 0.7665\n",
            "Epoch 25/250\n",
            "8/8 [==============================] - 0s 2ms/step - loss: 0.4742 - accuracy: 0.7665\n",
            "Epoch 26/250\n",
            "8/8 [==============================] - 0s 2ms/step - loss: 0.4679 - accuracy: 0.7797\n",
            "Epoch 27/250\n",
            "8/8 [==============================] - 0s 1ms/step - loss: 0.4623 - accuracy: 0.7841\n",
            "Epoch 28/250\n",
            "8/8 [==============================] - 0s 1ms/step - loss: 0.4565 - accuracy: 0.7885\n",
            "Epoch 29/250\n",
            "8/8 [==============================] - 0s 2ms/step - loss: 0.4507 - accuracy: 0.7930\n",
            "Epoch 30/250\n",
            "8/8 [==============================] - 0s 1ms/step - loss: 0.4454 - accuracy: 0.7930\n",
            "Epoch 31/250\n",
            "8/8 [==============================] - 0s 1ms/step - loss: 0.4395 - accuracy: 0.7930\n",
            "Epoch 32/250\n",
            "8/8 [==============================] - 0s 1ms/step - loss: 0.4342 - accuracy: 0.8018\n",
            "Epoch 33/250\n",
            "8/8 [==============================] - 0s 1ms/step - loss: 0.4286 - accuracy: 0.8062\n",
            "Epoch 34/250\n",
            "8/8 [==============================] - 0s 1ms/step - loss: 0.4235 - accuracy: 0.8106\n",
            "Epoch 35/250\n",
            "8/8 [==============================] - 0s 2ms/step - loss: 0.4188 - accuracy: 0.8150\n",
            "Epoch 36/250\n",
            "8/8 [==============================] - 0s 1ms/step - loss: 0.4139 - accuracy: 0.8150\n",
            "Epoch 37/250\n",
            "8/8 [==============================] - 0s 2ms/step - loss: 0.4093 - accuracy: 0.8150\n",
            "Epoch 38/250\n",
            "8/8 [==============================] - 0s 1ms/step - loss: 0.4053 - accuracy: 0.8194\n",
            "Epoch 39/250\n",
            "8/8 [==============================] - 0s 2ms/step - loss: 0.4015 - accuracy: 0.8194\n",
            "Epoch 40/250\n",
            "8/8 [==============================] - 0s 2ms/step - loss: 0.3973 - accuracy: 0.8238\n",
            "Epoch 41/250\n",
            "8/8 [==============================] - 0s 2ms/step - loss: 0.3939 - accuracy: 0.8282\n",
            "Epoch 42/250\n",
            "8/8 [==============================] - 0s 2ms/step - loss: 0.3906 - accuracy: 0.8282\n",
            "Epoch 43/250\n",
            "8/8 [==============================] - 0s 2ms/step - loss: 0.3873 - accuracy: 0.8326\n",
            "Epoch 44/250\n",
            "8/8 [==============================] - 0s 2ms/step - loss: 0.3849 - accuracy: 0.8370\n",
            "Epoch 45/250\n",
            "8/8 [==============================] - 0s 2ms/step - loss: 0.3826 - accuracy: 0.8370\n",
            "Epoch 46/250\n",
            "8/8 [==============================] - 0s 2ms/step - loss: 0.3805 - accuracy: 0.8326\n",
            "Epoch 47/250\n",
            "8/8 [==============================] - 0s 2ms/step - loss: 0.3784 - accuracy: 0.8326\n",
            "Epoch 48/250\n",
            "8/8 [==============================] - 0s 2ms/step - loss: 0.3756 - accuracy: 0.8370\n",
            "Epoch 49/250\n",
            "8/8 [==============================] - 0s 1ms/step - loss: 0.3739 - accuracy: 0.8370\n",
            "Epoch 50/250\n",
            "8/8 [==============================] - 0s 2ms/step - loss: 0.3713 - accuracy: 0.8370\n",
            "Epoch 51/250\n",
            "8/8 [==============================] - 0s 1ms/step - loss: 0.3688 - accuracy: 0.8370\n",
            "Epoch 52/250\n",
            "8/8 [==============================] - 0s 2ms/step - loss: 0.3668 - accuracy: 0.8282\n",
            "Epoch 53/250\n",
            "8/8 [==============================] - 0s 2ms/step - loss: 0.3646 - accuracy: 0.8326\n",
            "Epoch 54/250\n",
            "8/8 [==============================] - 0s 1ms/step - loss: 0.3626 - accuracy: 0.8326\n",
            "Epoch 55/250\n",
            "8/8 [==============================] - 0s 2ms/step - loss: 0.3608 - accuracy: 0.8238\n",
            "Epoch 56/250\n",
            "8/8 [==============================] - 0s 2ms/step - loss: 0.3590 - accuracy: 0.8238\n",
            "Epoch 57/250\n",
            "8/8 [==============================] - 0s 1ms/step - loss: 0.3581 - accuracy: 0.8238\n",
            "Epoch 58/250\n",
            "8/8 [==============================] - 0s 1ms/step - loss: 0.3564 - accuracy: 0.8238\n",
            "Epoch 59/250\n",
            "8/8 [==============================] - 0s 2ms/step - loss: 0.3551 - accuracy: 0.8238\n",
            "Epoch 60/250\n",
            "8/8 [==============================] - 0s 2ms/step - loss: 0.3541 - accuracy: 0.8282\n",
            "Epoch 61/250\n",
            "8/8 [==============================] - 0s 2ms/step - loss: 0.3533 - accuracy: 0.8326\n",
            "Epoch 62/250\n",
            "8/8 [==============================] - 0s 2ms/step - loss: 0.3525 - accuracy: 0.8370\n",
            "Epoch 63/250\n",
            "8/8 [==============================] - 0s 2ms/step - loss: 0.3513 - accuracy: 0.8370\n",
            "Epoch 64/250\n",
            "8/8 [==============================] - 0s 1ms/step - loss: 0.3501 - accuracy: 0.8370\n",
            "Epoch 65/250\n",
            "8/8 [==============================] - 0s 2ms/step - loss: 0.3491 - accuracy: 0.8326\n",
            "Epoch 66/250\n",
            "8/8 [==============================] - 0s 1ms/step - loss: 0.3482 - accuracy: 0.8282\n",
            "Epoch 67/250\n",
            "8/8 [==============================] - 0s 1ms/step - loss: 0.3473 - accuracy: 0.8282\n",
            "Epoch 68/250\n",
            "8/8 [==============================] - 0s 2ms/step - loss: 0.3469 - accuracy: 0.8326\n",
            "Epoch 69/250\n",
            "8/8 [==============================] - 0s 2ms/step - loss: 0.3464 - accuracy: 0.8370\n",
            "Epoch 70/250\n",
            "8/8 [==============================] - 0s 1ms/step - loss: 0.3455 - accuracy: 0.8370\n",
            "Epoch 71/250\n",
            "8/8 [==============================] - 0s 1ms/step - loss: 0.3447 - accuracy: 0.8370\n",
            "Epoch 72/250\n",
            "8/8 [==============================] - 0s 1ms/step - loss: 0.3436 - accuracy: 0.8370\n",
            "Epoch 73/250\n",
            "8/8 [==============================] - 0s 1ms/step - loss: 0.3429 - accuracy: 0.8370\n",
            "Epoch 74/250\n",
            "8/8 [==============================] - 0s 2ms/step - loss: 0.3421 - accuracy: 0.8370\n",
            "Epoch 75/250\n",
            "8/8 [==============================] - 0s 2ms/step - loss: 0.3414 - accuracy: 0.8414\n",
            "Epoch 76/250\n",
            "8/8 [==============================] - 0s 1ms/step - loss: 0.3406 - accuracy: 0.8414\n",
            "Epoch 77/250\n",
            "8/8 [==============================] - 0s 3ms/step - loss: 0.3401 - accuracy: 0.8634\n",
            "Epoch 78/250\n",
            "8/8 [==============================] - 0s 1ms/step - loss: 0.3393 - accuracy: 0.8722\n",
            "Epoch 79/250\n",
            "8/8 [==============================] - 0s 1ms/step - loss: 0.3384 - accuracy: 0.8722\n",
            "Epoch 80/250\n",
            "8/8 [==============================] - 0s 1ms/step - loss: 0.3378 - accuracy: 0.8722\n",
            "Epoch 81/250\n",
            "8/8 [==============================] - 0s 2ms/step - loss: 0.3368 - accuracy: 0.8722\n",
            "Epoch 82/250\n",
            "8/8 [==============================] - 0s 1ms/step - loss: 0.3360 - accuracy: 0.8722\n",
            "Epoch 83/250\n",
            "8/8 [==============================] - 0s 1ms/step - loss: 0.3351 - accuracy: 0.8722\n",
            "Epoch 84/250\n",
            "8/8 [==============================] - 0s 1ms/step - loss: 0.3343 - accuracy: 0.8722\n",
            "Epoch 85/250\n",
            "8/8 [==============================] - 0s 1ms/step - loss: 0.3335 - accuracy: 0.8722\n",
            "Epoch 86/250\n",
            "8/8 [==============================] - 0s 2ms/step - loss: 0.3327 - accuracy: 0.8634\n",
            "Epoch 87/250\n",
            "8/8 [==============================] - 0s 1ms/step - loss: 0.3318 - accuracy: 0.8634\n",
            "Epoch 88/250\n",
            "8/8 [==============================] - 0s 1ms/step - loss: 0.3305 - accuracy: 0.8678\n",
            "Epoch 89/250\n",
            "8/8 [==============================] - 0s 1ms/step - loss: 0.3301 - accuracy: 0.8678\n",
            "Epoch 90/250\n",
            "8/8 [==============================] - 0s 2ms/step - loss: 0.3294 - accuracy: 0.8678\n",
            "Epoch 91/250\n",
            "8/8 [==============================] - 0s 2ms/step - loss: 0.3288 - accuracy: 0.8678\n",
            "Epoch 92/250\n",
            "8/8 [==============================] - 0s 2ms/step - loss: 0.3279 - accuracy: 0.8678\n",
            "Epoch 93/250\n",
            "8/8 [==============================] - 0s 1ms/step - loss: 0.3271 - accuracy: 0.8678\n",
            "Epoch 94/250\n",
            "8/8 [==============================] - 0s 2ms/step - loss: 0.3262 - accuracy: 0.8678\n",
            "Epoch 95/250\n",
            "8/8 [==============================] - 0s 2ms/step - loss: 0.3255 - accuracy: 0.8722\n",
            "Epoch 96/250\n",
            "8/8 [==============================] - 0s 1ms/step - loss: 0.3244 - accuracy: 0.8722\n",
            "Epoch 97/250\n",
            "8/8 [==============================] - 0s 1ms/step - loss: 0.3233 - accuracy: 0.8722\n",
            "Epoch 98/250\n",
            "8/8 [==============================] - 0s 1ms/step - loss: 0.3227 - accuracy: 0.8722\n",
            "Epoch 99/250\n",
            "8/8 [==============================] - 0s 1ms/step - loss: 0.3218 - accuracy: 0.8722\n",
            "Epoch 100/250\n",
            "8/8 [==============================] - 0s 2ms/step - loss: 0.3209 - accuracy: 0.8722\n",
            "Epoch 101/250\n",
            "8/8 [==============================] - 0s 1ms/step - loss: 0.3206 - accuracy: 0.8767\n",
            "Epoch 102/250\n",
            "8/8 [==============================] - 0s 1ms/step - loss: 0.3200 - accuracy: 0.8855\n",
            "Epoch 103/250\n",
            "8/8 [==============================] - 0s 2ms/step - loss: 0.3191 - accuracy: 0.8855\n",
            "Epoch 104/250\n",
            "8/8 [==============================] - 0s 1ms/step - loss: 0.3186 - accuracy: 0.8811\n",
            "Epoch 105/250\n",
            "8/8 [==============================] - 0s 2ms/step - loss: 0.3175 - accuracy: 0.8767\n",
            "Epoch 106/250\n",
            "8/8 [==============================] - 0s 1ms/step - loss: 0.3170 - accuracy: 0.8767\n",
            "Epoch 107/250\n",
            "8/8 [==============================] - 0s 1ms/step - loss: 0.3163 - accuracy: 0.8811\n",
            "Epoch 108/250\n",
            "8/8 [==============================] - 0s 1ms/step - loss: 0.3157 - accuracy: 0.8767\n",
            "Epoch 109/250\n",
            "8/8 [==============================] - 0s 1ms/step - loss: 0.3150 - accuracy: 0.8811\n",
            "Epoch 110/250\n",
            "8/8 [==============================] - 0s 1ms/step - loss: 0.3145 - accuracy: 0.8811\n",
            "Epoch 111/250\n",
            "8/8 [==============================] - 0s 2ms/step - loss: 0.3142 - accuracy: 0.8811\n",
            "Epoch 112/250\n",
            "8/8 [==============================] - 0s 2ms/step - loss: 0.3137 - accuracy: 0.8811\n",
            "Epoch 113/250\n",
            "8/8 [==============================] - 0s 1ms/step - loss: 0.3129 - accuracy: 0.8811\n",
            "Epoch 114/250\n",
            "8/8 [==============================] - 0s 2ms/step - loss: 0.3120 - accuracy: 0.8811\n",
            "Epoch 115/250\n",
            "8/8 [==============================] - 0s 1ms/step - loss: 0.3112 - accuracy: 0.8811\n",
            "Epoch 116/250\n",
            "8/8 [==============================] - 0s 1ms/step - loss: 0.3113 - accuracy: 0.8899\n",
            "Epoch 117/250\n",
            "8/8 [==============================] - 0s 1ms/step - loss: 0.3120 - accuracy: 0.8855\n",
            "Epoch 118/250\n",
            "8/8 [==============================] - 0s 1ms/step - loss: 0.3115 - accuracy: 0.8899\n",
            "Epoch 119/250\n",
            "8/8 [==============================] - 0s 1ms/step - loss: 0.3108 - accuracy: 0.8899\n",
            "Epoch 120/250\n",
            "8/8 [==============================] - 0s 1ms/step - loss: 0.3105 - accuracy: 0.8899\n",
            "Epoch 121/250\n",
            "8/8 [==============================] - 0s 1ms/step - loss: 0.3098 - accuracy: 0.8899\n",
            "Epoch 122/250\n",
            "8/8 [==============================] - 0s 1ms/step - loss: 0.3091 - accuracy: 0.8899\n",
            "Epoch 123/250\n",
            "8/8 [==============================] - 0s 2ms/step - loss: 0.3084 - accuracy: 0.8899\n",
            "Epoch 124/250\n",
            "8/8 [==============================] - 0s 2ms/step - loss: 0.3076 - accuracy: 0.8899\n",
            "Epoch 125/250\n",
            "8/8 [==============================] - 0s 2ms/step - loss: 0.3070 - accuracy: 0.8899\n",
            "Epoch 126/250\n",
            "8/8 [==============================] - 0s 1ms/step - loss: 0.3065 - accuracy: 0.8899\n",
            "Epoch 127/250\n",
            "8/8 [==============================] - 0s 2ms/step - loss: 0.3061 - accuracy: 0.8899\n",
            "Epoch 128/250\n",
            "8/8 [==============================] - 0s 2ms/step - loss: 0.3056 - accuracy: 0.8899\n",
            "Epoch 129/250\n",
            "8/8 [==============================] - 0s 1ms/step - loss: 0.3052 - accuracy: 0.8899\n",
            "Epoch 130/250\n",
            "8/8 [==============================] - 0s 1ms/step - loss: 0.3048 - accuracy: 0.8899\n",
            "Epoch 131/250\n",
            "8/8 [==============================] - 0s 1ms/step - loss: 0.3043 - accuracy: 0.8899\n",
            "Epoch 132/250\n",
            "8/8 [==============================] - 0s 1ms/step - loss: 0.3041 - accuracy: 0.8899\n",
            "Epoch 133/250\n",
            "8/8 [==============================] - 0s 1ms/step - loss: 0.3034 - accuracy: 0.8943\n",
            "Epoch 134/250\n",
            "8/8 [==============================] - 0s 1ms/step - loss: 0.3030 - accuracy: 0.8943\n",
            "Epoch 135/250\n",
            "8/8 [==============================] - 0s 2ms/step - loss: 0.3026 - accuracy: 0.8943\n",
            "Epoch 136/250\n",
            "8/8 [==============================] - 0s 1ms/step - loss: 0.3021 - accuracy: 0.8943\n",
            "Epoch 137/250\n",
            "8/8 [==============================] - 0s 1ms/step - loss: 0.3017 - accuracy: 0.8943\n",
            "Epoch 138/250\n",
            "8/8 [==============================] - 0s 1ms/step - loss: 0.3015 - accuracy: 0.8943\n",
            "Epoch 139/250\n",
            "8/8 [==============================] - 0s 2ms/step - loss: 0.3015 - accuracy: 0.8899\n",
            "Epoch 140/250\n",
            "8/8 [==============================] - 0s 2ms/step - loss: 0.3012 - accuracy: 0.8855\n",
            "Epoch 141/250\n",
            "8/8 [==============================] - 0s 2ms/step - loss: 0.3006 - accuracy: 0.8899\n",
            "Epoch 142/250\n",
            "8/8 [==============================] - 0s 2ms/step - loss: 0.3001 - accuracy: 0.8899\n",
            "Epoch 143/250\n",
            "8/8 [==============================] - 0s 1ms/step - loss: 0.3000 - accuracy: 0.8899\n",
            "Epoch 144/250\n",
            "8/8 [==============================] - 0s 1ms/step - loss: 0.2993 - accuracy: 0.8943\n",
            "Epoch 145/250\n",
            "8/8 [==============================] - 0s 1ms/step - loss: 0.2987 - accuracy: 0.8943\n",
            "Epoch 146/250\n",
            "8/8 [==============================] - 0s 1ms/step - loss: 0.2982 - accuracy: 0.8943\n",
            "Epoch 147/250\n",
            "8/8 [==============================] - 0s 2ms/step - loss: 0.2978 - accuracy: 0.8943\n",
            "Epoch 148/250\n",
            "8/8 [==============================] - 0s 2ms/step - loss: 0.2973 - accuracy: 0.8943\n",
            "Epoch 149/250\n",
            "8/8 [==============================] - 0s 2ms/step - loss: 0.2971 - accuracy: 0.8943\n",
            "Epoch 150/250\n",
            "8/8 [==============================] - 0s 1ms/step - loss: 0.2966 - accuracy: 0.8943\n",
            "Epoch 151/250\n",
            "8/8 [==============================] - 0s 1ms/step - loss: 0.2963 - accuracy: 0.8987\n",
            "Epoch 152/250\n",
            "8/8 [==============================] - 0s 1ms/step - loss: 0.2956 - accuracy: 0.8987\n",
            "Epoch 153/250\n",
            "8/8 [==============================] - 0s 1ms/step - loss: 0.2951 - accuracy: 0.8987\n",
            "Epoch 154/250\n",
            "8/8 [==============================] - 0s 2ms/step - loss: 0.2948 - accuracy: 0.8987\n",
            "Epoch 155/250\n",
            "8/8 [==============================] - 0s 2ms/step - loss: 0.2942 - accuracy: 0.8987\n",
            "Epoch 156/250\n",
            "8/8 [==============================] - 0s 2ms/step - loss: 0.2939 - accuracy: 0.8987\n",
            "Epoch 157/250\n",
            "8/8 [==============================] - 0s 2ms/step - loss: 0.2937 - accuracy: 0.9031\n",
            "Epoch 158/250\n",
            "8/8 [==============================] - 0s 1ms/step - loss: 0.2933 - accuracy: 0.8943\n",
            "Epoch 159/250\n",
            "8/8 [==============================] - 0s 1ms/step - loss: 0.2933 - accuracy: 0.8943\n",
            "Epoch 160/250\n",
            "8/8 [==============================] - 0s 1ms/step - loss: 0.2927 - accuracy: 0.8943\n",
            "Epoch 161/250\n",
            "8/8 [==============================] - 0s 1ms/step - loss: 0.2925 - accuracy: 0.8899\n",
            "Epoch 162/250\n",
            "8/8 [==============================] - 0s 2ms/step - loss: 0.2920 - accuracy: 0.8899\n",
            "Epoch 163/250\n",
            "8/8 [==============================] - 0s 2ms/step - loss: 0.2918 - accuracy: 0.8943\n",
            "Epoch 164/250\n",
            "8/8 [==============================] - 0s 2ms/step - loss: 0.2915 - accuracy: 0.8943\n",
            "Epoch 165/250\n",
            "8/8 [==============================] - 0s 1ms/step - loss: 0.2914 - accuracy: 0.8943\n",
            "Epoch 166/250\n",
            "8/8 [==============================] - 0s 2ms/step - loss: 0.2911 - accuracy: 0.8987\n",
            "Epoch 167/250\n",
            "8/8 [==============================] - 0s 1ms/step - loss: 0.2908 - accuracy: 0.9075\n",
            "Epoch 168/250\n",
            "8/8 [==============================] - 0s 1ms/step - loss: 0.2903 - accuracy: 0.9031\n",
            "Epoch 169/250\n",
            "8/8 [==============================] - 0s 2ms/step - loss: 0.2898 - accuracy: 0.8987\n",
            "Epoch 170/250\n",
            "8/8 [==============================] - 0s 2ms/step - loss: 0.2895 - accuracy: 0.8987\n",
            "Epoch 171/250\n",
            "8/8 [==============================] - 0s 1ms/step - loss: 0.2890 - accuracy: 0.8987\n",
            "Epoch 172/250\n",
            "8/8 [==============================] - 0s 2ms/step - loss: 0.2885 - accuracy: 0.8987\n",
            "Epoch 173/250\n",
            "8/8 [==============================] - 0s 1ms/step - loss: 0.2885 - accuracy: 0.8987\n",
            "Epoch 174/250\n",
            "8/8 [==============================] - 0s 2ms/step - loss: 0.2878 - accuracy: 0.8943\n",
            "Epoch 175/250\n",
            "8/8 [==============================] - 0s 1ms/step - loss: 0.2873 - accuracy: 0.8943\n",
            "Epoch 176/250\n",
            "8/8 [==============================] - 0s 1ms/step - loss: 0.2873 - accuracy: 0.8943\n",
            "Epoch 177/250\n",
            "8/8 [==============================] - 0s 1ms/step - loss: 0.2869 - accuracy: 0.8987\n",
            "Epoch 178/250\n",
            "8/8 [==============================] - 0s 1ms/step - loss: 0.2864 - accuracy: 0.8943\n",
            "Epoch 179/250\n",
            "8/8 [==============================] - 0s 1ms/step - loss: 0.2858 - accuracy: 0.8943\n",
            "Epoch 180/250\n",
            "8/8 [==============================] - 0s 1ms/step - loss: 0.2855 - accuracy: 0.8943\n",
            "Epoch 181/250\n",
            "8/8 [==============================] - 0s 1ms/step - loss: 0.2853 - accuracy: 0.8943\n",
            "Epoch 182/250\n",
            "8/8 [==============================] - 0s 1ms/step - loss: 0.2851 - accuracy: 0.8987\n",
            "Epoch 183/250\n",
            "8/8 [==============================] - 0s 1ms/step - loss: 0.2844 - accuracy: 0.8987\n",
            "Epoch 184/250\n",
            "8/8 [==============================] - 0s 2ms/step - loss: 0.2844 - accuracy: 0.8987\n",
            "Epoch 185/250\n",
            "8/8 [==============================] - 0s 1ms/step - loss: 0.2843 - accuracy: 0.8987\n",
            "Epoch 186/250\n",
            "8/8 [==============================] - 0s 2ms/step - loss: 0.2840 - accuracy: 0.8987\n",
            "Epoch 187/250\n",
            "8/8 [==============================] - 0s 2ms/step - loss: 0.2834 - accuracy: 0.8987\n",
            "Epoch 188/250\n",
            "8/8 [==============================] - 0s 2ms/step - loss: 0.2832 - accuracy: 0.8987\n",
            "Epoch 189/250\n",
            "8/8 [==============================] - 0s 2ms/step - loss: 0.2828 - accuracy: 0.8987\n",
            "Epoch 190/250\n",
            "8/8 [==============================] - 0s 2ms/step - loss: 0.2824 - accuracy: 0.8987\n",
            "Epoch 191/250\n",
            "8/8 [==============================] - 0s 1ms/step - loss: 0.2820 - accuracy: 0.8987\n",
            "Epoch 192/250\n",
            "8/8 [==============================] - 0s 1ms/step - loss: 0.2819 - accuracy: 0.8987\n",
            "Epoch 193/250\n",
            "8/8 [==============================] - 0s 1ms/step - loss: 0.2820 - accuracy: 0.8987\n",
            "Epoch 194/250\n",
            "8/8 [==============================] - 0s 1ms/step - loss: 0.2816 - accuracy: 0.8987\n",
            "Epoch 195/250\n",
            "8/8 [==============================] - 0s 2ms/step - loss: 0.2814 - accuracy: 0.8987\n",
            "Epoch 196/250\n",
            "8/8 [==============================] - 0s 1ms/step - loss: 0.2813 - accuracy: 0.8943\n",
            "Epoch 197/250\n",
            "8/8 [==============================] - 0s 1ms/step - loss: 0.2812 - accuracy: 0.8943\n",
            "Epoch 198/250\n",
            "8/8 [==============================] - 0s 1ms/step - loss: 0.2807 - accuracy: 0.8943\n",
            "Epoch 199/250\n",
            "8/8 [==============================] - 0s 2ms/step - loss: 0.2803 - accuracy: 0.8943\n",
            "Epoch 200/250\n",
            "8/8 [==============================] - 0s 1ms/step - loss: 0.2801 - accuracy: 0.8943\n",
            "Epoch 201/250\n",
            "8/8 [==============================] - 0s 1ms/step - loss: 0.2797 - accuracy: 0.8987\n",
            "Epoch 202/250\n",
            "8/8 [==============================] - 0s 1ms/step - loss: 0.2793 - accuracy: 0.8987\n",
            "Epoch 203/250\n",
            "8/8 [==============================] - 0s 1ms/step - loss: 0.2790 - accuracy: 0.8987\n",
            "Epoch 204/250\n",
            "8/8 [==============================] - 0s 1ms/step - loss: 0.2789 - accuracy: 0.8987\n",
            "Epoch 205/250\n",
            "8/8 [==============================] - 0s 1ms/step - loss: 0.2790 - accuracy: 0.8987\n",
            "Epoch 206/250\n",
            "8/8 [==============================] - 0s 1ms/step - loss: 0.2784 - accuracy: 0.8987\n",
            "Epoch 207/250\n",
            "8/8 [==============================] - 0s 1ms/step - loss: 0.2781 - accuracy: 0.8987\n",
            "Epoch 208/250\n",
            "8/8 [==============================] - 0s 1ms/step - loss: 0.2780 - accuracy: 0.8987\n",
            "Epoch 209/250\n",
            "8/8 [==============================] - 0s 1ms/step - loss: 0.2776 - accuracy: 0.8987\n",
            "Epoch 210/250\n",
            "8/8 [==============================] - 0s 1ms/step - loss: 0.2773 - accuracy: 0.8987\n",
            "Epoch 211/250\n",
            "8/8 [==============================] - 0s 1ms/step - loss: 0.2767 - accuracy: 0.8987\n",
            "Epoch 212/250\n",
            "8/8 [==============================] - 0s 1ms/step - loss: 0.2768 - accuracy: 0.8987\n",
            "Epoch 213/250\n",
            "8/8 [==============================] - 0s 2ms/step - loss: 0.2763 - accuracy: 0.8987\n",
            "Epoch 214/250\n",
            "8/8 [==============================] - 0s 2ms/step - loss: 0.2760 - accuracy: 0.8987\n",
            "Epoch 215/250\n",
            "8/8 [==============================] - 0s 1ms/step - loss: 0.2757 - accuracy: 0.8987\n",
            "Epoch 216/250\n",
            "8/8 [==============================] - 0s 1ms/step - loss: 0.2750 - accuracy: 0.8987\n",
            "Epoch 217/250\n",
            "8/8 [==============================] - 0s 1ms/step - loss: 0.2749 - accuracy: 0.8987\n",
            "Epoch 218/250\n",
            "8/8 [==============================] - 0s 1ms/step - loss: 0.2747 - accuracy: 0.8987\n",
            "Epoch 219/250\n",
            "8/8 [==============================] - 0s 1ms/step - loss: 0.2746 - accuracy: 0.8987\n",
            "Epoch 220/250\n",
            "8/8 [==============================] - 0s 1ms/step - loss: 0.2742 - accuracy: 0.8987\n",
            "Epoch 221/250\n",
            "8/8 [==============================] - 0s 1ms/step - loss: 0.2741 - accuracy: 0.8987\n",
            "Epoch 222/250\n",
            "8/8 [==============================] - 0s 1ms/step - loss: 0.2736 - accuracy: 0.8987\n",
            "Epoch 223/250\n",
            "8/8 [==============================] - 0s 2ms/step - loss: 0.2732 - accuracy: 0.8987\n",
            "Epoch 224/250\n",
            "8/8 [==============================] - 0s 2ms/step - loss: 0.2727 - accuracy: 0.8987\n",
            "Epoch 225/250\n",
            "8/8 [==============================] - 0s 2ms/step - loss: 0.2724 - accuracy: 0.8987\n",
            "Epoch 226/250\n",
            "8/8 [==============================] - 0s 2ms/step - loss: 0.2721 - accuracy: 0.9031\n",
            "Epoch 227/250\n",
            "8/8 [==============================] - 0s 2ms/step - loss: 0.2723 - accuracy: 0.9031\n",
            "Epoch 228/250\n",
            "8/8 [==============================] - 0s 2ms/step - loss: 0.2723 - accuracy: 0.9031\n",
            "Epoch 229/250\n",
            "8/8 [==============================] - 0s 1ms/step - loss: 0.2713 - accuracy: 0.9075\n",
            "Epoch 230/250\n",
            "8/8 [==============================] - 0s 1ms/step - loss: 0.2712 - accuracy: 0.9075\n",
            "Epoch 231/250\n",
            "8/8 [==============================] - 0s 1ms/step - loss: 0.2709 - accuracy: 0.9075\n",
            "Epoch 232/250\n",
            "8/8 [==============================] - 0s 1ms/step - loss: 0.2706 - accuracy: 0.9075\n",
            "Epoch 233/250\n",
            "8/8 [==============================] - 0s 1ms/step - loss: 0.2705 - accuracy: 0.9075\n",
            "Epoch 234/250\n",
            "8/8 [==============================] - 0s 1ms/step - loss: 0.2699 - accuracy: 0.9119\n",
            "Epoch 235/250\n",
            "8/8 [==============================] - 0s 1ms/step - loss: 0.2694 - accuracy: 0.9119\n",
            "Epoch 236/250\n",
            "8/8 [==============================] - 0s 1ms/step - loss: 0.2687 - accuracy: 0.9075\n",
            "Epoch 237/250\n",
            "8/8 [==============================] - 0s 1ms/step - loss: 0.2680 - accuracy: 0.9075\n",
            "Epoch 238/250\n",
            "8/8 [==============================] - 0s 1ms/step - loss: 0.2686 - accuracy: 0.9163\n",
            "Epoch 239/250\n",
            "8/8 [==============================] - 0s 2ms/step - loss: 0.2682 - accuracy: 0.9119\n",
            "Epoch 240/250\n",
            "8/8 [==============================] - 0s 1ms/step - loss: 0.2677 - accuracy: 0.9031\n",
            "Epoch 241/250\n",
            "8/8 [==============================] - 0s 1ms/step - loss: 0.2673 - accuracy: 0.9031\n",
            "Epoch 242/250\n",
            "8/8 [==============================] - 0s 1ms/step - loss: 0.2668 - accuracy: 0.9031\n",
            "Epoch 243/250\n",
            "8/8 [==============================] - 0s 2ms/step - loss: 0.2660 - accuracy: 0.9119\n",
            "Epoch 244/250\n",
            "8/8 [==============================] - 0s 1ms/step - loss: 0.2657 - accuracy: 0.9163\n",
            "Epoch 245/250\n",
            "8/8 [==============================] - 0s 2ms/step - loss: 0.2655 - accuracy: 0.9163\n",
            "Epoch 246/250\n",
            "8/8 [==============================] - 0s 2ms/step - loss: 0.2651 - accuracy: 0.9163\n",
            "Epoch 247/250\n",
            "8/8 [==============================] - 0s 1ms/step - loss: 0.2643 - accuracy: 0.9163\n",
            "Epoch 248/250\n",
            "8/8 [==============================] - 0s 1ms/step - loss: 0.2642 - accuracy: 0.9163\n",
            "Epoch 249/250\n",
            "8/8 [==============================] - 0s 2ms/step - loss: 0.2638 - accuracy: 0.9119\n",
            "Epoch 250/250\n",
            "8/8 [==============================] - 0s 2ms/step - loss: 0.2636 - accuracy: 0.9119\n"
          ],
          "name": "stdout"
        },
        {
          "output_type": "execute_result",
          "data": {
            "text/plain": [
              "<tensorflow.python.keras.callbacks.History at 0x7fcac4512828>"
            ]
          },
          "metadata": {
            "tags": []
          },
          "execution_count": 11
        }
      ]
    },
    {
      "cell_type": "markdown",
      "metadata": {
        "id": "tJj5k2MxZga3",
        "colab_type": "text"
      },
      "source": [
        "## Part 4 - Making the predictions and evaluating the model"
      ]
    },
    {
      "cell_type": "markdown",
      "metadata": {
        "id": "u7yx47jPZt11",
        "colab_type": "text"
      },
      "source": [
        "### Predicting the Test set results"
      ]
    },
    {
      "cell_type": "code",
      "metadata": {
        "id": "JZic_BNYr8Y0",
        "colab_type": "code",
        "colab": {}
      },
      "source": [
        "y_pred = ann.predict(X_test)\n",
        "y_pred = (y_pred > 0.5)"
      ],
      "execution_count": 12,
      "outputs": []
    },
    {
      "cell_type": "markdown",
      "metadata": {
        "id": "o0oyfLWoaEGw",
        "colab_type": "text"
      },
      "source": [
        "### Making the Confusion Matrix"
      ]
    },
    {
      "cell_type": "code",
      "metadata": {
        "id": "3NDZE8gNsyNQ",
        "colab_type": "code",
        "colab": {
          "base_uri": "https://localhost:8080/",
          "height": 70
        },
        "outputId": "087bef7a-c48b-4fae-f757-e3fbc07f534e"
      },
      "source": [
        "from sklearn.metrics import confusion_matrix, accuracy_score\n",
        "cm = confusion_matrix(y_pred, y_test)\n",
        "print(\"CM :\", cm )\n",
        "accuracy_score(y_pred, y_test)"
      ],
      "execution_count": 13,
      "outputs": [
        {
          "output_type": "stream",
          "text": [
            "CM : [[26  5]\n",
            " [ 7 38]]\n"
          ],
          "name": "stdout"
        },
        {
          "output_type": "execute_result",
          "data": {
            "text/plain": [
              "0.8421052631578947"
            ]
          },
          "metadata": {
            "tags": []
          },
          "execution_count": 13
        }
      ]
    },
    {
      "cell_type": "markdown",
      "metadata": {
        "id": "gGWNfMnDQ4OI",
        "colab_type": "text"
      },
      "source": [
        "# Conclusion:\n",
        "\n",
        "> To evaluate that the patient may have heart disease I have used the dataset of 303 patients and conclude that Artificial Neuron Network is having the accuracy of 84.21 % which is pretty good\n",
        "\n",
        "> Same dataset I have used in K-Nearest Neighbors model is used and found the accuracy was 81%, where is ANN get the accuracy of 84.21 %"
      ]
    }
  ]
}