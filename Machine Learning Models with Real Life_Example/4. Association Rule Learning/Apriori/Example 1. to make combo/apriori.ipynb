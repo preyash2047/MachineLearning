{
  "nbformat": 4,
  "nbformat_minor": 0,
  "metadata": {
    "colab": {
      "name": "apriori.ipynb",
      "provenance": [],
      "collapsed_sections": [],
      "toc_visible": true
    },
    "kernelspec": {
      "name": "python3",
      "display_name": "Python 3"
    }
  },
  "cells": [
    {
      "cell_type": "markdown",
      "metadata": {
        "id": "1fziHl7Ar94J",
        "colab_type": "text"
      },
      "source": [
        "# Apriori"
      ]
    },
    {
      "cell_type": "markdown",
      "metadata": {
        "id": "eiNwni1xsEgT",
        "colab_type": "text"
      },
      "source": [
        "## Importing the libraries"
      ]
    },
    {
      "cell_type": "code",
      "metadata": {
        "id": "DUF77Qr1vqyM",
        "colab_type": "code",
        "colab": {
          "base_uri": "https://localhost:8080/",
          "height": 195
        },
        "outputId": "61961994-c5d9-4b4e-e069-f729e00560b3"
      },
      "source": [
        "!pip install apyori"
      ],
      "execution_count": 1,
      "outputs": [
        {
          "output_type": "stream",
          "text": [
            "Collecting apyori\n",
            "  Downloading https://files.pythonhosted.org/packages/5e/62/5ffde5c473ea4b033490617ec5caa80d59804875ad3c3c57c0976533a21a/apyori-1.1.2.tar.gz\n",
            "Building wheels for collected packages: apyori\n",
            "  Building wheel for apyori (setup.py) ... \u001b[?25l\u001b[?25hdone\n",
            "  Created wheel for apyori: filename=apyori-1.1.2-cp36-none-any.whl size=5975 sha256=40a57471f989c2032ec26e1d6285ec2bdc3776cb0c37ac40350b3d6fd0b23371\n",
            "  Stored in directory: /root/.cache/pip/wheels/5d/92/bb/474bbadbc8c0062b9eb168f69982a0443263f8ab1711a8cad0\n",
            "Successfully built apyori\n",
            "Installing collected packages: apyori\n",
            "Successfully installed apyori-1.1.2\n"
          ],
          "name": "stdout"
        }
      ]
    },
    {
      "cell_type": "code",
      "metadata": {
        "id": "UJfitBClsJlT",
        "colab_type": "code",
        "colab": {}
      },
      "source": [
        "import numpy as np\n",
        "import matplotlib.pyplot as plt\n",
        "import pandas as pd"
      ],
      "execution_count": 2,
      "outputs": []
    },
    {
      "cell_type": "markdown",
      "metadata": {
        "id": "vLt-7XUKsXBd",
        "colab_type": "text"
      },
      "source": [
        "## Data Preprocessing"
      ]
    },
    {
      "cell_type": "code",
      "metadata": {
        "id": "J_A-UFOAsaDf",
        "colab_type": "code",
        "colab": {}
      },
      "source": [
        "dataset = pd.read_csv('foods.csv', header = None)\n",
        "transactions = []\n",
        "for i in range(0, len(dataset)):\n",
        "  transactions.append([str(dataset.values[i,j]) for j in range(0, 14)])"
      ],
      "execution_count": 3,
      "outputs": []
    },
    {
      "cell_type": "markdown",
      "metadata": {
        "id": "1wYZdBd5sea_",
        "colab_type": "text"
      },
      "source": [
        "## Training the Apriori model on the dataset"
      ]
    },
    {
      "cell_type": "code",
      "metadata": {
        "id": "YzIk4vXZsj5i",
        "colab_type": "code",
        "colab": {}
      },
      "source": [
        "from apyori import apriori\n",
        "rules = apriori(transactions = transactions, min_support = 0.003, min_confidence = 0.2, min_lift = 1, min_length = 2, max_length = 5)"
      ],
      "execution_count": 4,
      "outputs": []
    },
    {
      "cell_type": "markdown",
      "metadata": {
        "id": "b176YNwWspiO",
        "colab_type": "text"
      },
      "source": [
        "## Visualising the results"
      ]
    },
    {
      "cell_type": "markdown",
      "metadata": {
        "id": "iO6bF_dImT-E",
        "colab_type": "text"
      },
      "source": [
        "### Displaying the first results coming directly from the output of the apriori function"
      ]
    },
    {
      "cell_type": "code",
      "metadata": {
        "id": "kvF-sLc6ifhd",
        "colab_type": "code",
        "colab": {
          "base_uri": "https://localhost:8080/",
          "height": 34
        },
        "outputId": "2a1fa27b-c0a7-42d6-e8fc-0dbd520de1b1"
      },
      "source": [
        "results = list(rules)\n",
        "len(results)"
      ],
      "execution_count": 5,
      "outputs": [
        {
          "output_type": "execute_result",
          "data": {
            "text/plain": [
              "67603"
            ]
          },
          "metadata": {
            "tags": []
          },
          "execution_count": 5
        }
      ]
    },
    {
      "cell_type": "markdown",
      "metadata": {
        "id": "MFkQP-fcjDBC",
        "colab_type": "text"
      },
      "source": [
        "### Putting the results well organised into a Pandas DataFrame"
      ]
    },
    {
      "cell_type": "code",
      "metadata": {
        "id": "gyq7Poi0mMUe",
        "colab_type": "code",
        "colab": {}
      },
      "source": [
        "def inspect(results):\n",
        "    item_str, supports, confidences, lifts = [], [], [], []\n",
        "    for result in results:\n",
        "      if (len(result[0]) > 1):\n",
        "        item_str.append(', '.join([str(elem) for elem in tuple(result[2][0][0])]))\n",
        "        supports.append(result[1])\n",
        "        confidences.append(result[2][0][2])\n",
        "        lifts.append(result[2][0][3])\n",
        "    return list(zip(item_str, supports, confidences, lifts))\n",
        "resultsinDataFrame = pd.DataFrame(inspect(results), columns = ['Items', 'Support', 'Confidence', 'Lift'])"
      ],
      "execution_count": 6,
      "outputs": []
    },
    {
      "cell_type": "markdown",
      "metadata": {
        "id": "IjrrlYW4jpTR",
        "colab_type": "text"
      },
      "source": [
        "### Displaying the results sorted by descending lifts"
      ]
    },
    {
      "cell_type": "code",
      "metadata": {
        "id": "nI7DJXng-nxQ",
        "colab_type": "code",
        "colab": {
          "base_uri": "https://localhost:8080/",
          "height": 343
        },
        "outputId": "66cbef42-e34f-4f1c-bd0b-46892f6759c4"
      },
      "source": [
        "resultsinDataFrame.nlargest(n = 10, columns = 'Lift')"
      ],
      "execution_count": 7,
      "outputs": [
        {
          "output_type": "execute_result",
          "data": {
            "text/html": [
              "<div>\n",
              "<style scoped>\n",
              "    .dataframe tbody tr th:only-of-type {\n",
              "        vertical-align: middle;\n",
              "    }\n",
              "\n",
              "    .dataframe tbody tr th {\n",
              "        vertical-align: top;\n",
              "    }\n",
              "\n",
              "    .dataframe thead th {\n",
              "        text-align: right;\n",
              "    }\n",
              "</style>\n",
              "<table border=\"1\" class=\"dataframe\">\n",
              "  <thead>\n",
              "    <tr style=\"text-align: right;\">\n",
              "      <th></th>\n",
              "      <th>Items</th>\n",
              "      <th>Support</th>\n",
              "      <th>Confidence</th>\n",
              "      <th>Lift</th>\n",
              "    </tr>\n",
              "  </thead>\n",
              "  <tbody>\n",
              "    <tr>\n",
              "      <th>67483</th>\n",
              "      <td>sausage, chips, hamburger patties</td>\n",
              "      <td>0.003</td>\n",
              "      <td>0.500000</td>\n",
              "      <td>9.708738</td>\n",
              "    </tr>\n",
              "    <tr>\n",
              "      <th>67452</th>\n",
              "      <td>mustard, butter, oranges</td>\n",
              "      <td>0.004</td>\n",
              "      <td>0.400000</td>\n",
              "      <td>8.163265</td>\n",
              "    </tr>\n",
              "    <tr>\n",
              "      <th>67541</th>\n",
              "      <td>mustard, pasta, ice cream</td>\n",
              "      <td>0.003</td>\n",
              "      <td>0.352941</td>\n",
              "      <td>8.021390</td>\n",
              "    </tr>\n",
              "    <tr>\n",
              "      <th>67446</th>\n",
              "      <td>ketchup, brocolli, hot dogs</td>\n",
              "      <td>0.003</td>\n",
              "      <td>0.400000</td>\n",
              "      <td>8.000000</td>\n",
              "    </tr>\n",
              "    <tr>\n",
              "      <th>67388</th>\n",
              "      <td>chicken nuggets, apples, coffee</td>\n",
              "      <td>0.003</td>\n",
              "      <td>0.352941</td>\n",
              "      <td>7.843137</td>\n",
              "    </tr>\n",
              "    <tr>\n",
              "      <th>67443</th>\n",
              "      <td>detergent, brocolli, juice</td>\n",
              "      <td>0.003</td>\n",
              "      <td>0.352941</td>\n",
              "      <td>7.756949</td>\n",
              "    </tr>\n",
              "    <tr>\n",
              "      <th>67407</th>\n",
              "      <td>bagels, pork, soda</td>\n",
              "      <td>0.003</td>\n",
              "      <td>0.400000</td>\n",
              "      <td>7.692308</td>\n",
              "    </tr>\n",
              "    <tr>\n",
              "      <th>67538</th>\n",
              "      <td>pasta, oranges, hamburger patties</td>\n",
              "      <td>0.003</td>\n",
              "      <td>0.352941</td>\n",
              "      <td>7.672634</td>\n",
              "    </tr>\n",
              "    <tr>\n",
              "      <th>67364</th>\n",
              "      <td>butter, aluminum foil, chips</td>\n",
              "      <td>0.003</td>\n",
              "      <td>0.352941</td>\n",
              "      <td>7.590133</td>\n",
              "    </tr>\n",
              "    <tr>\n",
              "      <th>67368</th>\n",
              "      <td>curry, aluminum foil, chicken</td>\n",
              "      <td>0.003</td>\n",
              "      <td>0.352941</td>\n",
              "      <td>7.590133</td>\n",
              "    </tr>\n",
              "  </tbody>\n",
              "</table>\n",
              "</div>"
            ],
            "text/plain": [
              "                                   Items  Support  Confidence      Lift\n",
              "67483  sausage, chips, hamburger patties    0.003    0.500000  9.708738\n",
              "67452           mustard, butter, oranges    0.004    0.400000  8.163265\n",
              "67541          mustard, pasta, ice cream    0.003    0.352941  8.021390\n",
              "67446        ketchup, brocolli, hot dogs    0.003    0.400000  8.000000\n",
              "67388    chicken nuggets, apples, coffee    0.003    0.352941  7.843137\n",
              "67443         detergent, brocolli, juice    0.003    0.352941  7.756949\n",
              "67407                 bagels, pork, soda    0.003    0.400000  7.692308\n",
              "67538  pasta, oranges, hamburger patties    0.003    0.352941  7.672634\n",
              "67364       butter, aluminum foil, chips    0.003    0.352941  7.590133\n",
              "67368      curry, aluminum foil, chicken    0.003    0.352941  7.590133"
            ]
          },
          "metadata": {
            "tags": []
          },
          "execution_count": 7
        }
      ]
    }
  ]
}