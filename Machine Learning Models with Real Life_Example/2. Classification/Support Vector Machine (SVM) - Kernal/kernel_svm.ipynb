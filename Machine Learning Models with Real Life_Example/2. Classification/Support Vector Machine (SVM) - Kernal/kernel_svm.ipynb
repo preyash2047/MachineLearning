{
  "nbformat": 4,
  "nbformat_minor": 0,
  "metadata": {
    "colab": {
      "name": "kernel_svm.ipynb",
      "provenance": [],
      "collapsed_sections": [],
      "toc_visible": true,
      "machine_shape": "hm"
    },
    "kernelspec": {
      "name": "python3",
      "display_name": "Python 3"
    }
  },
  "cells": [
    {
      "cell_type": "markdown",
      "metadata": {
        "id": "0MRC0e0KhQ0S",
        "colab_type": "text"
      },
      "source": [
        "# Kernel SVM"
      ]
    },
    {
      "cell_type": "markdown",
      "metadata": {
        "id": "LWd1UlMnhT2s",
        "colab_type": "text"
      },
      "source": [
        "## Importing the libraries"
      ]
    },
    {
      "cell_type": "code",
      "metadata": {
        "id": "YvGPUQaHhXfL",
        "colab_type": "code",
        "colab": {}
      },
      "source": [
        "import numpy as np\n",
        "import matplotlib.pyplot as plt\n",
        "import pandas as pd"
      ],
      "execution_count": 1,
      "outputs": []
    },
    {
      "cell_type": "markdown",
      "metadata": {
        "id": "K1VMqkGvhc3-",
        "colab_type": "text"
      },
      "source": [
        "## Importing the dataset"
      ]
    },
    {
      "cell_type": "code",
      "metadata": {
        "id": "M52QDmyzhh9s",
        "colab_type": "code",
        "colab": {}
      },
      "source": [
        "dataset = pd.read_csv('500_Person_Gender_Height_Weight_Index.csv')\n",
        "X = dataset.iloc[:, 1:-1].values\n",
        "y = dataset.iloc[:, -1].values"
      ],
      "execution_count": 2,
      "outputs": []
    },
    {
      "cell_type": "markdown",
      "metadata": {
        "id": "YvxIPVyMhmKp",
        "colab_type": "text"
      },
      "source": [
        "## Splitting the dataset into the Training set and Test set"
      ]
    },
    {
      "cell_type": "code",
      "metadata": {
        "id": "AVzJWAXIhxoC",
        "colab_type": "code",
        "colab": {}
      },
      "source": [
        "from sklearn.model_selection import train_test_split\n",
        "X_train, X_test, y_train, y_test = train_test_split(X,y,test_size=0.2)"
      ],
      "execution_count": 3,
      "outputs": []
    },
    {
      "cell_type": "markdown",
      "metadata": {
        "id": "kW3c7UYih0hT",
        "colab_type": "text"
      },
      "source": [
        "## Feature Scaling"
      ]
    },
    {
      "cell_type": "code",
      "metadata": {
        "id": "9fQlDPKCh8sc",
        "colab_type": "code",
        "colab": {}
      },
      "source": [
        "from sklearn.preprocessing import StandardScaler\n",
        "sc = StandardScaler()\n",
        "X_train = sc.fit_transform(X_train)\n",
        "X_test = sc.transform(X_test)"
      ],
      "execution_count": 4,
      "outputs": []
    },
    {
      "cell_type": "markdown",
      "metadata": {
        "id": "bb6jCOCQiAmP",
        "colab_type": "text"
      },
      "source": [
        "## Training the Kernel SVM model on the Training set"
      ]
    },
    {
      "cell_type": "code",
      "metadata": {
        "id": "e0pFVAmciHQs",
        "colab_type": "code",
        "colab": {
          "base_uri": "https://localhost:8080/",
          "height": 87
        },
        "outputId": "c4ebaf4d-b938-46b3-a22f-2dbca34a3ba2"
      },
      "source": [
        "from sklearn.svm import SVC\n",
        "classifier = SVC(kernel = 'rbf', random_state = 0)\n",
        "classifier.fit(X_train, y_train)"
      ],
      "execution_count": 5,
      "outputs": [
        {
          "output_type": "execute_result",
          "data": {
            "text/plain": [
              "SVC(C=1.0, break_ties=False, cache_size=200, class_weight=None, coef0=0.0,\n",
              "    decision_function_shape='ovr', degree=3, gamma='scale', kernel='rbf',\n",
              "    max_iter=-1, probability=False, random_state=0, shrinking=True, tol=0.001,\n",
              "    verbose=False)"
            ]
          },
          "metadata": {
            "tags": []
          },
          "execution_count": 5
        }
      ]
    },
    {
      "cell_type": "markdown",
      "metadata": {
        "id": "yyxW5b395mR2",
        "colab_type": "text"
      },
      "source": [
        "## Predicting a new result"
      ]
    },
    {
      "cell_type": "code",
      "metadata": {
        "id": "f8YOXsQy58rP",
        "colab_type": "code",
        "colab": {
          "base_uri": "https://localhost:8080/",
          "height": 34
        },
        "outputId": "4e9083fd-7613-41ea-b7a2-be13b2245c65"
      },
      "source": [
        "print(classifier.predict(sc.transform([[30,87000]])))"
      ],
      "execution_count": 6,
      "outputs": [
        {
          "output_type": "stream",
          "text": [
            "[4]\n"
          ],
          "name": "stdout"
        }
      ]
    },
    {
      "cell_type": "markdown",
      "metadata": {
        "id": "vKYVQH-l5NpE",
        "colab_type": "text"
      },
      "source": [
        "## Predicting the Test set results"
      ]
    },
    {
      "cell_type": "code",
      "metadata": {
        "id": "p6VMTb2O4hwM",
        "colab_type": "code",
        "colab": {
          "base_uri": "https://localhost:8080/",
          "height": 1000
        },
        "outputId": "5915cdc2-ed82-494c-e2e3-23ab80ab73f8"
      },
      "source": [
        "y_pred = classifier.predict(X_test)\n",
        "print(np.concatenate((y_pred.reshape(len(y_pred),1), y_test.reshape(len(y_test),1)),1))"
      ],
      "execution_count": 7,
      "outputs": [
        {
          "output_type": "stream",
          "text": [
            "[[4 4]\n",
            " [5 5]\n",
            " [5 5]\n",
            " [5 5]\n",
            " [2 2]\n",
            " [5 5]\n",
            " [5 5]\n",
            " [5 5]\n",
            " [2 2]\n",
            " [4 4]\n",
            " [3 3]\n",
            " [4 4]\n",
            " [5 5]\n",
            " [4 5]\n",
            " [3 3]\n",
            " [4 4]\n",
            " [4 4]\n",
            " [3 3]\n",
            " [2 2]\n",
            " [5 5]\n",
            " [3 3]\n",
            " [5 4]\n",
            " [5 5]\n",
            " [5 5]\n",
            " [3 3]\n",
            " [5 5]\n",
            " [4 4]\n",
            " [2 2]\n",
            " [5 5]\n",
            " [5 5]\n",
            " [1 0]\n",
            " [3 3]\n",
            " [3 3]\n",
            " [5 5]\n",
            " [4 4]\n",
            " [4 4]\n",
            " [4 4]\n",
            " [4 4]\n",
            " [2 2]\n",
            " [1 2]\n",
            " [5 5]\n",
            " [1 1]\n",
            " [5 5]\n",
            " [2 1]\n",
            " [5 5]\n",
            " [2 2]\n",
            " [4 4]\n",
            " [2 2]\n",
            " [5 5]\n",
            " [5 5]\n",
            " [5 5]\n",
            " [5 5]\n",
            " [5 5]\n",
            " [5 5]\n",
            " [1 0]\n",
            " [3 3]\n",
            " [4 4]\n",
            " [4 4]\n",
            " [4 4]\n",
            " [5 4]\n",
            " [5 5]\n",
            " [4 4]\n",
            " [2 2]\n",
            " [5 5]\n",
            " [5 5]\n",
            " [2 2]\n",
            " [5 5]\n",
            " [4 4]\n",
            " [2 2]\n",
            " [1 2]\n",
            " [3 4]\n",
            " [4 4]\n",
            " [4 4]\n",
            " [4 4]\n",
            " [5 5]\n",
            " [3 3]\n",
            " [5 5]\n",
            " [5 5]\n",
            " [5 5]\n",
            " [5 5]\n",
            " [4 4]\n",
            " [5 4]\n",
            " [5 5]\n",
            " [2 2]\n",
            " [4 4]\n",
            " [5 5]\n",
            " [5 5]\n",
            " [3 3]\n",
            " [5 5]\n",
            " [4 4]\n",
            " [1 1]\n",
            " [2 2]\n",
            " [5 5]\n",
            " [5 5]\n",
            " [5 5]\n",
            " [5 5]\n",
            " [4 4]\n",
            " [5 5]\n",
            " [5 5]\n",
            " [5 4]]\n"
          ],
          "name": "stdout"
        }
      ]
    },
    {
      "cell_type": "markdown",
      "metadata": {
        "id": "h4Hwj34ziWQW",
        "colab_type": "text"
      },
      "source": [
        "## Making the Confusion Matrix"
      ]
    },
    {
      "cell_type": "code",
      "metadata": {
        "id": "D6bpZwUiiXic",
        "colab_type": "code",
        "colab": {
          "base_uri": "https://localhost:8080/",
          "height": 140
        },
        "outputId": "5e822b81-473c-42fc-dfc0-d165eb316060"
      },
      "source": [
        "from sklearn.metrics import confusion_matrix, accuracy_score\n",
        "cm = confusion_matrix(y_test, y_pred)\n",
        "print(cm)\n",
        "accuracy_score(y_test, y_pred)"
      ],
      "execution_count": 8,
      "outputs": [
        {
          "output_type": "stream",
          "text": [
            "[[ 0  2  0  0  0  0]\n",
            " [ 0  2  1  0  0  0]\n",
            " [ 0  2 12  0  0  0]\n",
            " [ 0  0  0 10  0  0]\n",
            " [ 0  0  0  1 23  4]\n",
            " [ 0  0  0  0  1 42]]\n"
          ],
          "name": "stdout"
        },
        {
          "output_type": "execute_result",
          "data": {
            "text/plain": [
              "0.89"
            ]
          },
          "metadata": {
            "tags": []
          },
          "execution_count": 8
        }
      ]
    },
    {
      "cell_type": "markdown",
      "metadata": {
        "id": "9cGEMOyZY5St",
        "colab_type": "text"
      },
      "source": [
        "# Conclusion\n",
        "> In this model I have used data of 500 person Gender, Height, Weight and Index\n",
        "\n",
        "> data terms:\n",
        "\n",
        "1. Gender : Male / Female\n",
        "2. Height: Number (cm)\n",
        "3. Weight: Number (Kg)\n",
        "4. Index :\n",
        "  * 0 - Extremely Weak\n",
        "  * 1 - Weak\n",
        "  * 2 - Normal\n",
        "  * 3 - Overweight\n",
        "  * 4 - Obesity\n",
        "  * 5 - Extreme Obesity\n",
        "\n",
        "> Conclusion:\n",
        "Support Vector Machine (SVM) Classifier is one of the perfect model to predict the index based on the gender's height and weight\n",
        "<br>\n",
        "As model gives the 89% accuracy"
      ]
    }
  ]
}