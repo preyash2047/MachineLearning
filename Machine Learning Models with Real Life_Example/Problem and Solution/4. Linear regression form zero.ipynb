{
 "cells": [
  {
   "cell_type": "code",
   "execution_count": null,
   "metadata": {},
   "outputs": [],
   "source": [
    "# initializing our inputs and outputs\n",
    "X = dataset['Head Size(cm^3)'].values\n",
    "Y = dataset['Brain Weight(grams)'].values\n",
    "# mean of our inputs and outputs\n",
    "x_mean = np.mean(X)\n",
    "y_mean = np.mean(Y)\n",
    "#total number of values\n",
    "n = len(X)\n",
    "# using the formula to calculate the b1 and b0\n",
    "numerator = 0\n",
    "denominator = 0\n",
    "for i in range(n):\n",
    "    numerator += (X[i] - x_mean) * (Y[i] - y_mean)\n",
    "    denominator += (X[i] - x_mean) ** 2\n",
    "    \n",
    "b1 = numerator / denominator\n",
    "b0 = y_mean - (b1 * x_mean)\n",
    "#printing the coefficient\n",
    "print(b1, b0)\n",
    "# output : 0.26342933948939945 325.57342104944223"
   ]
  },
  {
   "cell_type": "code",
   "execution_count": null,
   "metadata": {},
   "outputs": [],
   "source": [
    "#plotting values \n",
    "x_max = np.max(X) + 100\n",
    "x_min = np.min(X) - 100\n",
    "#calculating line values of x and y\n",
    "x = np.linspace(x_min, x_max, 1000)\n",
    "y = b0 + b1 * x\n",
    "#plotting line \n",
    "plt.plot(x, y, color='#00ff00', label='Linear Regression')\n",
    "#plot the data point\n",
    "plt.scatter(X, Y, color='#ff0000', label='Data Point')\n",
    "# x-axis label\n",
    "plt.xlabel('Head Size (cm^3)')\n",
    "#y-axis label\n",
    "plt.ylabel('Brain Weight (grams)')\n",
    "plt.legend()\n",
    "plt.show()"
   ]
  }
 ],
 "metadata": {
  "kernelspec": {
   "display_name": "Python 3",
   "language": "python",
   "name": "python3"
  },
  "language_info": {
   "codemirror_mode": {
    "name": "ipython",
    "version": 3
   },
   "file_extension": ".py",
   "mimetype": "text/x-python",
   "name": "python",
   "nbconvert_exporter": "python",
   "pygments_lexer": "ipython3",
   "version": "3.7.7"
  }
 },
 "nbformat": 4,
 "nbformat_minor": 4
}
