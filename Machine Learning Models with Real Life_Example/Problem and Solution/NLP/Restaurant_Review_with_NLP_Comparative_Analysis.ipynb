{
  "nbformat": 4,
  "nbformat_minor": 0,
  "metadata": {
    "colab": {
      "name": "Restaurant Review with NLP Comparative Analysis.ipynb",
      "provenance": [],
      "collapsed_sections": [],
      "toc_visible": true
    },
    "kernelspec": {
      "name": "python3",
      "display_name": "Python 3"
    }
  },
  "cells": [
    {
      "cell_type": "markdown",
      "metadata": {
        "id": "VwK5-9FIB-lu"
      },
      "source": [
        "# Sentiment Analysis using Natural Language Processing(NLP)"
      ]
    },
    {
      "cell_type": "markdown",
      "metadata": {
        "id": "OaSxTt6PMPjO"
      },
      "source": [
        "## Introduction\r\n",
        "*   Natural Language Processing is used to perform many machine learning algorithms on Natural Language ie. we being human use to communicate with each other.\r\n",
        "*   With the use of NLP, We can even interact with the Digitel world.\r\n",
        "*   In this project we are going to use the dataset \"Restaurant_Reviews.tsv\". it is reviews provided by the customer for one restaurant.\r\n",
        "*   And we are going to make our model predict the Sentiment of review ie. positive or negative\r\n",
        "*   1 represent Prosetive Sentiment and 0 represent Negative Sentiment \r\n",
        "\r\n",
        "## Motivation\r\n",
        "*   by Implementing this we can use this model to review restaurant customer feedback in seconds instead of reading all reviews.\r\n",
        "*   Further extension of this can be like respond customer based on the sentiment prediction."
      ]
    },
    {
      "cell_type": "markdown",
      "metadata": {
        "id": "X1kiO9kACE6s"
      },
      "source": [
        "## Importing the libraries"
      ]
    },
    {
      "cell_type": "code",
      "metadata": {
        "id": "g7uVnEchyKBY"
      },
      "source": [
        "import matplotlib.pyplot as plt\n",
        "import pandas as pd\n",
        "import numpy as np"
      ],
      "execution_count": 68,
      "outputs": []
    },
    {
      "cell_type": "markdown",
      "metadata": {
        "id": "wTfaCIzdCLPA"
      },
      "source": [
        "## Importing the dataset"
      ]
    },
    {
      "cell_type": "markdown",
      "metadata": {
        "id": "7koOURr_Laoo"
      },
      "source": [
        "Next Link is an image, You need to type the url."
      ]
    },
    {
      "cell_type": "markdown",
      "metadata": {
        "id": "ygqzFDgnKvVh"
      },
      "source": [
        "![image.png](data:image/png;base64,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)"
      ]
    },
    {
      "cell_type": "code",
      "metadata": {
        "id": "xc7GUELKyPd4"
      },
      "source": [
        "dataset = pd.read_csv(\"Restaurant_Reviews.tsv\", sep=\"\\t\", quoting =3)"
      ],
      "execution_count": 69,
      "outputs": []
    },
    {
      "cell_type": "markdown",
      "metadata": {
        "id": "Qekztq71CixT"
      },
      "source": [
        "## Cleaning the Each Document(review)"
      ]
    },
    {
      "cell_type": "code",
      "metadata": {
        "id": "L5-9X0xUz5xj",
        "colab": {
          "base_uri": "https://localhost:8080/"
        },
        "outputId": "a055cc17-b156-4a5c-d829-f23c3907ecb1"
      },
      "source": [
        "#importing the required library for this step\n",
        "import re\n",
        "import nltk\n",
        "\n",
        "#downloading the stop words\n",
        "nltk.download('stopwords')\n",
        "\n",
        "#importing stopwords\n",
        "from nltk.corpus import stopwords\n",
        "from nltk.stem.porter import PorterStemmer\n",
        "\n",
        "#creating empty corpus which will be the dataset at the end\n",
        "corpus = []\n",
        "\n",
        "#iterating the dataset\n",
        "for i in range(len(dataset)):\n",
        "  #applying regex to extract the review\n",
        "  review = re.sub('[^a-zA-Z]', ' ', str(dataset.iloc[i].values))\n",
        "  #converting the review inlower \n",
        "  review = review.lower()\n",
        "  #spliting the review\n",
        "  review = review.split()\n",
        "  #creating object for PorterStemmer()\n",
        "  ps = PorterStemmer()\n",
        "  #defining the language for stopwords \n",
        "  all_stopwords = stopwords.words('english')\n",
        "  #as \"not\" is important for our sentiment analyse so removing from the all_stopwords \n",
        "  all_stopwords.remove(\"not\")\n",
        "  #spliting the review in word and keepiing only which are not in stopwords\n",
        "  review = [ps.stem(word) for word in review if not word in set(all_stopwords)]\n",
        "  #now again making the review in one string\n",
        "  review = ' '.join(review)\n",
        "  #finally appending processed review to the corpus\n",
        "  corpus.append(review)"
      ],
      "execution_count": 70,
      "outputs": [
        {
          "output_type": "stream",
          "text": [
            "[nltk_data] Downloading package stopwords to /root/nltk_data...\n",
            "[nltk_data]   Package stopwords is already up-to-date!\n"
          ],
          "name": "stdout"
        }
      ]
    },
    {
      "cell_type": "markdown",
      "metadata": {
        "id": "CLqmAkANCp1-"
      },
      "source": [
        "## Creating the Bag of Words model"
      ]
    },
    {
      "cell_type": "code",
      "metadata": {
        "id": "aU0PwElU-Zh1"
      },
      "source": [
        "#importing librarey for the CountVectorizer model\n",
        "from sklearn.feature_extraction.text import CountVectorizer\n",
        "#creating object\n",
        "cv = CountVectorizer(max_features=1500)\n",
        "#appling to x \n",
        "X = cv.fit_transform(corpus).toarray()\n",
        "#specifing the sentiment for the x in y\n",
        "y = dataset.iloc[:,-1].values"
      ],
      "execution_count": 71,
      "outputs": []
    },
    {
      "cell_type": "markdown",
      "metadata": {
        "id": "DH_VjgPzC2cd"
      },
      "source": [
        "## Splitting the dataset into the Training set and Test set"
      ]
    },
    {
      "cell_type": "code",
      "metadata": {
        "id": "1KPcaaEB8x39"
      },
      "source": [
        "#importing librarey for the train_test_split\n",
        "from sklearn.model_selection import train_test_split\n",
        "#spliting the dataset\n",
        "X_train, X_test, y_train, y_test = train_test_split(X, y, test_size = 0.2)\n",
        "#for multiple time usage keeping this temp variable\n",
        "temp_x, temp_y = X_train, y_train"
      ],
      "execution_count": 72,
      "outputs": []
    },
    {
      "cell_type": "markdown",
      "metadata": {
        "id": "XDMpoTEqxmEz"
      },
      "source": [
        "# Comperative Analysis of differest classifier"
      ]
    },
    {
      "cell_type": "code",
      "metadata": {
        "id": "CdEdow5eadfp"
      },
      "source": [
        "#final result values will be stored in results list\r\n",
        "results = []\r\n",
        "\r\n",
        "#defining the method for model results\r\n",
        "def Model_results(X_test,y_test, classifier):\r\n",
        "  #predicting the result\r\n",
        "  y_pred = classifier.predict(X_test)\r\n",
        "  #getting the results for this model\r\n",
        "  from sklearn.metrics import confusion_matrix, accuracy_score\r\n",
        "  #creating confussion metrix\r\n",
        "  cm = confusion_matrix(y_test, y_pred)\r\n",
        "  #getting the accuracy_score\r\n",
        "  accuracy_score(y_test, y_pred)\r\n",
        "  #defining TP\r\n",
        "  TP = cm[0][0]\r\n",
        "  #defining TN\r\n",
        "  TN = cm[1][1]\r\n",
        "  #defining FP\r\n",
        "  FP = cm[1][0]\r\n",
        "  #defining FN\r\n",
        "  FN = cm[0][1]\r\n",
        "  #getting the value for Accuracy\r\n",
        "  Accuracy = (TP + TN) / (TP + TN + FP + FN)\r\n",
        "  #getting the value for Precision\r\n",
        "  Precision = TP / (TP + FP)\r\n",
        "  #getting the value for Recall\r\n",
        "  Recall = TP / (TP + FN)\r\n",
        "  #printing the result\r\n",
        "  print(f\"Accuracy: {Accuracy}\\nPrecision: {Precision}\\nRecall:{Recall}\")\r\n",
        "  #appending the result to main librarey\r\n",
        "  global results\r\n",
        "  results.append([str(type(classifier)).split(\".\")[-1][:-2],Accuracy, Precision,Recall])  "
      ],
      "execution_count": 73,
      "outputs": []
    },
    {
      "cell_type": "markdown",
      "metadata": {
        "id": "McT7PM9jxwN6"
      },
      "source": [
        "## Decision Tree"
      ]
    },
    {
      "cell_type": "code",
      "metadata": {
        "id": "RZdTlMsnHXTV",
        "colab": {
          "base_uri": "https://localhost:8080/"
        },
        "outputId": "c4045db8-3521-47a7-8aed-1b092b5f1a54"
      },
      "source": [
        "#performing the Decision Tree\n",
        "X_train, y_train = temp_x, temp_y\n",
        "#importing librarey\n",
        "from sklearn.tree import DecisionTreeClassifier\n",
        "#creating object for this model\n",
        "classifier = DecisionTreeClassifier(criterion = 'entropy', random_state = 0)\n",
        "#fitting model to train set\n",
        "classifier.fit(X_train, y_train)"
      ],
      "execution_count": 74,
      "outputs": [
        {
          "output_type": "execute_result",
          "data": {
            "text/plain": [
              "DecisionTreeClassifier(ccp_alpha=0.0, class_weight=None, criterion='entropy',\n",
              "                       max_depth=None, max_features=None, max_leaf_nodes=None,\n",
              "                       min_impurity_decrease=0.0, min_impurity_split=None,\n",
              "                       min_samples_leaf=1, min_samples_split=2,\n",
              "                       min_weight_fraction_leaf=0.0, presort='deprecated',\n",
              "                       random_state=0, splitter='best')"
            ]
          },
          "metadata": {
            "tags": []
          },
          "execution_count": 74
        }
      ]
    },
    {
      "cell_type": "code",
      "metadata": {
        "colab": {
          "base_uri": "https://localhost:8080/"
        },
        "id": "JJIFmXUlbciM",
        "outputId": "29ea5086-c6a3-45e8-9fe6-fa64514e41e2"
      },
      "source": [
        "Model_results(X_test,y_test, classifier)"
      ],
      "execution_count": 75,
      "outputs": [
        {
          "output_type": "stream",
          "text": [
            "Accuracy: 0.775\n",
            "Precision: 0.7047619047619048\n",
            "Recall:0.8409090909090909\n"
          ],
          "name": "stdout"
        }
      ]
    },
    {
      "cell_type": "markdown",
      "metadata": {
        "id": "XyG0H9jvxh4c"
      },
      "source": [
        "## GaussianNB"
      ]
    },
    {
      "cell_type": "code",
      "metadata": {
        "id": "zUKM__hoB5T8",
        "colab": {
          "base_uri": "https://localhost:8080/"
        },
        "outputId": "95063707-0266-4cca-bf89-b0cb5019adcd"
      },
      "source": [
        "#performing the Decision Tree\n",
        "X_train, y_train = temp_x, temp_y\n",
        "#importing librarey\n",
        "from sklearn.naive_bayes import GaussianNB\n",
        "#creating object for this model\n",
        "classifier = GaussianNB()\n",
        "#fitting model to train set\n",
        "classifier.fit(X_train, y_train) "
      ],
      "execution_count": 76,
      "outputs": [
        {
          "output_type": "execute_result",
          "data": {
            "text/plain": [
              "GaussianNB(priors=None, var_smoothing=1e-09)"
            ]
          },
          "metadata": {
            "tags": []
          },
          "execution_count": 76
        }
      ]
    },
    {
      "cell_type": "code",
      "metadata": {
        "colab": {
          "base_uri": "https://localhost:8080/"
        },
        "id": "oppyGhHaa5gd",
        "outputId": "652b60e2-95e3-41c1-a28f-3eccba14981b"
      },
      "source": [
        "Model_results(X_test,y_test, classifier)"
      ],
      "execution_count": 77,
      "outputs": [
        {
          "output_type": "stream",
          "text": [
            "Accuracy: 0.715\n",
            "Precision: 0.6962025316455697\n",
            "Recall:0.625\n"
          ],
          "name": "stdout"
        }
      ]
    },
    {
      "cell_type": "markdown",
      "metadata": {
        "id": "DfrqMX1sxfGS"
      },
      "source": [
        "## KNeighbors"
      ]
    },
    {
      "cell_type": "code",
      "metadata": {
        "id": "Ibz1gEdOJxFf",
        "colab": {
          "base_uri": "https://localhost:8080/"
        },
        "outputId": "7e6db2b1-c4e4-4194-baba-b49239c29bdb"
      },
      "source": [
        "#performing the Decision Tree\n",
        "X_train, y_train = temp_x, temp_y\n",
        "#importing librarey\n",
        "from sklearn.neighbors import KNeighborsClassifier\n",
        "#creating object for this model\n",
        "classifier = KNeighborsClassifier(n_neighbors = 5, metric = 'minkowski', p = 2)\n",
        "#fitting model to train set\n",
        "classifier.fit(X_train, y_train)"
      ],
      "execution_count": 78,
      "outputs": [
        {
          "output_type": "execute_result",
          "data": {
            "text/plain": [
              "KNeighborsClassifier(algorithm='auto', leaf_size=30, metric='minkowski',\n",
              "                     metric_params=None, n_jobs=None, n_neighbors=5, p=2,\n",
              "                     weights='uniform')"
            ]
          },
          "metadata": {
            "tags": []
          },
          "execution_count": 78
        }
      ]
    },
    {
      "cell_type": "code",
      "metadata": {
        "id": "4F_fp2jvJ1cO",
        "colab": {
          "base_uri": "https://localhost:8080/"
        },
        "outputId": "02a33c97-089f-4a77-cdea-91667addf402"
      },
      "source": [
        "Model_results(X_test,y_test, classifier)"
      ],
      "execution_count": 79,
      "outputs": [
        {
          "output_type": "stream",
          "text": [
            "Accuracy: 0.78\n",
            "Precision: 0.72\n",
            "Recall:0.8181818181818182\n"
          ],
          "name": "stdout"
        }
      ]
    },
    {
      "cell_type": "markdown",
      "metadata": {
        "id": "KSJd0-QRxZ9o"
      },
      "source": [
        "## Logestic Regression"
      ]
    },
    {
      "cell_type": "code",
      "metadata": {
        "id": "J4a6Xr05KSdG",
        "colab": {
          "base_uri": "https://localhost:8080/"
        },
        "outputId": "3ca1b693-1a3d-4aec-b0c2-5c10356fb875"
      },
      "source": [
        "#performing the Decision Tree\n",
        "X_train, y_train = temp_x, temp_y\n",
        "#importing librarey\n",
        "from sklearn.linear_model import LogisticRegression\n",
        "#creating object for this model\n",
        "classifier = LogisticRegression()\n",
        "#fitting model to train set\n",
        "classifier.fit(X_train, y_train)"
      ],
      "execution_count": 80,
      "outputs": [
        {
          "output_type": "execute_result",
          "data": {
            "text/plain": [
              "LogisticRegression(C=1.0, class_weight=None, dual=False, fit_intercept=True,\n",
              "                   intercept_scaling=1, l1_ratio=None, max_iter=100,\n",
              "                   multi_class='auto', n_jobs=None, penalty='l2',\n",
              "                   random_state=None, solver='lbfgs', tol=0.0001, verbose=0,\n",
              "                   warm_start=False)"
            ]
          },
          "metadata": {
            "tags": []
          },
          "execution_count": 80
        }
      ]
    },
    {
      "cell_type": "code",
      "metadata": {
        "id": "r3tLWbNsJ0dU",
        "colab": {
          "base_uri": "https://localhost:8080/"
        },
        "outputId": "6136382e-c443-4946-9b5c-f5e2e9fbd80d"
      },
      "source": [
        "Model_results(X_test,y_test, classifier)"
      ],
      "execution_count": 81,
      "outputs": [
        {
          "output_type": "stream",
          "text": [
            "Accuracy: 0.83\n",
            "Precision: 0.78125\n",
            "Recall:0.8522727272727273\n"
          ],
          "name": "stdout"
        }
      ]
    },
    {
      "cell_type": "markdown",
      "metadata": {
        "id": "z_b2BZ8axP02"
      },
      "source": [
        "## Random Forest"
      ]
    },
    {
      "cell_type": "code",
      "metadata": {
        "id": "tLT_Kj7JJzeI",
        "colab": {
          "base_uri": "https://localhost:8080/"
        },
        "outputId": "922a3c92-0d94-460a-b35d-676168c5437a"
      },
      "source": [
        "#performing the Decision Tree\n",
        "X_train, y_train = temp_x, temp_y\n",
        "#importing librarey\n",
        "from sklearn.ensemble import RandomForestClassifier\n",
        "#creating object for this model\n",
        "classifier = RandomForestClassifier(n_estimators = 10, criterion = 'entropy', random_state = 0)\n",
        "#fitting model to train set\n",
        "classifier.fit(X_train, y_train)"
      ],
      "execution_count": 82,
      "outputs": [
        {
          "output_type": "execute_result",
          "data": {
            "text/plain": [
              "RandomForestClassifier(bootstrap=True, ccp_alpha=0.0, class_weight=None,\n",
              "                       criterion='entropy', max_depth=None, max_features='auto',\n",
              "                       max_leaf_nodes=None, max_samples=None,\n",
              "                       min_impurity_decrease=0.0, min_impurity_split=None,\n",
              "                       min_samples_leaf=1, min_samples_split=2,\n",
              "                       min_weight_fraction_leaf=0.0, n_estimators=10,\n",
              "                       n_jobs=None, oob_score=False, random_state=0, verbose=0,\n",
              "                       warm_start=False)"
            ]
          },
          "metadata": {
            "tags": []
          },
          "execution_count": 82
        }
      ]
    },
    {
      "cell_type": "code",
      "metadata": {
        "id": "VvS4_5yoJzyG",
        "colab": {
          "base_uri": "https://localhost:8080/"
        },
        "outputId": "9d025712-8a35-4bef-9e18-c17fad1d3bca"
      },
      "source": [
        "Model_results(X_test,y_test, classifier)"
      ],
      "execution_count": 83,
      "outputs": [
        {
          "output_type": "stream",
          "text": [
            "Accuracy: 0.825\n",
            "Precision: 0.7387387387387387\n",
            "Recall:0.9318181818181818\n"
          ],
          "name": "stdout"
        }
      ]
    },
    {
      "cell_type": "markdown",
      "metadata": {
        "id": "gD3aPfGKxMyS"
      },
      "source": [
        "## SVM"
      ]
    },
    {
      "cell_type": "code",
      "metadata": {
        "id": "5--C81KzKe6u",
        "colab": {
          "base_uri": "https://localhost:8080/"
        },
        "outputId": "4f12e0f7-ec59-4226-a624-6e4e8c9dac4e"
      },
      "source": [
        "#performing the Decision Tree\n",
        "X_train, y_train = temp_x, temp_y\n",
        "#importing librarey \n",
        "from sklearn.svm import SVC\n",
        "#creating object for this model\n",
        "classifier = SVC(kernel = 'rbf', random_state = 0)\n",
        "#fitting model to train set\n",
        "classifier.fit(X_train, y_train)"
      ],
      "execution_count": 84,
      "outputs": [
        {
          "output_type": "execute_result",
          "data": {
            "text/plain": [
              "SVC(C=1.0, break_ties=False, cache_size=200, class_weight=None, coef0=0.0,\n",
              "    decision_function_shape='ovr', degree=3, gamma='scale', kernel='rbf',\n",
              "    max_iter=-1, probability=False, random_state=0, shrinking=True, tol=0.001,\n",
              "    verbose=False)"
            ]
          },
          "metadata": {
            "tags": []
          },
          "execution_count": 84
        }
      ]
    },
    {
      "cell_type": "code",
      "metadata": {
        "id": "PNHpTwB-Ka7F",
        "colab": {
          "base_uri": "https://localhost:8080/"
        },
        "outputId": "58481dca-d426-4237-830c-82e52ce654a5"
      },
      "source": [
        "Model_results(X_test,y_test, classifier)"
      ],
      "execution_count": 85,
      "outputs": [
        {
          "output_type": "stream",
          "text": [
            "Accuracy: 0.805\n",
            "Precision: 0.7094017094017094\n",
            "Recall:0.9431818181818182\n"
          ],
          "name": "stdout"
        }
      ]
    },
    {
      "cell_type": "markdown",
      "metadata": {
        "id": "9GrXcYq_xHTn"
      },
      "source": [
        "## SVM Kernal"
      ]
    },
    {
      "cell_type": "code",
      "metadata": {
        "id": "JoedH9OKKcAA",
        "colab": {
          "base_uri": "https://localhost:8080/"
        },
        "outputId": "4a9672d3-20c5-44bc-d7c3-df68fad3f3c5"
      },
      "source": [
        "#performing the Decision Tree\n",
        "X_train, y_train = temp_x, temp_y\n",
        "#importing librarey\n",
        "from sklearn.svm import SVC\n",
        "#creating object for this model\n",
        "classifier = SVC(kernel = 'linear', random_state = 0)\n",
        "#fitting model to train set\n",
        "classifier.fit(X_train, y_train)"
      ],
      "execution_count": 86,
      "outputs": [
        {
          "output_type": "execute_result",
          "data": {
            "text/plain": [
              "SVC(C=1.0, break_ties=False, cache_size=200, class_weight=None, coef0=0.0,\n",
              "    decision_function_shape='ovr', degree=3, gamma='scale', kernel='linear',\n",
              "    max_iter=-1, probability=False, random_state=0, shrinking=True, tol=0.001,\n",
              "    verbose=False)"
            ]
          },
          "metadata": {
            "tags": []
          },
          "execution_count": 86
        }
      ]
    },
    {
      "cell_type": "code",
      "metadata": {
        "id": "nltfddJtKcM3",
        "colab": {
          "base_uri": "https://localhost:8080/"
        },
        "outputId": "146d8322-d18d-484b-fbd3-0a4cc4587364"
      },
      "source": [
        "Model_results(X_test,y_test, classifier)"
      ],
      "execution_count": 87,
      "outputs": [
        {
          "output_type": "stream",
          "text": [
            "Accuracy: 0.86\n",
            "Precision: 0.8333333333333334\n",
            "Recall:0.8522727272727273\n"
          ],
          "name": "stdout"
        }
      ]
    },
    {
      "cell_type": "markdown",
      "metadata": {
        "id": "cAAnnvcuw8ui"
      },
      "source": [
        "# Result"
      ]
    },
    {
      "cell_type": "code",
      "metadata": {
        "id": "kL07ROMoMBkl",
        "colab": {
          "base_uri": "https://localhost:8080/",
          "height": 266
        },
        "outputId": "9961a0e9-794a-468a-dc83-f139d63f229b"
      },
      "source": [
        "results[-1][0] = \"SVC Kernal\"\n",
        "pd.DataFrame(results, columns=[\"Model\", \"Accuracy\", \"Precision\",\"Recall\"])"
      ],
      "execution_count": 88,
      "outputs": [
        {
          "output_type": "execute_result",
          "data": {
            "text/html": [
              "<div>\n",
              "<style scoped>\n",
              "    .dataframe tbody tr th:only-of-type {\n",
              "        vertical-align: middle;\n",
              "    }\n",
              "\n",
              "    .dataframe tbody tr th {\n",
              "        vertical-align: top;\n",
              "    }\n",
              "\n",
              "    .dataframe thead th {\n",
              "        text-align: right;\n",
              "    }\n",
              "</style>\n",
              "<table border=\"1\" class=\"dataframe\">\n",
              "  <thead>\n",
              "    <tr style=\"text-align: right;\">\n",
              "      <th></th>\n",
              "      <th>Model</th>\n",
              "      <th>Accuracy</th>\n",
              "      <th>Precision</th>\n",
              "      <th>Recall</th>\n",
              "    </tr>\n",
              "  </thead>\n",
              "  <tbody>\n",
              "    <tr>\n",
              "      <th>0</th>\n",
              "      <td>DecisionTreeClassifier</td>\n",
              "      <td>0.775</td>\n",
              "      <td>0.704762</td>\n",
              "      <td>0.840909</td>\n",
              "    </tr>\n",
              "    <tr>\n",
              "      <th>1</th>\n",
              "      <td>GaussianNB</td>\n",
              "      <td>0.715</td>\n",
              "      <td>0.696203</td>\n",
              "      <td>0.625000</td>\n",
              "    </tr>\n",
              "    <tr>\n",
              "      <th>2</th>\n",
              "      <td>KNeighborsClassifier</td>\n",
              "      <td>0.780</td>\n",
              "      <td>0.720000</td>\n",
              "      <td>0.818182</td>\n",
              "    </tr>\n",
              "    <tr>\n",
              "      <th>3</th>\n",
              "      <td>LogisticRegression</td>\n",
              "      <td>0.830</td>\n",
              "      <td>0.781250</td>\n",
              "      <td>0.852273</td>\n",
              "    </tr>\n",
              "    <tr>\n",
              "      <th>4</th>\n",
              "      <td>RandomForestClassifier</td>\n",
              "      <td>0.825</td>\n",
              "      <td>0.738739</td>\n",
              "      <td>0.931818</td>\n",
              "    </tr>\n",
              "    <tr>\n",
              "      <th>5</th>\n",
              "      <td>SVC</td>\n",
              "      <td>0.805</td>\n",
              "      <td>0.709402</td>\n",
              "      <td>0.943182</td>\n",
              "    </tr>\n",
              "    <tr>\n",
              "      <th>6</th>\n",
              "      <td>SVC Kernal</td>\n",
              "      <td>0.860</td>\n",
              "      <td>0.833333</td>\n",
              "      <td>0.852273</td>\n",
              "    </tr>\n",
              "  </tbody>\n",
              "</table>\n",
              "</div>"
            ],
            "text/plain": [
              "                    Model  Accuracy  Precision    Recall\n",
              "0  DecisionTreeClassifier     0.775   0.704762  0.840909\n",
              "1              GaussianNB     0.715   0.696203  0.625000\n",
              "2    KNeighborsClassifier     0.780   0.720000  0.818182\n",
              "3      LogisticRegression     0.830   0.781250  0.852273\n",
              "4  RandomForestClassifier     0.825   0.738739  0.931818\n",
              "5                     SVC     0.805   0.709402  0.943182\n",
              "6              SVC Kernal     0.860   0.833333  0.852273"
            ]
          },
          "metadata": {
            "tags": []
          },
          "execution_count": 88
        }
      ]
    },
    {
      "cell_type": "markdown",
      "metadata": {
        "id": "Jx7_EVPzx3_a"
      },
      "source": [
        "# Conclusion"
      ]
    },
    {
      "cell_type": "markdown",
      "metadata": {
        "id": "_CDPHd8EyRVA"
      },
      "source": [
        "> As per the the above comperasion Accuracy we can select SVC\n",
        "\n"
      ]
    },
    {
      "cell_type": "markdown",
      "metadata": {
        "id": "0HU4_gugdsvT"
      },
      "source": [
        "# Future enhancement"
      ]
    },
    {
      "cell_type": "markdown",
      "metadata": {
        "id": "wMyhbXTrdueV"
      },
      "source": [
        "It can be attached to the Application so Bot can respond based on the sentiment predicted by our model"
      ]
    }
  ]
}