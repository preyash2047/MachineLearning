{
  "nbformat": 4,
  "nbformat_minor": 0,
  "metadata": {
    "kernelspec": {
      "display_name": "Python 3",
      "language": "python",
      "name": "python3"
    },
    "language_info": {
      "codemirror_mode": {
        "name": "ipython",
        "version": 3
      },
      "file_extension": ".py",
      "mimetype": "text/x-python",
      "name": "python",
      "nbconvert_exporter": "python",
      "pygments_lexer": "ipython3",
      "version": "3.7.7"
    },
    "colab": {
      "name": "apriory and Kmeans comperation.ipynb",
      "provenance": [],
      "collapsed_sections": []
    }
  },
  "cells": [
    {
      "cell_type": "markdown",
      "metadata": {
        "id": "rQQnZQHOcu_g"
      },
      "source": [
        "![image.png](data:image/png;base64,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)"
      ]
    },
    {
      "cell_type": "markdown",
      "metadata": {
        "id": "tegojzmcc2iA"
      },
      "source": [
        "# 1. Frequent Pattern Mining\r\n",
        "## a. Rotate/transpose of table\r\n",
        "## b. Find sets of students mostly taking courses together (min_sup=3)"
      ]
    },
    {
      "cell_type": "markdown",
      "metadata": {
        "id": "1fziHl7Ar94J"
      },
      "source": [
        "## Apriori"
      ]
    },
    {
      "cell_type": "markdown",
      "metadata": {
        "id": "eiNwni1xsEgT"
      },
      "source": [
        "## Importing the libraries"
      ]
    },
    {
      "cell_type": "code",
      "metadata": {
        "id": "DUF77Qr1vqyM",
        "colab": {
          "base_uri": "https://localhost:8080/"
        },
        "outputId": "39de30fa-6acb-4d9d-bbc1-d16e0f7d99bb"
      },
      "source": [
        "!pip install apyori"
      ],
      "execution_count": 1,
      "outputs": [
        {
          "output_type": "stream",
          "text": [
            "Collecting apyori\n",
            "  Downloading https://files.pythonhosted.org/packages/5e/62/5ffde5c473ea4b033490617ec5caa80d59804875ad3c3c57c0976533a21a/apyori-1.1.2.tar.gz\n",
            "Building wheels for collected packages: apyori\n",
            "  Building wheel for apyori (setup.py) ... \u001b[?25l\u001b[?25hdone\n",
            "  Created wheel for apyori: filename=apyori-1.1.2-cp36-none-any.whl size=5977 sha256=24175de6f72366feed4250b7702072f46716ab8a3c56c9ce1b1e24aeb66e0dcc\n",
            "  Stored in directory: /root/.cache/pip/wheels/5d/92/bb/474bbadbc8c0062b9eb168f69982a0443263f8ab1711a8cad0\n",
            "Successfully built apyori\n",
            "Installing collected packages: apyori\n",
            "Successfully installed apyori-1.1.2\n"
          ],
          "name": "stdout"
        }
      ]
    },
    {
      "cell_type": "code",
      "metadata": {
        "id": "UJfitBClsJlT"
      },
      "source": [
        "import numpy as np\n",
        "import matplotlib.pyplot as plt\n",
        "import pandas as pd"
      ],
      "execution_count": 2,
      "outputs": []
    },
    {
      "cell_type": "markdown",
      "metadata": {
        "id": "vLt-7XUKsXBd"
      },
      "source": [
        "## Data Preprocessing"
      ]
    },
    {
      "cell_type": "code",
      "metadata": {
        "id": "J_A-UFOAsaDf"
      },
      "source": [
        "dataset = pd.read_csv('dataset.csv', header = None)\n",
        "dataset = dataset.transpose()\n",
        "dataset = dataset.iloc[:,1:]\n",
        "transactions = []\n",
        "for i in range(len(dataset)):\n",
        "  transactions.append([str(dataset.values[i,j]) for j in range(len(dataset.columns))])"
      ],
      "execution_count": 6,
      "outputs": []
    },
    {
      "cell_type": "markdown",
      "metadata": {
        "id": "1wYZdBd5sea_"
      },
      "source": [
        "## Training the Apriori model on the dataset"
      ]
    },
    {
      "cell_type": "code",
      "metadata": {
        "id": "YzIk4vXZsj5i"
      },
      "source": [
        "from apyori import apriori\n",
        "rules = apriori(transactions = transactions, min_support = 0.003, min_confidence = 0.2, min_lift = 3, min_length = 2, max_length = 2)"
      ],
      "execution_count": 14,
      "outputs": []
    },
    {
      "cell_type": "markdown",
      "metadata": {
        "id": "b176YNwWspiO"
      },
      "source": [
        "## Visualising the results"
      ]
    },
    {
      "cell_type": "markdown",
      "metadata": {
        "id": "iO6bF_dImT-E"
      },
      "source": [
        "### Displaying the first results coming directly from the output of the apriori function"
      ]
    },
    {
      "cell_type": "code",
      "metadata": {
        "id": "kvF-sLc6ifhd"
      },
      "source": [
        "results = list(rules)"
      ],
      "execution_count": 15,
      "outputs": []
    },
    {
      "cell_type": "code",
      "metadata": {
        "id": "eAD8Co4_l9IE",
        "colab": {
          "base_uri": "https://localhost:8080/"
        },
        "outputId": "b0c03a40-eee9-4939-ae48-fa1fbbd3e171"
      },
      "source": [
        "len(results)"
      ],
      "execution_count": 62,
      "outputs": [
        {
          "output_type": "execute_result",
          "data": {
            "text/plain": [
              "28"
            ]
          },
          "metadata": {
            "tags": []
          },
          "execution_count": 62
        }
      ]
    },
    {
      "cell_type": "markdown",
      "metadata": {
        "id": "MFkQP-fcjDBC"
      },
      "source": [
        "### Putting the results well organised into a Pandas DataFrame"
      ]
    },
    {
      "cell_type": "code",
      "metadata": {
        "id": "gyq7Poi0mMUe"
      },
      "source": [
        "def inspect(results):\n",
        "    lhs         = [tuple(result[2][0][0])[0] for result in results]\n",
        "    rhs         = [tuple(result[2][0][1])[0] for result in results]\n",
        "    supports    = [result[1] for result in results]\n",
        "    confidences = [result[2][0][2] for result in results]\n",
        "    lifts       = [result[2][0][3] for result in results]\n",
        "    return list(zip(lhs, rhs, supports, confidences, lifts))\n",
        "resultsinDataFrame = pd.DataFrame(inspect(results), columns = ['Left Hand Side', 'Right Hand Side', 'Support', 'Confidence', 'Lift'])"
      ],
      "execution_count": 17,
      "outputs": []
    },
    {
      "cell_type": "markdown",
      "metadata": {
        "id": "Pfn-G1eAjjLz"
      },
      "source": [
        "### Displaying the results non sorted"
      ]
    },
    {
      "cell_type": "code",
      "metadata": {
        "id": "CmDCcs_6ip9V",
        "colab": {
          "base_uri": "https://localhost:8080/",
          "height": 917
        },
        "outputId": "f89d4c2e-d1f2-498f-b4ed-be2ae4d095ea"
      },
      "source": [
        "resultsinDataFrame"
      ],
      "execution_count": 18,
      "outputs": [
        {
          "output_type": "execute_result",
          "data": {
            "text/html": [
              "<div>\n",
              "<style scoped>\n",
              "    .dataframe tbody tr th:only-of-type {\n",
              "        vertical-align: middle;\n",
              "    }\n",
              "\n",
              "    .dataframe tbody tr th {\n",
              "        vertical-align: top;\n",
              "    }\n",
              "\n",
              "    .dataframe thead th {\n",
              "        text-align: right;\n",
              "    }\n",
              "</style>\n",
              "<table border=\"1\" class=\"dataframe\">\n",
              "  <thead>\n",
              "    <tr style=\"text-align: right;\">\n",
              "      <th></th>\n",
              "      <th>Left Hand Side</th>\n",
              "      <th>Right Hand Side</th>\n",
              "      <th>Support</th>\n",
              "      <th>Confidence</th>\n",
              "      <th>Lift</th>\n",
              "    </tr>\n",
              "  </thead>\n",
              "  <tbody>\n",
              "    <tr>\n",
              "      <th>0</th>\n",
              "      <td>S1</td>\n",
              "      <td>S2</td>\n",
              "      <td>0.1</td>\n",
              "      <td>1.0</td>\n",
              "      <td>10.0</td>\n",
              "    </tr>\n",
              "    <tr>\n",
              "      <th>1</th>\n",
              "      <td>S1</td>\n",
              "      <td>S3</td>\n",
              "      <td>0.1</td>\n",
              "      <td>1.0</td>\n",
              "      <td>10.0</td>\n",
              "    </tr>\n",
              "    <tr>\n",
              "      <th>2</th>\n",
              "      <td>S1</td>\n",
              "      <td>S4</td>\n",
              "      <td>0.1</td>\n",
              "      <td>1.0</td>\n",
              "      <td>10.0</td>\n",
              "    </tr>\n",
              "    <tr>\n",
              "      <th>3</th>\n",
              "      <td>S1</td>\n",
              "      <td>S5</td>\n",
              "      <td>0.1</td>\n",
              "      <td>1.0</td>\n",
              "      <td>10.0</td>\n",
              "    </tr>\n",
              "    <tr>\n",
              "      <th>4</th>\n",
              "      <td>S1</td>\n",
              "      <td>S6</td>\n",
              "      <td>0.1</td>\n",
              "      <td>1.0</td>\n",
              "      <td>10.0</td>\n",
              "    </tr>\n",
              "    <tr>\n",
              "      <th>5</th>\n",
              "      <td>S1</td>\n",
              "      <td>S7</td>\n",
              "      <td>0.1</td>\n",
              "      <td>1.0</td>\n",
              "      <td>10.0</td>\n",
              "    </tr>\n",
              "    <tr>\n",
              "      <th>6</th>\n",
              "      <td>S1</td>\n",
              "      <td>S8</td>\n",
              "      <td>0.1</td>\n",
              "      <td>1.0</td>\n",
              "      <td>10.0</td>\n",
              "    </tr>\n",
              "    <tr>\n",
              "      <th>7</th>\n",
              "      <td>S2</td>\n",
              "      <td>S3</td>\n",
              "      <td>0.1</td>\n",
              "      <td>1.0</td>\n",
              "      <td>10.0</td>\n",
              "    </tr>\n",
              "    <tr>\n",
              "      <th>8</th>\n",
              "      <td>S2</td>\n",
              "      <td>S4</td>\n",
              "      <td>0.1</td>\n",
              "      <td>1.0</td>\n",
              "      <td>10.0</td>\n",
              "    </tr>\n",
              "    <tr>\n",
              "      <th>9</th>\n",
              "      <td>S2</td>\n",
              "      <td>S5</td>\n",
              "      <td>0.1</td>\n",
              "      <td>1.0</td>\n",
              "      <td>10.0</td>\n",
              "    </tr>\n",
              "    <tr>\n",
              "      <th>10</th>\n",
              "      <td>S2</td>\n",
              "      <td>S6</td>\n",
              "      <td>0.1</td>\n",
              "      <td>1.0</td>\n",
              "      <td>10.0</td>\n",
              "    </tr>\n",
              "    <tr>\n",
              "      <th>11</th>\n",
              "      <td>S2</td>\n",
              "      <td>S7</td>\n",
              "      <td>0.1</td>\n",
              "      <td>1.0</td>\n",
              "      <td>10.0</td>\n",
              "    </tr>\n",
              "    <tr>\n",
              "      <th>12</th>\n",
              "      <td>S2</td>\n",
              "      <td>S8</td>\n",
              "      <td>0.1</td>\n",
              "      <td>1.0</td>\n",
              "      <td>10.0</td>\n",
              "    </tr>\n",
              "    <tr>\n",
              "      <th>13</th>\n",
              "      <td>S3</td>\n",
              "      <td>S4</td>\n",
              "      <td>0.1</td>\n",
              "      <td>1.0</td>\n",
              "      <td>10.0</td>\n",
              "    </tr>\n",
              "    <tr>\n",
              "      <th>14</th>\n",
              "      <td>S3</td>\n",
              "      <td>S5</td>\n",
              "      <td>0.1</td>\n",
              "      <td>1.0</td>\n",
              "      <td>10.0</td>\n",
              "    </tr>\n",
              "    <tr>\n",
              "      <th>15</th>\n",
              "      <td>S3</td>\n",
              "      <td>S6</td>\n",
              "      <td>0.1</td>\n",
              "      <td>1.0</td>\n",
              "      <td>10.0</td>\n",
              "    </tr>\n",
              "    <tr>\n",
              "      <th>16</th>\n",
              "      <td>S3</td>\n",
              "      <td>S7</td>\n",
              "      <td>0.1</td>\n",
              "      <td>1.0</td>\n",
              "      <td>10.0</td>\n",
              "    </tr>\n",
              "    <tr>\n",
              "      <th>17</th>\n",
              "      <td>S3</td>\n",
              "      <td>S8</td>\n",
              "      <td>0.1</td>\n",
              "      <td>1.0</td>\n",
              "      <td>10.0</td>\n",
              "    </tr>\n",
              "    <tr>\n",
              "      <th>18</th>\n",
              "      <td>S4</td>\n",
              "      <td>S5</td>\n",
              "      <td>0.1</td>\n",
              "      <td>1.0</td>\n",
              "      <td>10.0</td>\n",
              "    </tr>\n",
              "    <tr>\n",
              "      <th>19</th>\n",
              "      <td>S4</td>\n",
              "      <td>S6</td>\n",
              "      <td>0.1</td>\n",
              "      <td>1.0</td>\n",
              "      <td>10.0</td>\n",
              "    </tr>\n",
              "    <tr>\n",
              "      <th>20</th>\n",
              "      <td>S4</td>\n",
              "      <td>S7</td>\n",
              "      <td>0.1</td>\n",
              "      <td>1.0</td>\n",
              "      <td>10.0</td>\n",
              "    </tr>\n",
              "    <tr>\n",
              "      <th>21</th>\n",
              "      <td>S4</td>\n",
              "      <td>S8</td>\n",
              "      <td>0.1</td>\n",
              "      <td>1.0</td>\n",
              "      <td>10.0</td>\n",
              "    </tr>\n",
              "    <tr>\n",
              "      <th>22</th>\n",
              "      <td>S5</td>\n",
              "      <td>S6</td>\n",
              "      <td>0.1</td>\n",
              "      <td>1.0</td>\n",
              "      <td>10.0</td>\n",
              "    </tr>\n",
              "    <tr>\n",
              "      <th>23</th>\n",
              "      <td>S5</td>\n",
              "      <td>S7</td>\n",
              "      <td>0.1</td>\n",
              "      <td>1.0</td>\n",
              "      <td>10.0</td>\n",
              "    </tr>\n",
              "    <tr>\n",
              "      <th>24</th>\n",
              "      <td>S5</td>\n",
              "      <td>S8</td>\n",
              "      <td>0.1</td>\n",
              "      <td>1.0</td>\n",
              "      <td>10.0</td>\n",
              "    </tr>\n",
              "    <tr>\n",
              "      <th>25</th>\n",
              "      <td>S6</td>\n",
              "      <td>S7</td>\n",
              "      <td>0.1</td>\n",
              "      <td>1.0</td>\n",
              "      <td>10.0</td>\n",
              "    </tr>\n",
              "    <tr>\n",
              "      <th>26</th>\n",
              "      <td>S6</td>\n",
              "      <td>S8</td>\n",
              "      <td>0.1</td>\n",
              "      <td>1.0</td>\n",
              "      <td>10.0</td>\n",
              "    </tr>\n",
              "    <tr>\n",
              "      <th>27</th>\n",
              "      <td>S7</td>\n",
              "      <td>S8</td>\n",
              "      <td>0.1</td>\n",
              "      <td>1.0</td>\n",
              "      <td>10.0</td>\n",
              "    </tr>\n",
              "  </tbody>\n",
              "</table>\n",
              "</div>"
            ],
            "text/plain": [
              "   Left Hand Side Right Hand Side  Support  Confidence  Lift\n",
              "0              S1              S2      0.1         1.0  10.0\n",
              "1              S1              S3      0.1         1.0  10.0\n",
              "2              S1              S4      0.1         1.0  10.0\n",
              "3              S1              S5      0.1         1.0  10.0\n",
              "4              S1              S6      0.1         1.0  10.0\n",
              "5              S1              S7      0.1         1.0  10.0\n",
              "6              S1              S8      0.1         1.0  10.0\n",
              "7              S2              S3      0.1         1.0  10.0\n",
              "8              S2              S4      0.1         1.0  10.0\n",
              "9              S2              S5      0.1         1.0  10.0\n",
              "10             S2              S6      0.1         1.0  10.0\n",
              "11             S2              S7      0.1         1.0  10.0\n",
              "12             S2              S8      0.1         1.0  10.0\n",
              "13             S3              S4      0.1         1.0  10.0\n",
              "14             S3              S5      0.1         1.0  10.0\n",
              "15             S3              S6      0.1         1.0  10.0\n",
              "16             S3              S7      0.1         1.0  10.0\n",
              "17             S3              S8      0.1         1.0  10.0\n",
              "18             S4              S5      0.1         1.0  10.0\n",
              "19             S4              S6      0.1         1.0  10.0\n",
              "20             S4              S7      0.1         1.0  10.0\n",
              "21             S4              S8      0.1         1.0  10.0\n",
              "22             S5              S6      0.1         1.0  10.0\n",
              "23             S5              S7      0.1         1.0  10.0\n",
              "24             S5              S8      0.1         1.0  10.0\n",
              "25             S6              S7      0.1         1.0  10.0\n",
              "26             S6              S8      0.1         1.0  10.0\n",
              "27             S7              S8      0.1         1.0  10.0"
            ]
          },
          "metadata": {
            "tags": []
          },
          "execution_count": 18
        }
      ]
    },
    {
      "cell_type": "markdown",
      "metadata": {
        "id": "IjrrlYW4jpTR"
      },
      "source": [
        "### Displaying the results sorted by descending lifts"
      ]
    },
    {
      "cell_type": "code",
      "metadata": {
        "id": "nI7DJXng-nxQ",
        "colab": {
          "base_uri": "https://localhost:8080/",
          "height": 376
        },
        "outputId": "8643d631-5cb5-47fb-f2f9-2ff5574a2401"
      },
      "source": [
        "print(\"Answer:\")\r\n",
        "resultsinDataFrame.nlargest(n = 10, columns = 'Lift')"
      ],
      "execution_count": 82,
      "outputs": [
        {
          "output_type": "stream",
          "text": [
            "Answer:\n"
          ],
          "name": "stdout"
        },
        {
          "output_type": "execute_result",
          "data": {
            "text/html": [
              "<div>\n",
              "<style scoped>\n",
              "    .dataframe tbody tr th:only-of-type {\n",
              "        vertical-align: middle;\n",
              "    }\n",
              "\n",
              "    .dataframe tbody tr th {\n",
              "        vertical-align: top;\n",
              "    }\n",
              "\n",
              "    .dataframe thead th {\n",
              "        text-align: right;\n",
              "    }\n",
              "</style>\n",
              "<table border=\"1\" class=\"dataframe\">\n",
              "  <thead>\n",
              "    <tr style=\"text-align: right;\">\n",
              "      <th></th>\n",
              "      <th>Left Hand Side</th>\n",
              "      <th>Right Hand Side</th>\n",
              "      <th>Support</th>\n",
              "      <th>Confidence</th>\n",
              "      <th>Lift</th>\n",
              "    </tr>\n",
              "  </thead>\n",
              "  <tbody>\n",
              "    <tr>\n",
              "      <th>0</th>\n",
              "      <td>S1</td>\n",
              "      <td>S2</td>\n",
              "      <td>0.1</td>\n",
              "      <td>1.0</td>\n",
              "      <td>10.0</td>\n",
              "    </tr>\n",
              "    <tr>\n",
              "      <th>1</th>\n",
              "      <td>S1</td>\n",
              "      <td>S3</td>\n",
              "      <td>0.1</td>\n",
              "      <td>1.0</td>\n",
              "      <td>10.0</td>\n",
              "    </tr>\n",
              "    <tr>\n",
              "      <th>2</th>\n",
              "      <td>S1</td>\n",
              "      <td>S4</td>\n",
              "      <td>0.1</td>\n",
              "      <td>1.0</td>\n",
              "      <td>10.0</td>\n",
              "    </tr>\n",
              "    <tr>\n",
              "      <th>3</th>\n",
              "      <td>S1</td>\n",
              "      <td>S5</td>\n",
              "      <td>0.1</td>\n",
              "      <td>1.0</td>\n",
              "      <td>10.0</td>\n",
              "    </tr>\n",
              "    <tr>\n",
              "      <th>4</th>\n",
              "      <td>S1</td>\n",
              "      <td>S6</td>\n",
              "      <td>0.1</td>\n",
              "      <td>1.0</td>\n",
              "      <td>10.0</td>\n",
              "    </tr>\n",
              "    <tr>\n",
              "      <th>5</th>\n",
              "      <td>S1</td>\n",
              "      <td>S7</td>\n",
              "      <td>0.1</td>\n",
              "      <td>1.0</td>\n",
              "      <td>10.0</td>\n",
              "    </tr>\n",
              "    <tr>\n",
              "      <th>6</th>\n",
              "      <td>S1</td>\n",
              "      <td>S8</td>\n",
              "      <td>0.1</td>\n",
              "      <td>1.0</td>\n",
              "      <td>10.0</td>\n",
              "    </tr>\n",
              "    <tr>\n",
              "      <th>7</th>\n",
              "      <td>S2</td>\n",
              "      <td>S3</td>\n",
              "      <td>0.1</td>\n",
              "      <td>1.0</td>\n",
              "      <td>10.0</td>\n",
              "    </tr>\n",
              "    <tr>\n",
              "      <th>8</th>\n",
              "      <td>S2</td>\n",
              "      <td>S4</td>\n",
              "      <td>0.1</td>\n",
              "      <td>1.0</td>\n",
              "      <td>10.0</td>\n",
              "    </tr>\n",
              "    <tr>\n",
              "      <th>9</th>\n",
              "      <td>S2</td>\n",
              "      <td>S5</td>\n",
              "      <td>0.1</td>\n",
              "      <td>1.0</td>\n",
              "      <td>10.0</td>\n",
              "    </tr>\n",
              "  </tbody>\n",
              "</table>\n",
              "</div>"
            ],
            "text/plain": [
              "  Left Hand Side Right Hand Side  Support  Confidence  Lift\n",
              "0             S1              S2      0.1         1.0  10.0\n",
              "1             S1              S3      0.1         1.0  10.0\n",
              "2             S1              S4      0.1         1.0  10.0\n",
              "3             S1              S5      0.1         1.0  10.0\n",
              "4             S1              S6      0.1         1.0  10.0\n",
              "5             S1              S7      0.1         1.0  10.0\n",
              "6             S1              S8      0.1         1.0  10.0\n",
              "7             S2              S3      0.1         1.0  10.0\n",
              "8             S2              S4      0.1         1.0  10.0\n",
              "9             S2              S5      0.1         1.0  10.0"
            ]
          },
          "metadata": {
            "tags": []
          },
          "execution_count": 82
        }
      ]
    },
    {
      "cell_type": "markdown",
      "metadata": {
        "id": "2OjxMgq7gZug"
      },
      "source": [
        "# 2. Clustering\r\n",
        "## a. Cluster students into 3 clusters by considering courses as their features and use cosine similarity"
      ]
    },
    {
      "cell_type": "markdown",
      "metadata": {
        "id": "i_paGd_yLbgH"
      },
      "source": [
        "## K-Means Clustering"
      ]
    },
    {
      "cell_type": "markdown",
      "metadata": {
        "id": "nAuqPwTnLipr"
      },
      "source": [
        "## Importing the libraries"
      ]
    },
    {
      "cell_type": "code",
      "metadata": {
        "id": "yUXGcC4KLmcL"
      },
      "source": [
        "import numpy as np\n",
        "import matplotlib.pyplot as plt\n",
        "import pandas as pd"
      ],
      "execution_count": 69,
      "outputs": []
    },
    {
      "cell_type": "markdown",
      "metadata": {
        "id": "5LciKOr8Lo5O"
      },
      "source": [
        "## Importing the dataset"
      ]
    },
    {
      "cell_type": "code",
      "metadata": {
        "id": "9RlmPzZGLtGi",
        "colab": {
          "base_uri": "https://localhost:8080/",
          "height": 266
        },
        "outputId": "adf7e4f4-ab87-45dd-a8a1-97eec4ff6730"
      },
      "source": [
        "dataset = pd.read_csv('dataset.csv',header=0)\n",
        "dataset = dataset.iloc[1:,1:]\n",
        "X = dataset.values\n",
        "dataset"
      ],
      "execution_count": 70,
      "outputs": [
        {
          "output_type": "execute_result",
          "data": {
            "text/html": [
              "<div>\n",
              "<style scoped>\n",
              "    .dataframe tbody tr th:only-of-type {\n",
              "        vertical-align: middle;\n",
              "    }\n",
              "\n",
              "    .dataframe tbody tr th {\n",
              "        vertical-align: top;\n",
              "    }\n",
              "\n",
              "    .dataframe thead th {\n",
              "        text-align: right;\n",
              "    }\n",
              "</style>\n",
              "<table border=\"1\" class=\"dataframe\">\n",
              "  <thead>\n",
              "    <tr style=\"text-align: right;\">\n",
              "      <th></th>\n",
              "      <th>C1</th>\n",
              "      <th>C2</th>\n",
              "      <th>C3</th>\n",
              "      <th>C4</th>\n",
              "      <th>C5</th>\n",
              "      <th>C6</th>\n",
              "      <th>C7</th>\n",
              "      <th>C8</th>\n",
              "      <th>C9</th>\n",
              "    </tr>\n",
              "  </thead>\n",
              "  <tbody>\n",
              "    <tr>\n",
              "      <th>1</th>\n",
              "      <td>1</td>\n",
              "      <td>1</td>\n",
              "      <td>1</td>\n",
              "      <td>0</td>\n",
              "      <td>0</td>\n",
              "      <td>1</td>\n",
              "      <td>0</td>\n",
              "      <td>0</td>\n",
              "      <td>0</td>\n",
              "    </tr>\n",
              "    <tr>\n",
              "      <th>2</th>\n",
              "      <td>1</td>\n",
              "      <td>1</td>\n",
              "      <td>0</td>\n",
              "      <td>1</td>\n",
              "      <td>0</td>\n",
              "      <td>0</td>\n",
              "      <td>0</td>\n",
              "      <td>1</td>\n",
              "      <td>0</td>\n",
              "    </tr>\n",
              "    <tr>\n",
              "      <th>3</th>\n",
              "      <td>0</td>\n",
              "      <td>0</td>\n",
              "      <td>1</td>\n",
              "      <td>1</td>\n",
              "      <td>0</td>\n",
              "      <td>1</td>\n",
              "      <td>1</td>\n",
              "      <td>0</td>\n",
              "      <td>1</td>\n",
              "    </tr>\n",
              "    <tr>\n",
              "      <th>4</th>\n",
              "      <td>1</td>\n",
              "      <td>0</td>\n",
              "      <td>1</td>\n",
              "      <td>0</td>\n",
              "      <td>1</td>\n",
              "      <td>1</td>\n",
              "      <td>1</td>\n",
              "      <td>1</td>\n",
              "      <td>1</td>\n",
              "    </tr>\n",
              "    <tr>\n",
              "      <th>5</th>\n",
              "      <td>1</td>\n",
              "      <td>0</td>\n",
              "      <td>1</td>\n",
              "      <td>0</td>\n",
              "      <td>1</td>\n",
              "      <td>0</td>\n",
              "      <td>1</td>\n",
              "      <td>0</td>\n",
              "      <td>1</td>\n",
              "    </tr>\n",
              "    <tr>\n",
              "      <th>6</th>\n",
              "      <td>0</td>\n",
              "      <td>1</td>\n",
              "      <td>1</td>\n",
              "      <td>1</td>\n",
              "      <td>0</td>\n",
              "      <td>1</td>\n",
              "      <td>0</td>\n",
              "      <td>1</td>\n",
              "      <td>0</td>\n",
              "    </tr>\n",
              "    <tr>\n",
              "      <th>7</th>\n",
              "      <td>0</td>\n",
              "      <td>1</td>\n",
              "      <td>1</td>\n",
              "      <td>1</td>\n",
              "      <td>0</td>\n",
              "      <td>0</td>\n",
              "      <td>0</td>\n",
              "      <td>1</td>\n",
              "      <td>1</td>\n",
              "    </tr>\n",
              "  </tbody>\n",
              "</table>\n",
              "</div>"
            ],
            "text/plain": [
              "   C1  C2  C3  C4  C5  C6  C7  C8  C9\n",
              "1   1   1   1   0   0   1   0   0   0\n",
              "2   1   1   0   1   0   0   0   1   0\n",
              "3   0   0   1   1   0   1   1   0   1\n",
              "4   1   0   1   0   1   1   1   1   1\n",
              "5   1   0   1   0   1   0   1   0   1\n",
              "6   0   1   1   1   0   1   0   1   0\n",
              "7   0   1   1   1   0   0   0   1   1"
            ]
          },
          "metadata": {
            "tags": []
          },
          "execution_count": 70
        }
      ]
    },
    {
      "cell_type": "code",
      "metadata": {
        "id": "SqQFq9kyD_E5",
        "colab": {
          "base_uri": "https://localhost:8080/"
        },
        "outputId": "1d18e110-fe23-42eb-ca61-962e502b0b1c"
      },
      "source": [
        "X"
      ],
      "execution_count": 71,
      "outputs": [
        {
          "output_type": "execute_result",
          "data": {
            "text/plain": [
              "array([[1, 1, 1, 0, 0, 1, 0, 0, 0],\n",
              "       [1, 1, 0, 1, 0, 0, 0, 1, 0],\n",
              "       [0, 0, 1, 1, 0, 1, 1, 0, 1],\n",
              "       [1, 0, 1, 0, 1, 1, 1, 1, 1],\n",
              "       [1, 0, 1, 0, 1, 0, 1, 0, 1],\n",
              "       [0, 1, 1, 1, 0, 1, 0, 1, 0],\n",
              "       [0, 1, 1, 1, 0, 0, 0, 1, 1]])"
            ]
          },
          "metadata": {
            "tags": []
          },
          "execution_count": 71
        }
      ]
    },
    {
      "cell_type": "markdown",
      "metadata": {
        "id": "VgT0mANLL4Nz"
      },
      "source": [
        "## Training the K-Means model on the dataset"
      ]
    },
    {
      "cell_type": "code",
      "metadata": {
        "id": "cjEfU6ZSMAPl"
      },
      "source": [
        "from sklearn.cluster import KMeans\n",
        "kmeans = KMeans(n_clusters = 3, init = 'k-means++')\n",
        "y_kmeans = kmeans.fit_predict(X)"
      ],
      "execution_count": 72,
      "outputs": []
    },
    {
      "cell_type": "code",
      "metadata": {
        "id": "eiTmzbjFEX34",
        "colab": {
          "base_uri": "https://localhost:8080/"
        },
        "outputId": "7e754e18-d074-47e6-d3ff-369ecc8501c2"
      },
      "source": [
        "y_kmeans"
      ],
      "execution_count": 73,
      "outputs": [
        {
          "output_type": "execute_result",
          "data": {
            "text/plain": [
              "array([1, 2, 0, 0, 0, 2, 2], dtype=int32)"
            ]
          },
          "metadata": {
            "tags": []
          },
          "execution_count": 73
        }
      ]
    },
    {
      "cell_type": "code",
      "metadata": {
        "id": "9dFla5WAIqeb"
      },
      "source": [
        "dataset[\"Cluster\"] = y_kmeans\n",
        "cluster_data = dataset.groupby(by = \"Cluster\").mean()\n",
        "cluster_data[\"Count\"] = [(dataset.Cluster[dataset.Cluster == 0]).count(),(dataset.Cluster[dataset.Cluster == 1]).count(),(dataset.Cluster[dataset.Cluster == 2]).count()]"
      ],
      "execution_count": 74,
      "outputs": []
    },
    {
      "cell_type": "code",
      "metadata": {
        "id": "s6aquExXI6Yf",
        "colab": {
          "base_uri": "https://localhost:8080/",
          "height": 173
        },
        "outputId": "ef37e9b5-2bf3-4f0e-fc9d-f1eff2ee963a"
      },
      "source": [
        "cluster_data"
      ],
      "execution_count": 75,
      "outputs": [
        {
          "output_type": "execute_result",
          "data": {
            "text/html": [
              "<div>\n",
              "<style scoped>\n",
              "    .dataframe tbody tr th:only-of-type {\n",
              "        vertical-align: middle;\n",
              "    }\n",
              "\n",
              "    .dataframe tbody tr th {\n",
              "        vertical-align: top;\n",
              "    }\n",
              "\n",
              "    .dataframe thead th {\n",
              "        text-align: right;\n",
              "    }\n",
              "</style>\n",
              "<table border=\"1\" class=\"dataframe\">\n",
              "  <thead>\n",
              "    <tr style=\"text-align: right;\">\n",
              "      <th></th>\n",
              "      <th>C1</th>\n",
              "      <th>C2</th>\n",
              "      <th>C3</th>\n",
              "      <th>C4</th>\n",
              "      <th>C5</th>\n",
              "      <th>C6</th>\n",
              "      <th>C7</th>\n",
              "      <th>C8</th>\n",
              "      <th>C9</th>\n",
              "      <th>Count</th>\n",
              "    </tr>\n",
              "    <tr>\n",
              "      <th>Cluster</th>\n",
              "      <th></th>\n",
              "      <th></th>\n",
              "      <th></th>\n",
              "      <th></th>\n",
              "      <th></th>\n",
              "      <th></th>\n",
              "      <th></th>\n",
              "      <th></th>\n",
              "      <th></th>\n",
              "      <th></th>\n",
              "    </tr>\n",
              "  </thead>\n",
              "  <tbody>\n",
              "    <tr>\n",
              "      <th>0</th>\n",
              "      <td>0.666667</td>\n",
              "      <td>0.0</td>\n",
              "      <td>1.000000</td>\n",
              "      <td>0.333333</td>\n",
              "      <td>0.666667</td>\n",
              "      <td>0.666667</td>\n",
              "      <td>1.0</td>\n",
              "      <td>0.333333</td>\n",
              "      <td>1.000000</td>\n",
              "      <td>3</td>\n",
              "    </tr>\n",
              "    <tr>\n",
              "      <th>1</th>\n",
              "      <td>1.000000</td>\n",
              "      <td>1.0</td>\n",
              "      <td>1.000000</td>\n",
              "      <td>0.000000</td>\n",
              "      <td>0.000000</td>\n",
              "      <td>1.000000</td>\n",
              "      <td>0.0</td>\n",
              "      <td>0.000000</td>\n",
              "      <td>0.000000</td>\n",
              "      <td>1</td>\n",
              "    </tr>\n",
              "    <tr>\n",
              "      <th>2</th>\n",
              "      <td>0.333333</td>\n",
              "      <td>1.0</td>\n",
              "      <td>0.666667</td>\n",
              "      <td>1.000000</td>\n",
              "      <td>0.000000</td>\n",
              "      <td>0.333333</td>\n",
              "      <td>0.0</td>\n",
              "      <td>1.000000</td>\n",
              "      <td>0.333333</td>\n",
              "      <td>3</td>\n",
              "    </tr>\n",
              "  </tbody>\n",
              "</table>\n",
              "</div>"
            ],
            "text/plain": [
              "               C1   C2        C3        C4  ...   C7        C8        C9  Count\n",
              "Cluster                                     ...                                \n",
              "0        0.666667  0.0  1.000000  0.333333  ...  1.0  0.333333  1.000000      3\n",
              "1        1.000000  1.0  1.000000  0.000000  ...  0.0  0.000000  0.000000      1\n",
              "2        0.333333  1.0  0.666667  1.000000  ...  0.0  1.000000  0.333333      3\n",
              "\n",
              "[3 rows x 10 columns]"
            ]
          },
          "metadata": {
            "tags": []
          },
          "execution_count": 75
        }
      ]
    },
    {
      "cell_type": "markdown",
      "metadata": {
        "id": "JyQbdE7ZjaU7"
      },
      "source": [
        "# b. Also, cluster students into two clusters as another solution"
      ]
    },
    {
      "cell_type": "markdown",
      "metadata": {
        "id": "twn3AfqmknpG"
      },
      "source": [
        "## Training the K-Means model on the dataset"
      ]
    },
    {
      "cell_type": "code",
      "metadata": {
        "id": "vBNuTjl1knpH"
      },
      "source": [
        "from sklearn.cluster import KMeans\n",
        "kmeans = KMeans(n_clusters = 2, init = 'k-means++')\n",
        "y_kmeans = kmeans.fit_predict(X)"
      ],
      "execution_count": 76,
      "outputs": []
    },
    {
      "cell_type": "code",
      "metadata": {
        "colab": {
          "base_uri": "https://localhost:8080/"
        },
        "id": "FNva1s-LknpI",
        "outputId": "9da47c96-af2e-438c-cd91-67dd100e075c"
      },
      "source": [
        "y_kmeans"
      ],
      "execution_count": 77,
      "outputs": [
        {
          "output_type": "execute_result",
          "data": {
            "text/plain": [
              "array([1, 1, 0, 0, 0, 1, 1], dtype=int32)"
            ]
          },
          "metadata": {
            "tags": []
          },
          "execution_count": 77
        }
      ]
    },
    {
      "cell_type": "code",
      "metadata": {
        "id": "1c4CfSb-knpJ"
      },
      "source": [
        "dataset[\"Cluster\"] = y_kmeans\n",
        "cluster_data = dataset.groupby(by = \"Cluster\").mean()\n",
        "cluster_data[\"Count\"] = [(dataset.Cluster[dataset.Cluster == 0]).count(),(dataset.Cluster[dataset.Cluster == 1]).count()]"
      ],
      "execution_count": 79,
      "outputs": []
    },
    {
      "cell_type": "code",
      "metadata": {
        "colab": {
          "base_uri": "https://localhost:8080/",
          "height": 142
        },
        "id": "i9KXgZCHknpL",
        "outputId": "3f911f13-66a0-41f1-e473-5b4f2901b082"
      },
      "source": [
        "cluster_data"
      ],
      "execution_count": 80,
      "outputs": [
        {
          "output_type": "execute_result",
          "data": {
            "text/html": [
              "<div>\n",
              "<style scoped>\n",
              "    .dataframe tbody tr th:only-of-type {\n",
              "        vertical-align: middle;\n",
              "    }\n",
              "\n",
              "    .dataframe tbody tr th {\n",
              "        vertical-align: top;\n",
              "    }\n",
              "\n",
              "    .dataframe thead th {\n",
              "        text-align: right;\n",
              "    }\n",
              "</style>\n",
              "<table border=\"1\" class=\"dataframe\">\n",
              "  <thead>\n",
              "    <tr style=\"text-align: right;\">\n",
              "      <th></th>\n",
              "      <th>C1</th>\n",
              "      <th>C2</th>\n",
              "      <th>C3</th>\n",
              "      <th>C4</th>\n",
              "      <th>C5</th>\n",
              "      <th>C6</th>\n",
              "      <th>C7</th>\n",
              "      <th>C8</th>\n",
              "      <th>C9</th>\n",
              "      <th>Count</th>\n",
              "    </tr>\n",
              "    <tr>\n",
              "      <th>Cluster</th>\n",
              "      <th></th>\n",
              "      <th></th>\n",
              "      <th></th>\n",
              "      <th></th>\n",
              "      <th></th>\n",
              "      <th></th>\n",
              "      <th></th>\n",
              "      <th></th>\n",
              "      <th></th>\n",
              "      <th></th>\n",
              "    </tr>\n",
              "  </thead>\n",
              "  <tbody>\n",
              "    <tr>\n",
              "      <th>0</th>\n",
              "      <td>0.666667</td>\n",
              "      <td>0.0</td>\n",
              "      <td>1.00</td>\n",
              "      <td>0.333333</td>\n",
              "      <td>0.666667</td>\n",
              "      <td>0.666667</td>\n",
              "      <td>1.0</td>\n",
              "      <td>0.333333</td>\n",
              "      <td>1.00</td>\n",
              "      <td>3</td>\n",
              "    </tr>\n",
              "    <tr>\n",
              "      <th>1</th>\n",
              "      <td>0.500000</td>\n",
              "      <td>1.0</td>\n",
              "      <td>0.75</td>\n",
              "      <td>0.750000</td>\n",
              "      <td>0.000000</td>\n",
              "      <td>0.500000</td>\n",
              "      <td>0.0</td>\n",
              "      <td>0.750000</td>\n",
              "      <td>0.25</td>\n",
              "      <td>4</td>\n",
              "    </tr>\n",
              "  </tbody>\n",
              "</table>\n",
              "</div>"
            ],
            "text/plain": [
              "               C1   C2    C3        C4  ...   C7        C8    C9  Count\n",
              "Cluster                                 ...                            \n",
              "0        0.666667  0.0  1.00  0.333333  ...  1.0  0.333333  1.00      3\n",
              "1        0.500000  1.0  0.75  0.750000  ...  0.0  0.750000  0.25      4\n",
              "\n",
              "[2 rows x 10 columns]"
            ]
          },
          "metadata": {
            "tags": []
          },
          "execution_count": 80
        }
      ]
    },
    {
      "cell_type": "markdown",
      "metadata": {
        "id": "fFIa7qtYlMHi"
      },
      "source": [
        "# 3. Compare your two resilts from 1 b and 2 b"
      ]
    },
    {
      "cell_type": "markdown",
      "metadata": {
        "id": "kzXVVv62lOwv"
      },
      "source": [
        "### 1 b:\r\n",
        "*   Student 1 is most simmer to Student b who is in top similarity\r\n",
        "\r\n",
        "### 2 b:\r\n",
        "*   Students clustered in two groups 1st cluster contain three students *   2nd contains four students"
      ]
    }
  ]
}